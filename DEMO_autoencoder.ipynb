{
 "cells": [
  {
   "cell_type": "code",
   "execution_count": 1,
   "metadata": {
    "collapsed": false,
    "deletable": true,
    "editable": true
   },
   "outputs": [
    {
     "name": "stdout",
     "output_type": "stream",
     "text": [
      "Reading file, speed:  2298763.942165669  words/s\n",
      "Reading file, speed:  2211358.7271426455  words/s\n",
      "Corpus initalized, fields: ['hun_lower_unique'] \n",
      "Unique words:  214708\n",
      "(46627, 380)\n"
     ]
    }
   ],
   "source": [
    "%matplotlib inline\n",
    "import tensorflow as tf\n",
    "from vahun.corpus import Corpus\n",
    "import numpy as np\n",
    "from vahun.tools import Timer\n",
    "from vahun.tools import explog\n",
    "from vahun.autoencoder import Autoencoder_ffnn\n",
    "from vahun.genetic import evolution\n",
    "from vahun.genetic import experiment\n",
    "from vahun.tools import show_performance\n",
    "\n",
    "encode=180\n",
    "dictsize=2000000\n",
    "popsize=1\n",
    "\n",
    "\n",
    "config = tf.ConfigProto()\n",
    "config.gpu_options.allow_growth = True\n",
    "#config.gpu_options.per_process_gpu_memory_fraction=1\n",
    "corp_path='/mnt/permanent/Language/Hungarian/Corp/Webkorpusz/webkorpusz.wpl'\n",
    "corp=Corpus(corpus_path=corp_path,\n",
    "            needed_corpus=[\"hun_lower_unique\"],\n",
    "            language=\"Hun\",size=dictsize,encoding_len=10)\n",
    "#database=corp.hun_lower_unique\n",
    "database=corp.mark_list(corp.hun_lower_unique)\n",
    "all_features=corp.featurize_data_charlevel_onehot(database)\n",
    "train=all_features[0:int(len(all_features)*0.8)]\n",
    "test=all_features[int(len(all_features)*0.8):len(all_features)]\n",
    "x_train = train.reshape((len(train), np.prod(train.shape[1:])))\n",
    "x_test = test.reshape((len(test), np.prod(test.shape[1:])))\n",
    "print(x_train.shape)\n",
    "\n",
    "logger=explog(encoder_type=\"Demo_\"+str(encode),\n",
    "              encoding_dim=encode,feature_len=10,\n",
    "              lang=\"Hun\",unique_words=len(set(database)),\n",
    "              name=\"auto_demo_uni\"+str(encode),population_size=popsize,\n",
    "              words=len(corp.hun_lower_unique))\n",
    "\n",
    "config = tf.ConfigProto()\n",
    "config.gpu_options.allow_growth = True\n",
    "sess = tf.Session(config=config)\n",
    "\n",
    "exp=experiment(encoded_width=10,layermax=10,layermin=2,maxw=10,minw=3,out_dim=380)\n",
    "#exp.weights=[348, 254, 10, 254, 348, 360]\n",
    "exp.weights=[encode, 380]\n",
    "exp.len=len(exp.weights)"
   ]
  },
  {
   "cell_type": "code",
   "execution_count": 2,
   "metadata": {
    "collapsed": false,
    "deletable": true,
    "editable": true
   },
   "outputs": [],
   "source": [
    "encoder=Autoencoder_ffnn(experiment=exp,\n",
    "                 logger=logger,tf_session=sess,\n",
    "                 inputdim=380,\n",
    "                 layerlist=exp.weights,\n",
    "                 encode_index=int(exp.len/2),\n",
    "                 optimizer =tf.train.AdamOptimizer(learning_rate = 0.001),\n",
    "                 nonlinear=tf.sigmoid)"
   ]
  },
  {
   "cell_type": "code",
   "execution_count": 3,
   "metadata": {
    "collapsed": false,
    "deletable": true,
    "editable": true
   },
   "outputs": [],
   "source": [
    "encoder.train(x_train,x_test,512,80)"
   ]
  },
  {
   "cell_type": "code",
   "execution_count": 4,
   "metadata": {
    "collapsed": false,
    "deletable": true,
    "editable": true
   },
   "outputs": [],
   "source": [
    "stds=show_performance(encoder,x_test,corp,100,printer=False)"
   ]
  },
  {
   "cell_type": "code",
   "execution_count": 5,
   "metadata": {
    "collapsed": false,
    "deletable": true,
    "editable": true,
    "scrolled": true
   },
   "outputs": [
    {
     "name": "stdout",
     "output_type": "stream",
     "text": [
      "      ^eh$ \t       ^em$ \t 1\n",
      "  ^kecske$ \t   ^kecske$ \t 0\n",
      "     kutya \t      kuty$ \t 1\n",
      "     aytuk \t      aytt$ \t 2\n",
      "    macska \t     macsk$ \t 1\n",
      " árvíztűrő \t  ^rvíztür$ \t 3\n",
      "      fúró \t       ^ir$ \t 3\n",
      "     kacsa \t      kacs$ \t 1\n",
      "         a \t       ^át$ \t 4\n",
      "        és \t       ^ké$ \t 3\n",
      "\n",
      "Accuracy on data:  81.0 %\n",
      "average Levenshtein distance:  1.9\n"
     ]
    }
   ],
   "source": [
    "std=show_performance(encoder,[\"^eh$\",\"^kecske$\",\"kutya\",\"aytuk\",\"macska\",\"árvíztűrő\",\"fúró\",\"kacsa\",\"a\",\"és\"],corp,printer=True)"
   ]
  },
  {
   "cell_type": "code",
   "execution_count": 6,
   "metadata": {
    "collapsed": false,
    "deletable": true,
    "editable": true
   },
   "outputs": [],
   "source": [
    "def decode_critical(lista,enc=180):\n",
    "    for POS in lista:\n",
    "        encoded=np.ones(enc)*-10\n",
    "        encoded[POS]=10\n",
    "        a=encoder.decode([encoded])[0].reshape([10,36])\n",
    "        b=corp.defeaturize_data_charlevel_onehot([a])\n",
    "        print(b)"
   ]
  },
  {
   "cell_type": "code",
   "execution_count": 7,
   "metadata": {
    "collapsed": false,
    "deletable": true,
    "editable": true
   },
   "outputs": [
    {
     "name": "stdout",
     "output_type": "stream",
     "text": [
      "[['^tapolcai$'], ['^tapolcai$'], ['^tapolcai$'], ['^tapolcai$'], ['^tapolcai$'], [' tapolcei$']]\n",
      "[[' ^nyitnod$'], [' ^nyitnod$'], [' ^nyitnod$'], [' ^nyitnod$'], [' ^nyitnod$'], [' ^nyitnod$']]\n",
      "[['  ^bottal$'], ['  ^bottal$'], ['  ^bottal$'], ['  ^bottal$'], ['  ^bottal$'], [' ^^bottel$']]\n",
      "[[' ^helyzet$'], [' ^helyzet$'], [' ^helyzet$'], [' ^helyzet$'], [' ^helyzet$'], [' ^helyzet$']]\n",
      "[['   ^alkut$'], ['   ^alkut$'], ['   ^alkut$'], ['   ^alkut$'], ['   ^alkut$'], ['   ^alkut$']]\n",
      "[['^kurátora$'], ['^kurátora$'], ['^kurátora$'], ['^kurátora$'], ['^kurátora$'], [' kurátora$']]\n",
      "[['   ^abdel$'], ['   ^abdel$'], ['   ^abdel$'], ['   ^abdel$'], ['   ^abdel$'], ['   ^abdel$']]\n",
      "[['^röhögünk$'], ['^röhögünk$'], ['^röhögünk$'], ['^röhögünk$'], ['^röhögünk$'], [' röhögünk$']]\n",
      "[[' ^piacain$'], [' ^piacain$'], [' ^piacain$'], [' ^piacain$'], [' ^piacain$'], [' ^piacaen$']]\n",
      "[[' ^behajtó$'], [' ^behajtó$'], [' ^behajtó$'], [' ^behajtó$'], [' ^behajtó$'], [' ^behajtó$']]\n",
      "[[' ^rosszul$'], [' ^rosszul$'], [' ^rosszul$'], [' ^rosszul$'], [' ^rosszul$'], [' ^rosszul$']]\n",
      "[['^nassolás$'], ['^naslolás$'], ['^nassotás$'], ['^nassolás$'], ['^nassolás$'], [' ^assolás$']]\n",
      "[[' ^érvelés$'], [' ^érvelés$'], [' ^érvetés$'], [' ^érvelés$'], [' ^érvelés$'], [' ^érvelés$']]\n",
      "[['  ^cselló$'], ['  ^cselló$'], ['  ^csetló$'], ['  ^cselló$'], ['  ^cselló$'], ['  ^cselló$']]\n",
      "[[' ^nevelni$'], [' ^nevelni$'], [' ^nevetta$'], [' ^nevelni$'], [' ^nevelni$'], [' ^nevelni$']]\n",
      "[['^négyszáz$'], ['^négyszáz$'], ['^négyszáz$'], ['^négyszáz$'], ['^négyszáz$'], [' ^égyszáz$']]\n",
      "[[' ^töltsön$'], [' ^töltsön$'], [' ^töltstn$'], [' ^töltsön$'], [' ^töltsön$'], [' ^töltsen$']]\n",
      "[['      ^él$'], ['      ^él$'], ['      ^él$'], ['      ^él$'], ['      ^él$'], ['      ^el$']]\n",
      "[['  ^themis$'], ['  ^themis$'], ['  ^themis$'], ['  ^themis$'], ['  ^themis$'], [' ^^themes$']]\n",
      "[[' ^nyitány$'], [' ^nyitány$'], [' ^nyitáty$'], [' ^nyitány$'], [' ^nyitány$'], [' ^nyitány$']]\n",
      "[[' ^mobilom$'], [' ^mobilom$'], [' ^mobittm$'], [' ^mobilom$'], [' ^mobilom$'], [' ^mobilom$']]\n",
      "[[' ^gurujai$'], [' ^gurujai$'], [' ^gurujaa$'], [' ^gurujai$'], [' ^gurujai$'], [' ^gurujei$']]\n",
      "[['^prágában$'], ['^prágában$'], ['^prágában$'], ['^prágában$'], ['^prágában$'], [' ^rágáben$']]\n",
      "[['^érlelték$'], ['^ rlelték$'], ['^érlelték$'], ['^^rlelték$'], ['^rrlelték$'], [' ^rleltek$']]\n",
      "[['^fölvette$'], ['^fölvette$'], ['^fölvette$'], ['^fölvette$'], ['^fölvette$'], [' fölvetee$']]\n",
      "[[' ^lapokon$'], [' ^lapokon$'], [' ^lapokon$'], [' ^lapokon$'], [' ^lapokon$'], [' ^lapokon$']]\n",
      "[[' ^apjával$'], [' ^apjával$'], [' ^apjával$'], [' ^apjával$'], [' ^apjával$'], [' ^apjável$']]\n",
      "[['     ^elt$'], ['     ^eló$'], ['     ^eln$'], ['     ^eln$'], ['     ^elz$'], ['     ^ela$']]\n",
      "[['  ^légtér$'], ['  ^légtér$'], ['  ^légtér$'], ['  ^légtér$'], ['  ^légtér$'], [' ^^légter$']]\n",
      "[[' ^romuald$'], [' ^romuald$'], [' ^romuald$'], [' ^romuald$'], [' ^romuald$'], [' ^romuald$']]\n",
      "[[' ^mennyen$'], [' ^mennyen$'], [' ^mennyen$'], [' ^mennyen$'], [' ^mennyen$'], [' ^mennyen$']]\n",
      "[['^pasasban$'], ['^pasasban$'], ['^pasasban$'], ['^pasasban$'], ['^pasasban$'], [' ^asasben$']]\n",
      "[['  ^ésszel$'], ['  ^ésszel$'], ['  ^ésszel$'], ['  ^ésszel$'], ['  ^ésszel$'], ['  ^ésszel$']]\n",
      "[['   ^tihon$'], ['   ^tihon$'], ['   ^tihon$'], ['   ^tihon$'], ['   ^tihon$'], ['   ^tihon$']]\n",
      "[['^ipacspán$'], ['^ipacsdán$'], ['^ipacstán$'], ['^ipacsián$'], ['^ipacsőán$'], ['^^pacsoán$']]\n",
      "[['  ^kapunk$'], ['  ^kapunk$'], ['  ^kapunk$'], ['  ^kapunk$'], ['  ^kapunk$'], [' ^^kapunk$']]\n",
      "[['  ^nívója$'], ['  ^nívója$'], ['  ^nívója$'], ['  ^nívója$'], ['  ^nívója$'], [' ^^nívója$']]\n",
      "[[' ^burálta$'], [' ^bgrálta$'], [' ^birálta$'], [' ^burálta$'], [' ^btrálta$'], [' ^b^rálta$']]\n",
      "[['^kezemnek$'], ['^kezemnek$'], ['^kezemnek$'], ['^kezemnek$'], ['^kezemnek$'], ['^kezemnek$']]\n",
      "[['  ^sziksz$'], ['  ^sziksz$'], ['  ^sziksz$'], ['  ^sziksz$'], ['  ^sziksz$'], [' ^^sziksz$']]\n",
      "[[' ^élőlény$'], [' ^élőlény$'], [' ^élőléty$'], [' ^élőlény$'], [' ^élőlény$'], [' ^élőlény$']]\n",
      "[['  ^tudati$'], ['  ^tudati$'], ['  ^tudati$'], ['  ^tudati$'], ['  ^tudati$'], [' ^^tudaei$']]\n",
      "[['^betartva$'], ['^betartva$'], ['^betartva$'], ['^betartva$'], ['^betartva$'], ['^betartva$']]\n",
      "[['  ^sflyuk$'], ['  ^sllyuk$'], ['  ^selyuk$'], ['  ^sllyuk$'], ['  ^sjlyuk$'], [' ^^snlyuk$']]\n",
      "[['  ^elégne$'], ['  ^elégne$'], ['  ^elégne$'], ['  ^elégne$'], ['  ^elégne$'], ['  ^elégne$']]\n",
      "[['^adhattam$'], ['^adhattam$'], ['^adhattam$'], ['^adhattam$'], ['^adhattam$'], [' adhattem$']]\n",
      "[['   ^dugók$'], ['   ^dugók$'], ['  ^^dugók$'], ['   ^dugók$'], ['   ^dugók$'], ['   ^dugók$']]\n",
      "[['^rákérdez$'], ['^rákérdez$'], ['^rákérdez$'], ['^rákérdez$'], ['^rákérdez$'], [' rákérdez$']]\n",
      "[['    ^cink$'], ['    ^cink$'], ['    ^cink$'], ['    ^cink$'], ['    ^cink$'], ['    ^cink$']]\n",
      "[['  ^ragáts$'], ['  ^ragáts$'], ['  ^ragáts$'], ['  ^ragáts$'], ['  ^ragáts$'], [' ^ ragáes$']]\n"
     ]
    }
   ],
   "source": [
    "import heapq\n",
    "topstd=heapq.nlargest(6, range(len(stds)), stds.__getitem__)\n",
    "big_stuff=[]\n",
    "for i in range(50):\n",
    "    big_stuff.append([])\n",
    "    for topind in topstd:\n",
    "        a=encoder.encode([x_test[i]])\n",
    "        a[0][topind]=2\n",
    "        b=encoder.decode([a[0]])[0].reshape([10,38])\n",
    "        c=corp.defeaturize_data_charlevel_onehot([b])\n",
    "        big_stuff[i].append(c)\n",
    "for row in big_stuff:\n",
    "    print(row)"
   ]
  },
  {
   "cell_type": "code",
   "execution_count": null,
   "metadata": {
    "collapsed": false,
    "deletable": true,
    "editable": true
   },
   "outputs": [],
   "source": []
  }
 ],
 "metadata": {
  "anaconda-cloud": {},
  "kernelspec": {
   "display_name": "Python 3",
   "language": "python",
   "name": "python3"
  },
  "language_info": {
   "codemirror_mode": {
    "name": "ipython",
    "version": 3
   },
   "file_extension": ".py",
   "mimetype": "text/x-python",
   "name": "python",
   "nbconvert_exporter": "python",
   "pygments_lexer": "ipython3",
   "version": "3.4.2"
  }
 },
 "nbformat": 4,
 "nbformat_minor": 2
}
