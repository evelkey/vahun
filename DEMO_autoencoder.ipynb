{
 "cells": [
  {
   "cell_type": "code",
   "execution_count": 1,
   "metadata": {
    "collapsed": false,
    "deletable": true,
    "editable": true
   },
   "outputs": [
    {
     "name": "stdout",
     "output_type": "stream",
     "text": [
      "Reading file, speed:  2265034.0594525645  words/s\n",
      "Reading file, speed:  2184129.496889898  words/s\n",
      "Corpus initalized, fields: ['hun_lower_unique'] \n",
      "Unique words:  214708\n",
      "(46627, 380)\n"
     ]
    }
   ],
   "source": [
    "%matplotlib inline\n",
    "import tensorflow as tf\n",
    "from vahun.corpus import Corpus\n",
    "import numpy as np\n",
    "from vahun.tools import Timer\n",
    "from vahun.tools import explog\n",
    "from vahun.autoencoder import Autoencoder_ffnn\n",
    "from vahun.genetic import evolution\n",
    "from vahun.genetic import experiment\n",
    "from vahun.tools import show_performance\n",
    "\n",
    "encode=180\n",
    "dictsize=2000000\n",
    "popsize=1\n",
    "\n",
    "\n",
    "config = tf.ConfigProto()\n",
    "config.gpu_options.allow_growth = True\n",
    "#config.gpu_options.per_process_gpu_memory_fraction=1\n",
    "corp_path='/mnt/permanent/Language/Hungarian/Corp/Webkorpusz/webkorpusz.wpl'\n",
    "corp=Corpus(corpus_path=corp_path,\n",
    "            needed_corpus=[\"hun_lower_unique\"],\n",
    "            language=\"Hun\",size=dictsize,encoding_len=10)\n",
    "#database=corp.hun_lower_unique\n",
    "database=corp.mark_list(corp.hun_lower_unique)\n",
    "all_features=corp.featurize_data_charlevel_onehot(database)\n",
    "train=all_features[0:int(len(all_features)*0.8)]\n",
    "test=all_features[int(len(all_features)*0.8):len(all_features)]\n",
    "x_train = train.reshape((len(train), np.prod(train.shape[1:])))\n",
    "x_test = test.reshape((len(test), np.prod(test.shape[1:])))\n",
    "print(x_train.shape)\n",
    "\n",
    "logger=explog(encoder_type=\"Demo_\"+str(encode),\n",
    "              encoding_dim=encode,feature_len=10,\n",
    "              lang=\"Hun\",unique_words=len(set(database)),\n",
    "              name=\"auto_demo_uni\"+str(encode),population_size=popsize,\n",
    "              words=len(corp.hun_lower_unique))\n",
    "\n",
    "config = tf.ConfigProto()\n",
    "config.gpu_options.allow_growth = True\n",
    "sess = tf.Session(config=config)\n",
    "\n",
    "exp=experiment(encoded_width=10,layermax=10,layermin=2,maxw=10,minw=3,out_dim=380)\n",
    "#exp.weights=[348, 254, 10, 254, 348, 360]\n",
    "exp.weights=[encode, 380]\n",
    "exp.len=len(exp.weights)"
   ]
  },
  {
   "cell_type": "code",
   "execution_count": 2,
   "metadata": {
    "collapsed": false,
    "deletable": true,
    "editable": true
   },
   "outputs": [],
   "source": [
    "encoder=Autoencoder_ffnn(experiment=exp,\n",
    "                 logger=logger,tf_session=sess,\n",
    "                 inputdim=380,\n",
    "                 layerlist=exp.weights,\n",
    "                 encode_index=int(exp.len/2),\n",
    "                 optimizer =tf.train.AdamOptimizer(learning_rate = 0.001),\n",
    "                 nonlinear=tf.sigmoid)"
   ]
  },
  {
   "cell_type": "code",
   "execution_count": 3,
   "metadata": {
    "collapsed": false,
    "deletable": true,
    "editable": true
   },
   "outputs": [],
   "source": [
    "encoder.train(x_train,x_test,512,80)"
   ]
  },
  {
   "cell_type": "code",
   "execution_count": 4,
   "metadata": {
    "collapsed": false,
    "deletable": true,
    "editable": true
   },
   "outputs": [
    {
     "name": "stdout",
     "output_type": "stream",
     "text": [
      "^újitanak$ \t ^éditanak$\n",
      "^vértelen$ \t ^vértelen$\n",
      "  ^végébe$ \t   ^végébe$\n",
      "   ^marék$ \t    ^marék$\n",
      "^hajóútra$ \t ^hajóútra$\n",
      " ^nótának$ \t  ^nytának$\n",
      " ^köponti$ \t  ^köponti$\n",
      " ^fórumra$ \t  ^fórumra$\n",
      "^egységes$ \t ^egységes$\n",
      " ^védelem$ \t  ^védelem$\n",
      " ^avattak$ \t  ^avattak$\n",
      " ^pozsgay$ \t  ^pozsgay$\n",
      " ^vennénk$ \t  ^vennénk$\n",
      "^gyanússá$ \t ^nyaníssé$\n",
      "  ^fejben$ \t   ^fejben$\n",
      "^adalékok$ \t ^adalékok$\n",
      "  ^jászka$ \t   ^jászka$\n",
      "^metódust$ \t ^metódust$\n",
      "^ambíciói$ \t ^ambíciói$\n",
      "^tengődni$ \t ^tengődni$\n",
      "  ^takony$ \t   ^takony$\n",
      " ^dizájnt$ \t  ^dizájnt$\n",
      "^csőrével$ \t ^csőrével$\n",
      "   ^kémli$ \t    ^kémli$\n",
      "^virágunk$ \t ^virágunk$\n",
      "^pázmándi$ \t ^pázmándi$\n",
      "  ^hívjon$ \t   ^hívjon$\n",
      "^antalhoz$ \t ^antalhoz$\n",
      "   ^tonna$ \t    ^tonna$\n",
      "  ^védője$ \t   ^védője$\n",
      "   ^fotót$ \t    ^fotót$\n",
      " ^veszíti$ \t  ^veszíti$\n",
      "^siratlak$ \t ^siratlak$\n",
      " ^pisilés$ \t  ^pisilés$\n",
      "  ^takács$ \t   ^takács$\n",
      "^epidurál$ \t ^epidurál$\n",
      "   ^kitti$ \t    ^kitti$\n",
      "   ^okádó$ \t    ^okádó$\n",
      "  ^cingár$ \t   ^cingár$\n",
      "  ^vojnik$ \t   ^vojnik$\n",
      "^golgotán$ \t ^golgotán$\n",
      " ^éreznék$ \t  ^éreznék$\n",
      "  ^sztori$ \t   ^sztori$\n",
      " ^bosszúk$ \t  ^bosszük$\n",
      " ^önélező$ \t  ^önélező$\n",
      "     ^mll$ \t      ^mll$\n",
      " ^csontig$ \t  ^csontig$\n",
      " ^fedezed$ \t  ^fedezed$\n",
      " ^repedni$ \t  ^repedni$\n",
      "  ^rónayt$ \t   ^rónayt$\n",
      "   ^hibás$ \t    ^hibás$\n",
      "  ^fedett$ \t   ^fedett$\n",
      " ^lányait$ \t  ^lányait$\n",
      "   ^túlél$ \t    ^túlél$\n",
      "   ^birpi$ \t    ^birgi$\n",
      "  ^neogót$ \t   ^neogót$\n",
      "^kajaadag$ \t ^kajaadag$\n",
      "   ^nézők$ \t    ^nézők$\n",
      "^vezeklés$ \t ^vezeklés$\n",
      "^kutyusok$ \t ^kutyusok$\n",
      " ^udvarán$ \t  ^udvarán$\n",
      "^hódítási$ \t ^hídítási$\n",
      "  ^betlen$ \t   ^betlen$\n",
      "^felettes$ \t ^felettes$\n",
      "^tervekbe$ \t ^tervekbe$\n",
      " ^dolgozo$ \t  ^dolgozl$\n",
      " ^kerékbe$ \t  ^kerékbe$\n",
      "^megóvott$ \t ^megóvott$\n",
      " ^lábában$ \t  ^lábában$\n",
      "   ^hatol$ \t    ^hatol$\n",
      "      ^ha$ \t       ^ma$\n",
      "^megütése$ \t ^megütése$\n",
      "  ^grecsó$ \t   ^grecsó$\n",
      "    ^kata$ \t     ^kata$\n",
      " ^suttogó$ \t  ^suttogó$\n",
      "  ^sikkes$ \t   ^sikkes$\n",
      "^merénylő$ \t ^merénylő$\n",
      " ^látnoki$ \t  ^látnoki$\n",
      " ^lábukat$ \t  ^lábukat$\n",
      "  ^rajzon$ \t   ^rajzon$\n",
      "^csikorgó$ \t ^csikorgó$\n",
      " ^érdemen$ \t  ^érdemen$\n",
      "   ^fotón$ \t    ^fotón$\n",
      " ^pörkölt$ \t  ^pörkölt$\n",
      "^felemeli$ \t ^felemeli$\n",
      "  ^késtél$ \t   ^késtél$\n",
      "^parkolás$ \t ^parkolás$\n",
      " ^vesszők$ \t  ^vesszők$\n",
      "^szállító$ \t ^szállító$\n",
      "  ^ligája$ \t   ^ligája$\n",
      " ^izmaira$ \t  ^izmaira$\n",
      "  ^díszít$ \t   ^díszüt$\n",
      "^papságán$ \t ^papságán$\n",
      " ^fejezze$ \t  ^fejezze$\n",
      "     ^bkm$ \t      ^bkm$\n",
      "^megennék$ \t ^megennék$\n",
      "^kinevezi$ \t ^kinevezi$\n",
      "  ^folyói$ \t   ^folyói$\n",
      "^megmosni$ \t ^megmosni$\n",
      " ^euróban$ \t  ^euróban$\n",
      "\n",
      "Accuracy on data:  98.62914986703268 %\n"
     ]
    },
    {
     "data": {
      "image/png": "[encoded data removed]",
      "text/plain": [
       "<matplotlib.figure.Figure at 0x7f767d7736d8>"
      ]
     },
     "metadata": {},
     "output_type": "display_data"
    }
   ],
   "source": [
    "stds=show_performance(encoder,x_test,corp,100,printer=True)"
   ]
  },
  {
   "cell_type": "code",
   "execution_count": 8,
   "metadata": {
    "collapsed": false,
    "deletable": true,
    "editable": true,
    "scrolled": true
   },
   "outputs": [
    {
     "name": "stdout",
     "output_type": "stream",
     "text": [
      "        eh \t       ^ue$\n",
      "    kecske \t     kecsk$\n",
      "     kutya \t      kuty$\n",
      "     aytuk \t      aytó$\n",
      "    macska \t     macsk$\n",
      " árvíztűrő \t  ^rvíztőr$\n",
      "      fúró \t       ^ár$\n",
      "     kacsa \t      kacs$\n",
      "         a \t       ^vk$\n",
      "        és \t       ^vé$\n",
      "\n",
      "Accuracy on data:  78.0 %\n"
     ]
    },
    {
     "data": {
      "image/png": "[encoded data removed]",
      "text/plain": [
       "<matplotlib.figure.Figure at 0x7f767d6cfa20>"
      ]
     },
     "metadata": {},
     "output_type": "display_data"
    }
   ],
   "source": [
    "std=show_performance(encoder,[\"eh\",\"kecske\",\"kutya\",\"aytuk\",\"macska\",\"árvíztűrő\",\"fúró\",\"kacsa\",\"a\",\"és\"],corp,printer=True)"
   ]
  },
  {
   "cell_type": "code",
   "execution_count": 6,
   "metadata": {
    "collapsed": false,
    "deletable": true,
    "editable": true
   },
   "outputs": [],
   "source": [
    "def decode_critical(lista,enc=180):\n",
    "    for POS in lista:\n",
    "        encoded=np.ones(enc)*-10\n",
    "        encoded[POS]=10\n",
    "        a=encoder.decode([encoded])[0].reshape([10,36])\n",
    "        b=corp.defeaturize_data_charlevel_onehot([a])\n",
    "        print(b)"
   ]
  },
  {
   "cell_type": "code",
   "execution_count": 7,
   "metadata": {
    "collapsed": false,
    "deletable": true,
    "editable": true
   },
   "outputs": [
    {
     "ename": "ValueError",
     "evalue": "cannot reshape array of size 380 into shape (10,36)",
     "output_type": "error",
     "traceback": [
      "\u001b[0;31m---------------------------------------------------------------------------\u001b[0m",
      "\u001b[0;31mValueError\u001b[0m                                Traceback (most recent call last)",
      "\u001b[0;32m<ipython-input-7-1e1804307791>\u001b[0m in \u001b[0;36m<module>\u001b[0;34m()\u001b[0m\n\u001b[1;32m      7\u001b[0m         \u001b[0ma\u001b[0m\u001b[0;34m=\u001b[0m\u001b[0mencoder\u001b[0m\u001b[0;34m.\u001b[0m\u001b[0mencode\u001b[0m\u001b[0;34m(\u001b[0m\u001b[0;34m[\u001b[0m\u001b[0mx_test\u001b[0m\u001b[0;34m[\u001b[0m\u001b[0mi\u001b[0m\u001b[0;34m]\u001b[0m\u001b[0;34m]\u001b[0m\u001b[0;34m)\u001b[0m\u001b[0;34m\u001b[0m\u001b[0m\n\u001b[1;32m      8\u001b[0m         \u001b[0ma\u001b[0m\u001b[0;34m[\u001b[0m\u001b[0;36m0\u001b[0m\u001b[0;34m]\u001b[0m\u001b[0;34m[\u001b[0m\u001b[0mtopind\u001b[0m\u001b[0;34m]\u001b[0m\u001b[0;34m=\u001b[0m\u001b[0;36m2\u001b[0m\u001b[0;34m\u001b[0m\u001b[0m\n\u001b[0;32m----> 9\u001b[0;31m         \u001b[0mb\u001b[0m\u001b[0;34m=\u001b[0m\u001b[0mencoder\u001b[0m\u001b[0;34m.\u001b[0m\u001b[0mdecode\u001b[0m\u001b[0;34m(\u001b[0m\u001b[0;34m[\u001b[0m\u001b[0ma\u001b[0m\u001b[0;34m[\u001b[0m\u001b[0;36m0\u001b[0m\u001b[0;34m]\u001b[0m\u001b[0;34m]\u001b[0m\u001b[0;34m)\u001b[0m\u001b[0;34m[\u001b[0m\u001b[0;36m0\u001b[0m\u001b[0;34m]\u001b[0m\u001b[0;34m.\u001b[0m\u001b[0mreshape\u001b[0m\u001b[0;34m(\u001b[0m\u001b[0;34m[\u001b[0m\u001b[0;36m10\u001b[0m\u001b[0;34m,\u001b[0m\u001b[0;36m36\u001b[0m\u001b[0;34m]\u001b[0m\u001b[0;34m)\u001b[0m\u001b[0;34m\u001b[0m\u001b[0m\n\u001b[0m\u001b[1;32m     10\u001b[0m         \u001b[0mc\u001b[0m\u001b[0;34m=\u001b[0m\u001b[0mcorp\u001b[0m\u001b[0;34m.\u001b[0m\u001b[0mdefeaturize_data_charlevel_onehot\u001b[0m\u001b[0;34m(\u001b[0m\u001b[0;34m[\u001b[0m\u001b[0mb\u001b[0m\u001b[0;34m]\u001b[0m\u001b[0;34m)\u001b[0m\u001b[0;34m\u001b[0m\u001b[0m\n\u001b[1;32m     11\u001b[0m         \u001b[0mbig_stuff\u001b[0m\u001b[0;34m[\u001b[0m\u001b[0mi\u001b[0m\u001b[0;34m]\u001b[0m\u001b[0;34m.\u001b[0m\u001b[0mappend\u001b[0m\u001b[0;34m(\u001b[0m\u001b[0mc\u001b[0m\u001b[0;34m)\u001b[0m\u001b[0;34m\u001b[0m\u001b[0m\n",
      "\u001b[0;31mValueError\u001b[0m: cannot reshape array of size 380 into shape (10,36)"
     ]
    }
   ],
   "source": [
    "import heapq\n",
    "topstd=heapq.nlargest(6, range(len(stds)), stds.__getitem__)\n",
    "big_stuff=[]\n",
    "for i in range(50):\n",
    "    big_stuff.append([])\n",
    "    for topind in topstd:\n",
    "        a=encoder.encode([x_test[i]])\n",
    "        a[0][topind]=2\n",
    "        b=encoder.decode([a[0]])[0].reshape([10,36])\n",
    "        c=corp.defeaturize_data_charlevel_onehot([b])\n",
    "        big_stuff[i].append(c)\n",
    "for row in big_stuff:\n",
    "    print(row)"
   ]
  },
  {
   "cell_type": "code",
   "execution_count": null,
   "metadata": {
    "collapsed": false,
    "deletable": true,
    "editable": true
   },
   "outputs": [],
   "source": []
  }
 ],
 "metadata": {
  "anaconda-cloud": {},
  "kernelspec": {
   "display_name": "Python 3",
   "language": "python",
   "name": "python3"
  },
  "language_info": {
   "codemirror_mode": {
    "name": "ipython",
    "version": 3
   },
   "file_extension": ".py",
   "mimetype": "text/x-python",
   "name": "python",
   "nbconvert_exporter": "python",
   "pygments_lexer": "ipython3",
   "version": "3.4.2"
  }
 },
 "nbformat": 4,
 "nbformat_minor": 2
}
