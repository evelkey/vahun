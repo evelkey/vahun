{
 "cells": [
  {
   "cell_type": "code",
   "execution_count": 1,
   "metadata": {
    "collapsed": false,
    "deletable": true,
    "editable": true
   },
   "outputs": [
    {
     "name": "stdout",
     "output_type": "stream",
     "text": [
      "Corpus initalized, fields: ['hun_lower'] \n",
      "Unique words:  43509\n",
      "(102731, 360)\n"
     ]
    }
   ],
   "source": [
    "%matplotlib inline\n",
    "import tensorflow as tf\n",
    "from vahun.corpus import Corpus\n",
    "import numpy as np\n",
    "from vahun.tools import Timer\n",
    "from vahun.tools import explog\n",
    "from vahun.autoencoder import Autoencoder_ffnn\n",
    "from vahun.genetic import evolution\n",
    "from vahun.genetic import experiment\n",
    "from vahun.tools import show_performance\n",
    "\n",
    "encode=10\n",
    "dictsize=200000\n",
    "popsize=1\n",
    "\n",
    "\n",
    "config = tf.ConfigProto()\n",
    "config.gpu_options.allow_growth = True\n",
    "#config.gpu_options.per_process_gpu_memory_fraction=1\n",
    "corp_path='/home/velkey/corp/webkorpusz.wpl'\n",
    "corp=Corpus(corpus_path=corp_path,\n",
    "            needed_corpus=[\"hun_lower\"],\n",
    "            language=\"Hun\",size=dictsize,encoding_len=10)\n",
    "database=corp.hun_lower\n",
    "all_features=corp.featurize_data_charlevel_onehot(database)\n",
    "train=all_features[0:int(len(all_features)*0.8)]\n",
    "test=all_features[int(len(all_features)*0.8):len(all_features)]\n",
    "x_train = train.reshape((len(train), np.prod(train.shape[1:])))\n",
    "x_test = test.reshape((len(test), np.prod(test.shape[1:])))\n",
    "print(x_train.shape)\n",
    "\n",
    "logger=explog(encoder_type=\"Demo_\"+str(encode),\n",
    "              encoding_dim=encode,feature_len=10,\n",
    "              lang=\"Hun\",unique_words=len(set(database)),\n",
    "              name=\"demo_autoencoder_\"+str(encode),population_size=popsize,\n",
    "              words=len(corp.hun_lower))\n",
    "\n",
    "config = tf.ConfigProto()\n",
    "config.gpu_options.allow_growth = True\n",
    "sess = tf.Session(config=config)\n",
    "\n",
    "exp=experiment(encoded_width=10,layermax=10,layermin=2,maxw=10,minw=3,out_dim=360)\n",
    "exp.weights=[348, 254, 10, 254, 348, 360]\n",
    "exp.len=len(exp.weights)"
   ]
  },
  {
   "cell_type": "code",
   "execution_count": 2,
   "metadata": {
    "collapsed": false,
    "deletable": true,
    "editable": true
   },
   "outputs": [],
   "source": [
    "encoder=Autoencoder_ffnn(experiment=exp,\n",
    "                 logger=logger,tf_session=sess,\n",
    "                 inputdim=360,\n",
    "                 layerlist=exp.weights,\n",
    "                 encode_index=int(exp.len/2-1),\n",
    "                 optimizer =tf.train.AdamOptimizer(learning_rate = 0.001),\n",
    "                 nonlinear=tf.sigmoid)"
   ]
  },
  {
   "cell_type": "code",
   "execution_count": 3,
   "metadata": {
    "collapsed": false,
    "deletable": true,
    "editable": true
   },
   "outputs": [],
   "source": [
    "encoder.train(x_train,x_test,512,50)"
   ]
  },
  {
   "cell_type": "code",
   "execution_count": 5,
   "metadata": {
    "collapsed": false,
    "deletable": true,
    "editable": true
   },
   "outputs": [
    {
     "name": "stdout",
     "output_type": "stream",
     "text": [
      "         a \t          a\n",
      "    magyar \t     magyar\n",
      " ferdinánd \t  melyázány\n",
      "     által \t      által\n",
      "        az \t         az\n",
      "   osztrák \t    aurtják\n",
      "   kormány \t    tormány\n",
      "  császári \t   kssátári\n",
      " augusztus \t  karosztus\n",
      "emlékirata \t halztozata\n",
      "         a \t          a\n",
      "pragmatica \t  ealtatája\n",
      "sanctióval \t kelyásával\n",
      "        és \t         és\n",
      "        az \t         az\n",
      "  áprilisi \t   kitolási\n",
      "         s \t          s\n",
      "        az \t         az\n",
      "    önálló \t     aválló\n",
      "    magyar \t     magyar\n",
      "        és \t         és\n",
      "  hadügyek \t   kemélyek\n",
      "követelése \t keletelése\n",
      "   mellett \t    mellett\n",
      "  kétségbe \t   kérzénbe\n",
      "     vonta \t      tolta\n",
      "         a \t          a\n",
      "    nyarán \t     ssarán\n",
      "    önálló \t     aválló\n",
      "      való \t       való\n",
      "     jogát \t      soját\n",
      "        is \t         is\n",
      "        az \t         az\n",
      "  fordulat \t   portálat\n",
      "     immár \t        már\n",
      "    idején \t     izekén\n",
      " batthyány \t  eatsotány\n",
      "        és \t         és\n",
      "      deák \t        túk\n",
      "     éppen \t      éppen\n",
      "   bécsben \t    kénzben\n",
      "      hogy \t       hogy\n",
      "    utolsó \t     utolsó\n",
      "  tegyenek \t   megyenek\n",
      "         a \t          a\n",
      "   viszony \t    viszony\n",
      "   készülő \t    készélő\n",
      "        és \t         és\n",
      "     saját \t      saját\n",
      "         a \t          a\n",
      " custozzai \t  tartokkai\n",
      "     csata \t      ozata\n",
      "      után \t       után\n",
      "fővárosába \t halztosába\n",
      "visszatért \t  emszítért\n",
      " ferdinánd \t  melyázány\n",
      "         a \t          a\n",
      "     május \t      márus\n",
      "     bécsi \t      mérsi\n",
      "forradalmi \t teltadalmi\n",
      " események \t  szemények\n",
      "  hatására \t   tarámára\n",
      "  menekült \t   kegerült\n",
      "  kívánták \t   somonták\n",
      "         a \t          a\n",
      "    magyar \t     magyar\n",
      "        az \t         az\n",
      "        és \t         és\n",
      "         a \t          a\n",
      " szerették \t  szerették\n",
      "     volna \t      volna\n",
      "   továbbá \t    továbbb\n",
      "       azt \t        azt\n",
      "        is \t         is\n",
      "    elérni \t     elyzni\n",
      "      hogy \t       hogy\n",
      " uralkodói \t  avalgotói\n",
      "   parancs \t    tanancs\n",
      "    mondja \t     mondja\n",
      "        ki \t         ki\n",
      "         a \t          a\n",
      "     május \t      márus\n",
      "    közepe \t     kézese\n",
      "       óta \t        ita\n",
      "     egyre \t      egyre\n",
      "     szerb \t      szeró\n",
      "   lázadás \t    matazás\n",
      "        és \t         és\n",
      "         s \t          s\n",
      "      hogy \t       hogy\n",
      "    tegyen \t     megyen\n",
      " ferdinánd \t  melyázány\n",
      "  ígéretet \t   störetet\n",
      "         a \t          a\n",
      "    július \t     toltus\n",
      "    elején \t     eletén\n",
      "megnyitott \t meltsstott\n",
      "      első \t       első\n",
      "szeptember \t szertember\n",
      " tervezett \t  zelkezett\n",
      "\n",
      "Accuracy on data:  85.19137172448701 %\n"
     ]
    },
    {
     "data": {
      "image/png": "[encoded data removed]",
      "text/plain": [
       "<matplotlib.figure.Figure at 0x24ade767470>"
      ]
     },
     "metadata": {},
     "output_type": "display_data"
    }
   ],
   "source": [
    "show_performance(encoder,x_test,100)"
   ]
  },
  {
   "cell_type": "code",
   "execution_count": 6,
   "metadata": {
    "collapsed": false,
    "deletable": true,
    "editable": true
   },
   "outputs": [
    {
     "name": "stdout",
     "output_type": "stream",
     "text": [
      "        eh \t         el\n",
      "    kecske \t     keréze\n",
      "     kutya \t      mitja\n",
      "     aytuk \t      anták\n",
      "    macska \t     vanája\n",
      " árvíztűrő \t  kitsstért\n",
      "      fúró \t        áró\n",
      "     kacsa \t      larsa\n",
      "         a \t          a\n",
      "        és \t         és\n",
      "\n",
      "Accuracy on data:  76.0 %\n"
     ]
    },
    {
     "data": {
      "image/png": "[encoded data removed]",
      "text/plain": [
       "<matplotlib.figure.Figure at 0x24ade852908>"
      ]
     },
     "metadata": {},
     "output_type": "display_data"
    }
   ],
   "source": [
    "show_performance(encoder,[\"eh\",\"kecske\",\"kutya\",\"aytuk\",\"macska\",\"árvíztűrő\",\"fúró\",\"kacsa\",\"a\",\"és\"])"
   ]
  },
  {
   "cell_type": "code",
   "execution_count": null,
   "metadata": {
    "collapsed": false,
    "deletable": true,
    "editable": true
   },
   "outputs": [],
   "source": []
  }
 ],
 "metadata": {
  "anaconda-cloud": {},
  "kernelspec": {
   "display_name": "Python 3",
   "language": "python",
   "name": "python3"
  },
  "language_info": {
   "codemirror_mode": {
    "name": "ipython",
    "version": 3
   },
   "file_extension": ".py",
   "mimetype": "text/x-python",
   "name": "python",
   "nbconvert_exporter": "python",
   "pygments_lexer": "ipython3",
   "version": "3.4.2"
  }
 },
 "nbformat": 4,
 "nbformat_minor": 2
}
