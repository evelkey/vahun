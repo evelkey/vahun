{
 "cells": [
  {
   "cell_type": "code",
   "execution_count": 1,
   "metadata": {
    "collapsed": false,
    "deletable": true,
    "editable": true
   },
   "outputs": [
    {
     "name": "stdout",
     "output_type": "stream",
     "text": [
      "Reading file, speed:  2221427.5424339236  words/s\n",
      "Reading file, speed:  1802352.8582668672  words/s\n",
      "Corpus initalized, fields: ['hun_lower_unique'] \n",
      "Unique words:  214708\n",
      "(81526, 380)\n"
     ]
    }
   ],
   "source": [
    "%matplotlib inline\n",
    "import tensorflow as tf\n",
    "from vahun.corpus import Corpus\n",
    "import numpy as np\n",
    "from vahun.tools import Timer\n",
    "from vahun.tools import explog\n",
    "from vahun.autoencoder import Autoencoder_ffnn\n",
    "from vahun.genetic import evolution\n",
    "from vahun.genetic import experiment\n",
    "from vahun.tools import show_performance\n",
    "\n",
    "encode=180\n",
    "dictsize=2000000\n",
    "popsize=1\n",
    "\n",
    "\n",
    "config = tf.ConfigProto()\n",
    "config.gpu_options.allow_growth = True\n",
    "#config.gpu_options.per_process_gpu_memory_fraction=1\n",
    "corp_path='/mnt/permanent/Language/Hungarian/Corp/Webkorpusz/webkorpusz.wpl'\n",
    "corp=Corpus(corpus_path=corp_path,\n",
    "            needed_corpus=[\"hun_lower_unique\"],\n",
    "            language=\"Hun\",size=dictsize,encoding_len=10)\n",
    "#database=corp.hun_lower_unique\n",
    "database=corp.hun_lower_unique\n",
    "all_features=corp.featurize_data_charlevel_onehot(database)\n",
    "train=all_features[0:int(len(all_features)*0.8)]\n",
    "test=all_features[int(len(all_features)*0.8):len(all_features)]\n",
    "x_train = train.reshape((len(train), np.prod(train.shape[1:])))\n",
    "x_test = test.reshape((len(test), np.prod(test.shape[1:])))\n",
    "print(x_train.shape)\n",
    "\n",
    "logger=explog(encoder_type=\"Demo_\"+str(encode),\n",
    "              encoding_dim=encode,feature_len=10,\n",
    "              lang=\"Hun\",unique_words=len(set(database)),\n",
    "              name=\"auto_demo_uni\"+str(encode),population_size=popsize,\n",
    "              words=len(corp.hun_lower_unique))\n",
    "\n",
    "config = tf.ConfigProto()\n",
    "config.gpu_options.allow_growth = True\n",
    "sess = tf.Session(config=config)\n",
    "\n",
    "exp=experiment(encoded_width=10,layermax=10,layermin=2,maxw=10,minw=3,out_dim=380)\n",
    "#exp.weights=[348, 254, 10, 254, 348, 360]\n",
    "exp.weights=[encode, 380]\n",
    "exp.len=len(exp.weights)"
   ]
  },
  {
   "cell_type": "code",
   "execution_count": 2,
   "metadata": {
    "collapsed": false,
    "deletable": true,
    "editable": true
   },
   "outputs": [],
   "source": [
    "encoder=Autoencoder_ffnn(experiment=exp,\n",
    "                 logger=logger,tf_session=sess,\n",
    "                 inputdim=380,\n",
    "                 layerlist=exp.weights,\n",
    "                 encode_index=int(exp.len/2),\n",
    "                 optimizer =tf.train.AdamOptimizer(learning_rate = 0.001),\n",
    "                 nonlinear=tf.sigmoid)"
   ]
  },
  {
   "cell_type": "code",
   "execution_count": 3,
   "metadata": {
    "collapsed": false,
    "deletable": true,
    "editable": true
   },
   "outputs": [],
   "source": [
    "encoder.train(x_train,x_test,512,80)"
   ]
  },
  {
   "cell_type": "code",
   "execution_count": 4,
   "metadata": {
    "collapsed": false,
    "deletable": true,
    "editable": true
   },
   "outputs": [],
   "source": [
    "stds=show_performance(encoder,x_test,corp,100,printer=False)"
   ]
  },
  {
   "cell_type": "code",
   "execution_count": 5,
   "metadata": {
    "collapsed": false,
    "deletable": true,
    "editable": true,
    "scrolled": true
   },
   "outputs": [
    {
     "name": "stdout",
     "output_type": "stream",
     "text": [
      "        eh \t         er \t 1\n",
      "    kecske \t     kecske \t 0\n",
      "     kutya \t      kutka \t 1\n",
      "     aytuk \t      aytuk \t 0\n",
      "    macska \t     macska \t 0\n",
      " árvíztűrő \t  árvuztürő \t 2\n",
      "      fúró \t        író \t 2\n",
      "     kacsa \t      kapsa \t 1\n",
      "         a \t         ka \t 1\n",
      "        és \t         és \t 0\n",
      "\n",
      "Accuracy on data:  92.0 %\n",
      "average Levenshtein distance:  0.8\n"
     ]
    }
   ],
   "source": [
    "std=show_performance(encoder,[\"eh\",\"kecske\",\"kutya\",\"aytuk\",\"macska\",\"árvíztűrő\",\"fúró\",\"kacsa\",\"a\",\"és\"],corp,printer=True)"
   ]
  },
  {
   "cell_type": "code",
   "execution_count": 6,
   "metadata": {
    "collapsed": false,
    "deletable": true,
    "editable": true
   },
   "outputs": [],
   "source": [
    "def decode_critical(lista,enc=180):\n",
    "    for POS in lista:\n",
    "        encoded=np.ones(enc)*-10\n",
    "        encoded[POS]=10\n",
    "        a=encoder.decode([encoded])[0].reshape([10,36])\n",
    "        b=corp.defeaturize_data_charlevel_onehot([a])\n",
    "        print(b)"
   ]
  },
  {
   "cell_type": "code",
   "execution_count": 7,
   "metadata": {
    "collapsed": false,
    "deletable": true,
    "editable": true
   },
   "outputs": [
    {
     "name": "stdout",
     "output_type": "stream",
     "text": [
      "[['  átlépési'], ['  átlépési'], ['  átlépési'], ['  átlépési'], ['  átlépési'], ['  átlépési']]\n",
      "[['segltségre'], ['segetségre'], ['seg tségre'], ['segstségre'], ['segrtségre'], ['segytségre']]\n",
      "[['   fojihoz'], ['   foéihoz'], ['   fopihoz'], ['   fohihoz'], ['   forihoz'], ['   fooihoz']]\n",
      "[[' tapsoltam'], [' tapsoltam'], [' tapsoltam'], [' tapsoltam'], [' tapsoltam'], [' tapsoltam']]\n",
      "[['eltanésébe'], ['eltenésébe'], ['elt nésébe'], ['eltsnésébe'], ['eltrnésébe'], ['elttnésébe']]\n",
      "[['    kábele'], ['    kábele'], ['    kábele'], ['   skámele'], ['    kátele'], ['    kábele']]\n",
      "[['   babámat'], ['   babámat'], ['   babámat'], ['   babámat'], ['   babámat'], ['   babámat']]\n",
      "[['   deskprő'], ['   deskprn'], ['   deskprl'], ['   deskyra'], ['   deskrrk'], ['   deskprg']]\n",
      "[['  nyugszik'], ['  nyugszik'], ['  nyugszik'], ['  nyugszik'], ['  nyugszik'], ['  nyugszik']]\n",
      "[['  sogosult'], ['  rogosult'], ['  oogosult'], ['  hogosult'], ['  bogosult'], ['  bogosult']]\n",
      "[['haverokkal'], ['haverokkal'], ['haverokkal'], ['haverokkal'], ['haverokkal'], ['haverokkal']]\n",
      "[['      hany'], ['      hany'], ['      hany'], ['   s  hany'], ['      hany'], ['      hany']]\n",
      "[['  délutánt'], ['  délutánt'], ['  délutánt'], ['  délutánt'], ['  délutánt'], ['  zélutánt']]\n",
      "[['félk lözve'], ['kélkllezve'], ['bélktlőzve'], ['kélkhlmzve'], ['bélkölözve'], ['bélk lázve']]\n",
      "[['     főnlk'], ['     bőnők'], ['     pőnök'], ['   s hőnök'], ['     pőnök'], ['     oőnek']]\n",
      "[['elszményét'], ['elrzményét'], ['elozményét'], ['elhsményét'], ['elbzményét'], ['elbzményét']]\n",
      "[[' gsomozása'], [' gyomozása'], [' gyomozása'], [' gyomozása'], [' gyomozása'], [' gyomozása']]\n",
      "[['   terepre'], ['   terepre'], ['   terepre'], ['   terepre'], ['   tererre'], ['   terepre']]\n",
      "[['fharmovész'], ['b arméeész'], ['btarmpvész'], ['ktarmívész'], ['bharmpvész'], ['bzarmovész']]\n",
      "[['   lakatra'], ['   lakatra'], ['   lakatra'], ['   lakatra'], ['   lakatra'], ['   lakatra']]\n",
      "[['     napon'], ['     napon'], ['     napon'], ['   s napon'], ['     napon'], ['     napon']]\n",
      "[['  fasizmus'], ['  fasizmus'], ['  fasizmus'], ['  fasizmus'], ['  fasizmus'], ['  fasizmus']]\n",
      "[[' ebédelknk'], [' ebédelenk'], [' ebédelbnk'], [' ebédelynk'], [' ebédelrnk'], [' ebédelünk']]\n",
      "[[' frz jének'], ['  rzljének'], [' orzrjének'], [' trshjének'], [' arzöjének'], [' erzrjének']]\n",
      "[['   lsocson'], ['   eséeson'], ['    spcson'], ['   sshmson'], ['   rsptson'], ['   tsocson']]\n",
      "[[' alapelvén'], [' alapelvén'], [' alapelvén'], [' alapelvén'], [' alapelvén'], [' alapelvén']]\n",
      "[['  futottak'], ['  futottak'], ['  futottak'], ['  futottak'], ['  futottak'], ['  futottak']]\n",
      "[['   törzsét'], ['   törzsét'], ['   törzsét'], ['  hthrzsét'], ['   törzsét'], ['   törzsét']]\n",
      "[['  érzodnek'], ['  érzédnek'], ['  érzidnek'], ['  érzodnek'], ['  érzrdnek'], ['  érzodnek']]\n",
      "[['szsnháznál'], ['szreháznál'], ['szonháznál'], ['szhnháznál'], ['szinháznál'], ['szznháznál']]\n",
      "[['       kse'], ['       ese'], ['       bue'], ['   s   yze'], ['       rze'], ['       rke']]\n",
      "[['    gombot'], ['    gombot'], ['    gombot'], ['   sgombot'], ['    gombot'], ['    gombot']]\n",
      "[['    evilág'], ['    evilág'], ['    evilág'], ['    evilág'], ['    evilág'], ['    evilág']]\n",
      "[['     tágra'], ['     tágra'], ['     tágra'], ['   s tágra'], ['     tágra'], ['     tágra']]\n",
      "[['     ivánt'], ['     ieánt'], ['     ivánt'], ['   s ivánt'], ['     ivánt'], ['     ivánt']]\n",
      "[['fendezések'], ['kendezések'], ['bendezések'], ['kendezések'], ['bendezések'], ['bendezések']]\n",
      "[['  sogosabő'], ['  rogosabn'], ['  rogosabb'], ['  hogosaba'], ['  bogosabk'], ['  bogosabb']]\n",
      "[['habverővel'], ['habverővel'], ['habverővel'], ['habverővel'], ['habverővel'], ['habverővel']]\n",
      "[['  fordítói'], ['  fordítói'], ['  fordítói'], ['  fordítói'], ['  fordítói'], ['  fordítói']]\n",
      "[[' kstelezve'], [' krtelezve'], [' kotelezve'], [' kötelezve'], [' kötelezve'], [' kötelezve']]\n",
      "[['    vekker'], ['    vekker'], ['    vekker'], ['   svekker'], ['    vekker'], ['    vekker']]\n",
      "[['  sgyvédje'], ['  rgyvédje'], ['  ogyvédje'], ['  hgyvédje'], ['  bgyvédje'], ['  bgyvédje']]\n",
      "[['  élenjáró'], ['  éleneáró'], ['  élenjáró'], ['  élenmáró'], ['  élentáró'], ['  élenjáró']]\n",
      "[[' eszmékben'], [' eszmékben'], [' eszmékben'], [' ehsmékben'], [' eszmékben'], [' eszmékben']]\n",
      "[['   aktádat'], ['   aktádat'], ['   aktádat'], ['   aktádat'], ['   aktádat'], ['   aktádat']]\n",
      "[[' fsntetlen'], ['  rntetlen'], [' tontetlen'], [' thntetlen'], [' köntetlen'], [' ebntetlen']]\n",
      "[['     iuion'], ['     ieion'], ['     imion'], ['  hs imion'], ['     ition'], ['     ilion']]\n",
      "[['   percből'], ['   pereből'], ['   percből'], ['   permből'], ['   pertből'], ['   percből']]\n",
      "[['       ásk'], ['       ágk'], ['       áuk'], ['   s   áak'], ['       áók'], ['       ákk']]\n",
      "[['   szoktuk'], ['   szoktuk'], ['   szoktuk'], ['   szoktuk'], ['   szoktuk'], ['   szoktuk']]\n"
     ]
    }
   ],
   "source": [
    "import heapq\n",
    "topstd=heapq.nlargest(6, range(len(stds)), stds.__getitem__)\n",
    "big_stuff=[]\n",
    "for i in range(50):\n",
    "    big_stuff.append([])\n",
    "    for topind in topstd:\n",
    "        a=encoder.encode([x_test[i]])\n",
    "        a[0][topind]=2\n",
    "        b=encoder.decode([a[0]])[0].reshape([10,38])\n",
    "        c=corp.defeaturize_data_charlevel_onehot([b])\n",
    "        big_stuff[i].append(c)\n",
    "for row in big_stuff:\n",
    "    print(row)"
   ]
  },
  {
   "cell_type": "code",
   "execution_count": null,
   "metadata": {
    "collapsed": false,
    "deletable": true,
    "editable": true
   },
   "outputs": [],
   "source": []
  }
 ],
 "metadata": {
  "anaconda-cloud": {},
  "kernelspec": {
   "display_name": "Python 3",
   "language": "python",
   "name": "python3"
  },
  "language_info": {
   "codemirror_mode": {
    "name": "ipython",
    "version": 3
   },
   "file_extension": ".py",
   "mimetype": "text/x-python",
   "name": "python",
   "nbconvert_exporter": "python",
   "pygments_lexer": "ipython3",
   "version": "3.4.2"
  }
 },
 "nbformat": 4,
 "nbformat_minor": 2
}
