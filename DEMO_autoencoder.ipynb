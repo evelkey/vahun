{
 "cells": [
  {
   "cell_type": "code",
   "execution_count": 1,
   "metadata": {
    "collapsed": false,
    "deletable": true,
    "editable": true
   },
   "outputs": [
    {
     "name": "stdout",
     "output_type": "stream",
     "text": [
      "Corpus initalized, fields: ['hun_lower'] \n",
      "Unique words:  83241\n",
      "(254464, 360)\n"
     ]
    }
   ],
   "source": [
    "%matplotlib inline\n",
    "import tensorflow as tf\n",
    "from vahun.corpus import Corpus\n",
    "import numpy as np\n",
    "from vahun.tools import Timer\n",
    "from vahun.tools import explog\n",
    "from vahun.autoencoder import Autoencoder_ffnn\n",
    "from vahun.genetic import evolution\n",
    "from vahun.genetic import experiment\n",
    "from vahun.tools import show_performance\n",
    "\n",
    "encode=10\n",
    "dictsize=500000\n",
    "popsize=1\n",
    "\n",
    "\n",
    "config = tf.ConfigProto()\n",
    "config.gpu_options.allow_growth = True\n",
    "#config.gpu_options.per_process_gpu_memory_fraction=1\n",
    "corp_path='/home/velkey/corp/webkorpusz.wpl'\n",
    "corp=Corpus(corpus_path=corp_path,\n",
    "            needed_corpus=[\"hun_lower\"],\n",
    "            language=\"Hun\",size=dictsize,encoding_len=10)\n",
    "database=corp.hun_lower\n",
    "all_features=corp.featurize_data_charlevel_onehot(database)\n",
    "train=all_features[0:int(len(all_features)*0.8)]\n",
    "test=all_features[int(len(all_features)*0.8):len(all_features)]\n",
    "x_train = train.reshape((len(train), np.prod(train.shape[1:])))\n",
    "x_test = test.reshape((len(test), np.prod(test.shape[1:])))\n",
    "print(x_train.shape)\n",
    "\n",
    "logger=explog(encoder_type=\"Demo_\"+str(encode),\n",
    "              encoding_dim=encode,feature_len=10,\n",
    "              lang=\"Hun\",unique_words=len(set(database)),\n",
    "              name=\"demo_autoencoder_\"+str(encode),population_size=popsize,\n",
    "              words=len(corp.hun_lower))\n",
    "\n",
    "config = tf.ConfigProto()\n",
    "config.gpu_options.allow_growth = True\n",
    "sess = tf.Session(config=config)\n",
    "\n",
    "exp=experiment(encoded_width=10,layermax=10,layermin=2,maxw=10,minw=3,out_dim=360)\n",
    "exp.weights=[348, 254, 10, 254, 348, 360]\n",
    "exp.len=len(exp.weights)"
   ]
  },
  {
   "cell_type": "code",
   "execution_count": 2,
   "metadata": {
    "collapsed": false,
    "deletable": true,
    "editable": true
   },
   "outputs": [],
   "source": [
    "encoder=Autoencoder_ffnn(experiment=exp,\n",
    "                 logger=logger,tf_session=sess,\n",
    "                 inputdim=360,\n",
    "                 layerlist=exp.weights,\n",
    "                 encode_index=int(exp.len/2-1),\n",
    "                 optimizer =tf.train.AdamOptimizer(learning_rate = 0.001),\n",
    "                 nonlinear=tf.sigmoid)"
   ]
  },
  {
   "cell_type": "code",
   "execution_count": 3,
   "metadata": {
    "collapsed": false,
    "deletable": true,
    "editable": true
   },
   "outputs": [],
   "source": [
    "encoder.train(x_train,x_test,512,50)"
   ]
  },
  {
   "cell_type": "code",
   "execution_count": 4,
   "metadata": {
    "collapsed": false,
    "deletable": true,
    "editable": true
   },
   "outputs": [
    {
     "name": "stdout",
     "output_type": "stream",
     "text": [
      " eredetibb \t  elegetébb\n",
      "   mélyebb \t    milkebb\n",
      "      volt \t       volt\n",
      "         a \t          a\n",
      "legidősebb \t  egyézsebb\n",
      "       fiú \t        hig\n",
      "  cholnoky \t   anályogy\n",
      "    viktor \t     tiktor\n",
      "         a \t          a\n",
      "      nagy \t       vagy\n",
      " történetű \t  tartétete\n",
      "    magyar \t     magyar\n",
      "     egyik \t      egyik\n",
      "legnagyobb \t legnagyobb\n",
      "    alakja \t     alapja\n",
      "       aki \t        aki\n",
      " mindössze \t  migyössze\n",
      "      évet \t       éget\n",
      "       ért \t        ért\n",
      "       meg \t        meg\n",
      "     akkor \t      akkor\n",
      "   végzett \t    vészett\n",
      "      vele \t       vele\n",
      "        az \t         az\n",
      "   ifjúkor \t    moikkor\n",
      "       óta \t        óta\n",
      "    gyötrő \t     gyttse\n",
      "   tüdőbaj \t    konikai\n",
      "         ő \t          ő\n",
      "        is \t         is\n",
      " jogásznak \t  kagisának\n",
      "    indult \t     indült\n",
      "      mint \t       mint\n",
      "       oly \t        oly\n",
      "     sokan \t      soran\n",
      "         a \t          a\n",
      "    magyar \t     magyar\n",
      "         ő \t          ő\n",
      "       sem \t        sem\n",
      "      lett \t       lett\n",
      "       sem \t        sem\n",
      "    ügyvéd \t     érysér\n",
      "       sem \t        sem\n",
      "      bíró \t       irró\n",
      "       sem \t        sem\n",
      "       már \t        már\n",
      "         a \t          a\n",
      "    minden \t     minden\n",
      " érdekelte \t  köretente\n",
      "   felsőbb \t    melyzbb\n",
      "       sok \t        sok\n",
      "   mindent \t    minkent\n",
      " megtanult \t  megyanült\n",
      "        és \t         és\n",
      "    később \t     készbb\n",
      "         a \t          a\n",
      " budapesti \t  elzézesti\n",
      "  meséltek \t   keréltek\n",
      "     arról \t      arról\n",
      "      hogy \t       hogy\n",
      "        ha \t         ha\n",
      "valamilyen \t valamilyen\n",
      "     éppen \t      éppen\n",
      " felmerülő \t  melmekülő\n",
      "tudományos \t talományos\n",
      " kérdésről \t  kartésről\n",
      "    cikket \t     risket\n",
      "   kellett \t    mellett\n",
      "      írni \t       árni\n",
      "     akkor \t      akkor\n",
      "   szóltak \t    száltak\n",
      "  cholnoky \t   anályogy\n",
      " viktornak \t  tartolnak\n",
      "       aki \t        aki\n",
      "     mélán \t      télán\n",
      " bólintott \t  falintott\n",
      "     leült \t      nevét\n",
      "        az \t         az\n",
      "       még \t        még\n",
      "      csak \t       csak\n",
      "         a \t          a\n",
      "  lexikont \t   menykont\n",
      "       sem \t        sem\n",
      "     vette \t      vente\n",
      "       elő \t        elő\n",
      "        és \t         és\n",
      "         a \t          a\n",
      "     lárma \t      márja\n",
      " közepette \t  kszetette\n",
      "  pontosan \t   tortosan\n",
      "     annyi \t      annyi\n",
      "     hasáb \t      harár\n",
      "terjedelmű \t megtetelsi\n",
      "       írt \t        írt\n",
      "  amennyit \t   amenyzit\n",
      "    kértek \t     körtek\n",
      "         a \t          a\n",
      "történelmi \t térgételmi\n",
      " dátumokat \t  karátokat\n",
      "      vagy \t       vagy\n",
      "\n",
      "Accuracy on data:  88.03335638832998 %\n"
     ]
    },
    {
     "data": {
      "image/png": "[encoded data removed]",
      "text/plain": [
       "<matplotlib.figure.Figure at 0x7fac54567438>"
      ]
     },
     "metadata": {},
     "output_type": "display_data"
    }
   ],
   "source": [
    "show_performance(encoder,x_test,corp,100)"
   ]
  },
  {
   "cell_type": "code",
   "execution_count": 5,
   "metadata": {
    "collapsed": false,
    "deletable": true,
    "editable": true
   },
   "outputs": [
    {
     "name": "stdout",
     "output_type": "stream",
     "text": [
      "        eh \t         em\n",
      "    kecske \t     kerzze\n",
      "     kutya \t      kánya\n",
      "     aytuk \t      artuk\n",
      "    macska \t     mandba\n",
      " árvíztűrő \t  kiréntész\n",
      "      fúró \t       árró\n",
      "     kacsa \t      karja\n",
      "         a \t          a\n",
      "        és \t         és\n",
      "\n",
      "Accuracy on data:  78.0 %\n"
     ]
    },
    {
     "data": {
      "image/png": "[encoded data removed]",
      "text/plain": [
       "<matplotlib.figure.Figure at 0x7fac53fd0710>"
      ]
     },
     "metadata": {},
     "output_type": "display_data"
    }
   ],
   "source": [
    "show_performance(encoder,[\"eh\",\"kecske\",\"kutya\",\"aytuk\",\"macska\",\"árvíztűrő\",\"fúró\",\"kacsa\",\"a\",\"és\"],corp)"
   ]
  }
 ],
 "metadata": {
  "anaconda-cloud": {},
  "kernelspec": {
   "display_name": "Python 3",
   "language": "python",
   "name": "python3"
  },
  "language_info": {
   "codemirror_mode": {
    "name": "ipython",
    "version": 3
   },
   "file_extension": ".py",
   "mimetype": "text/x-python",
   "name": "python",
   "nbconvert_exporter": "python",
   "pygments_lexer": "ipython3",
   "version": "3.4.2"
  }
 },
 "nbformat": 4,
 "nbformat_minor": 2
}
