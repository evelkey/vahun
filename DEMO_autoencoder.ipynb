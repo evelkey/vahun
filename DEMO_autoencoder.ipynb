{
 "cells": [
  {
   "cell_type": "code",
   "execution_count": 1,
   "metadata": {
    "collapsed": false,
    "deletable": true,
    "editable": true
   },
   "outputs": [],
   "source": [
    "%matplotlib inline\n",
    "import tensorflow as tf\n",
    "from vahun.Text import Text\n",
    "import numpy as np\n",
    "from vahun.tools import Timer\n",
    "from vahun.tools import explog\n",
    "from vahun.autoencoder import Autoencoder_ffnn\n",
    "from vahun.genetic import evolution\n",
    "from vahun.genetic import experiment\n",
    "from vahun.tools import show_performance\n",
    "\n",
    "encode=180\n",
    "\n",
    "popsize=1\n",
    "\n",
    "\n",
    "config = tf.ConfigProto()\n",
    "config.gpu_options.allow_growth = True\n",
    "\n",
    "corpus=Text(corpus_path='/mnt/store/velkey/mnsz2/mnsz2.100M.freqs.hunfiltered_lowered',size=1000000)\n",
    "\n",
    "logger=explog(encoder_type=\"hunfiltered_lowered_uniq_\"+str(encode),\n",
    "              encoding_dim=encode,feature_len=10,\n",
    "              lang=\"Hun\",unique_words=len(set(corpus.wordlist)),\n",
    "              name=\"autoencoder_lowered_\"+str(encode),population_size=popsize,\n",
    "              words=len(corpus.wordlist))\n",
    "\n",
    "config = tf.ConfigProto()\n",
    "config.gpu_options.allow_growth = True\n",
    "sess = tf.Session(config=config)\n",
    "\n",
    "exp=experiment(encoded_width=10,layermax=10,layermin=2,maxw=10,minw=3,out_dim=corpus.abc*10)\n",
    "\n",
    "exp.weights=[encode, len(corpus.abc)*10]\n",
    "exp.len=len(exp.weights)"
   ]
  },
  {
   "cell_type": "code",
   "execution_count": 2,
   "metadata": {
    "collapsed": false,
    "deletable": true,
    "editable": true
   },
   "outputs": [],
   "source": [
    "encoder=Autoencoder_ffnn(experiment=exp,\n",
    "                 logger=logger,tf_session=sess,\n",
    "                 inputdim=len(corpus.abc)*10,\n",
    "                 layerlist=exp.weights,\n",
    "                 encode_index=int(exp.len/2),corpus=corpus,\n",
    "                 optimizer =tf.train.AdamOptimizer(learning_rate = 0.001),\n",
    "                 nonlinear=tf.sigmoid,\n",
    "                 charnum=len(corpus.abc))"
   ]
  },
  {
   "cell_type": "code",
   "execution_count": 3,
   "metadata": {
    "collapsed": false,
    "deletable": true,
    "editable": true
   },
   "outputs": [],
   "source": [
    "encoder.train(corpus.x_train,corpus.x_valid,corpus.x_test,512,30)"
   ]
  },
  {
   "cell_type": "code",
   "execution_count": 4,
   "metadata": {
    "collapsed": false,
    "deletable": true,
    "editable": true
   },
   "outputs": [
    {
     "name": "stdout",
     "output_type": "stream",
     "text": [
      "   tömzsin \t    tömzsin \t 0\n",
      " reményünk \t  reményünk \t 0\n",
      "sűrítménye \t szrétménye \t 2\n",
      "foglyá-nak \t foglyájnak \t 1\n",
      "      samu \t       sagb \t 2\n",
      "  napszagú \t   napszagy \t 1\n",
      "moderatúra \t moderatóra \t 1\n",
      "amarillisz \t emarillisz \t 1\n",
      "híradásból \t haradásból \t 1\n",
      "  nyakéked \t   nyakéked \t 0\n",
      "\n",
      "Accuracy on data:  95.046272145907 %\n",
      "average Levenshtein distance:  0.495372785409\n"
     ]
    }
   ],
   "source": [
    "stds=show_performance(encoder,corpus.x_test,corpus,10,printer=True,inputfsize=len(corpus.abc))"
   ]
  },
  {
   "cell_type": "code",
   "execution_count": 5,
   "metadata": {
    "collapsed": false,
    "deletable": true,
    "editable": true,
    "scrolled": true
   },
   "outputs": [
    {
     "name": "stdout",
     "output_type": "stream",
     "text": [
      "        eh \t         er \t 1\n",
      "    kecske \t     kecske \t 0\n",
      "     kutya \t      kutya \t 0\n",
      "     aytuk \t      aytuk \t 0\n",
      "    macska \t     macska \t 0\n",
      " árvíztűrő \t  árvöztörő \t 2\n",
      "      fúró \t        óró \t 2\n",
      "     kacsa \t      kapsa \t 1\n",
      "         a \t         za \t 1\n",
      "        és \t         és \t 0\n",
      "\n",
      "Accuracy on data:  93.0 %\n",
      "average Levenshtein distance:  0.7\n"
     ]
    }
   ],
   "source": [
    "std=show_performance(encoder,[\"eh\",\"kecske\",\"kutya\",\"aytuk\",\"macska\",\"árvíztűrő\",\"fúró\",\"kacsa\",\"a\",\"és\"],corpus,printer=True,inputfsize=len(corpus.abc))"
   ]
  },
  {
   "cell_type": "code",
   "execution_count": 6,
   "metadata": {
    "collapsed": false,
    "deletable": true,
    "editable": true
   },
   "outputs": [],
   "source": [
    "def decode_critical(lista,enc=180):\n",
    "    for POS in lista:\n",
    "        encoded=np.ones(enc)*-10\n",
    "        encoded[POS]=10\n",
    "        a=encoder.decode([encoded])[0].reshape([10,len(corpus.abc)])\n",
    "        b=corp.defeaturize_data_charlevel_onehot([a])\n",
    "        print(b)"
   ]
  },
  {
   "cell_type": "code",
   "execution_count": 7,
   "metadata": {
    "collapsed": false,
    "deletable": true,
    "editable": true
   },
   "outputs": [
    {
     "name": "stdout",
     "output_type": "stream",
     "text": [
      "[['   temzsin'], ['ts tömzsin'], ['   témzsin'], ['   tömzsia'], ['    ömzsnn'], ['   tamzsin']]\n",
      "[[' reményenk'], ['treménzlnk'], [' r ménymnk'], [' reményynk'], [' reményrnk'], [' reményank']]\n",
      "[['szr tménee'], ['szrntménle'], ['  r tménve'], ['sárotménóe'], ['szr tménne'], ['sarltménne']]\n",
      "[['fogleáenak'], ['foelyáznak'], ['foglyálnak'], ['fogliáonak'], ['foglyánnak'], ['foglyáznak']]\n",
      "[['      saek'], ['ts    zalt'], ['      savó'], ['      saóa'], ['      nand'], ['      sant']]\n",
      "[['  napezaek'], ['tenapszaőt'], ['  napszavó'], ['  napszaga'], ['  napszani'], ['  napszant']]\n",
      "[['moderetera'], ['moderatlrt'], ['moderatmra'], ['moderatyra'], [' od ratrna'], ['moderatara']]\n",
      "[[' marielesz'], ['kmarilzist'], [' marillisz'], [' marillisa'], [' ma isnisz'], ['em rillisz']]\n",
      "[[' áradásból'], ['heradázbót'], ['  radásból'], [' áradásból'], [' oradásból'], ['haradásból']]\n",
      "[['  nyakéked'], ['ksnyakéked'], ['  nyakéked'], ['  nyakéked'], ['  n akéked'], ['  nyakéked']]\n",
      "[['      eeea'], ['ts    zllt'], ['       mva'], ['       yva'], ['      nrna'], ['       lna']]\n",
      "[['  keeeeéit'], ['tskecskéit'], ['  kecskéit'], ['  kecskéit'], ['  k csként'], ['   ecsként']]\n",
      "[['   maesken'], ['ks maczkát'], ['   macskán'], ['   macskáa'], ['   macsknn'], ['   macskán']]\n",
      "[['  érteeére'], ['tsértékére'], ['  értékére'], ['  értékére'], ['  é tékéne'], ['   rtékére']]\n",
      "[[' statuáles'], ['cstatuálás'], [' statuálás'], [' statuálás'], [' statuálns'], [' statuálás']]\n",
      "[[' be gásban'], ['sbezgázbat'], [' b zgásban'], [' buzgásbaa'], [' buzgásban'], [' b zgásban']]\n",
      "[[' laikussal'], ['teaikuzsat'], [' laikussal'], [' laikussal'], [' laikunsal'], [' l ikussnl']]\n",
      "[['    tezhez'], ['ks  tézhöz'], ['    tbzhbz'], ['    tpzhöz'], ['    tszhnz'], ['    ttzhnz']]\n",
      "[[' ol aemire'], ['kolnasmire'], [' olyasmire'], [' olyasmire'], [' ol asmire'], [' olyasmire']]\n",
      "[['trakterért'], ['traktorért'], ['traktorért'], ['traktorért'], ['traktorént'], ['tr ktorért']]\n",
      "[['menteeitva'], ['mentesitvt'], ['mentesitva'], ['mentesitva'], ['men esitva'], ['mentesitva']]\n",
      "[[' lmérnökök'], ['elmérnzkök'], ['  mérnikbk'], ['elmérnökök'], [' lmérnökök'], ['elmérnökök']]\n",
      "[[' menteknél'], ['tmentéknét'], [' m ntuknél'], [' mentoknél'], [' mentsknnl'], [' menttknél']]\n",
      "[['vér ivatar'], ['vérzivztat'], ['  rzivatar'], ['vérzivatar'], [' érzivatar'], ['vérzitatnr']]\n",
      "[[' kiáleásuk'], ['tkiáltásuk'], [' k áltásuk'], [' kiáltásuk'], [' kiáltásuk'], [' kiáltásuk']]\n",
      "[['  nagytesó'], ['tenagytesó'], ['  nagytesó'], ['  nagytesó'], ['  nagytesó'], ['  nagytesó']]\n",
      "[['   seprése'], ['ts stprése'], ['   séprése'], ['   söprése'], ['   söprése'], ['   saprése']]\n",
      "[['  térdével'], ['tstérdévet'], ['  térdével'], ['  térdével'], ['  térdével'], ['  térdével']]\n",
      "[['    rieank'], ['ts  rizant'], ['    riianó'], ['    rioana'], ['    rinani'], ['    rizant']]\n",
      "[['      eeid'], ['ts    zlid'], ['       hid'], ['       yid'], ['      nhid'], ['       lid']]\n",
      "[[' éálleásea'], ['tsálltáslt'], ['  álltásva'], [' áálltásóa'], [' oálltásna'], [' aálltásna']]\n",
      "[[' fölvessek'], ['kfelvezsek'], [' f lvesdek'], [' fölvessek'], [' fölvensek'], [' f lvtssek']]\n",
      "[['tis tázzam'], ['tisztázzam'], ['ti ztázzam'], ['tisztázzam'], ['tisztázzam'], ['tisztázznm']]\n",
      "[['megleetenk'], ['meglettlnk'], ['meglettmnk'], ['meglettynk'], ['meglettrnk'], ['meglettank']]\n",
      "[['  bubeeubk'], ['tebubozubt'], ['  bubolubb'], ['  buboouba'], ['  bubonund'], ['  bubozubt']]\n",
      "[['   érettek'], ['ks érettlk'], ['   érettvk'], ['   érettók'], ['   érettnk'], ['   értttnk']]\n",
      "[[' aranesnel'], ['karancznát'], ['  rancsnál'], [' arancsyál'], [' arancsnnl'], ['harancsnál']]\n",
      "[['    edelői'], ['ts  tdzlőt'], ['    édilői'], ['    idolői'], ['    sdnlői'], ['    adzlői']]\n",
      "[[' fedvdesan'], ['tsedvdzsat'], ['   dvdisan'], [' áedvdosan'], [' oedvdnsan'], [' nedvdzsan']]\n",
      "[[' légkerben'], ['kségkörbet'], [' légkörben'], [' légkorbea'], [' légksrben'], [' légkörben']]\n",
      "[['szigoeeseg'], ['szigorzsát'], ['sz goridág'], ['szigorosáa'], ['szigornsng'], ['szigorzság']]\n",
      "[['  halmekra'], ['tshalmokrt'], ['  halmokra'], ['  halmokra'], ['  halmokna'], ['  halmokra']]\n",
      "[['teheneiről'], ['teheneiről'], ['teheneiről'], ['teheneiről'], ['teh neiről'], ['te entiről']]\n",
      "[['bazáreeban'], ['bazárokban'], ['b zárokban'], ['bazárokbaa'], ['bazárokban'], ['bazárokban']]\n",
      "[[' éf gással'], ['ksfogázsat'], ['  fogással'], ['káfogással'], [' ofogánsal'], ['eafogássnl']]\n",
      "[['  fölötébk'], ['tefölötébt'], ['  fölötébb'], ['  fölötéba'], ['    lsnrbd'], ['  fölötébt']]\n",
      "[['més eeeark'], ['meszerzark'], ['m  zeriark'], ['mászeroark'], [' oszernank'], ['maszerzark']]\n",
      "[['    ezueik'], ['ts  szzlik'], ['    szumik'], ['    szutik'], ['    szulik'], ['    szulik']]\n",
      "[[' oeálisnak'], ['loeáliznak'], ['fo álisnak'], [' oaálisnak'], [' o álisnak'], ['ho álisnnk']]\n",
      "[['koekáztasd'], ['koekáztasd'], ['ko káztasd'], ['koakáztasd'], [' o káztasd'], ['ko káztasd']]\n"
     ]
    }
   ],
   "source": [
    "import heapq\n",
    "topstd=heapq.nlargest(6, range(len(stds)), stds.__getitem__)\n",
    "big_stuff=[]\n",
    "for i in range(50):\n",
    "    big_stuff.append([])\n",
    "    for topind in topstd:\n",
    "        a=encoder.encode([corpus.x_test[i]])\n",
    "        a[0][topind]=2\n",
    "        b=encoder.decode([a[0]])[0].reshape([10,len(corpus.abc)])\n",
    "        c=corpus.defeaturize_data_charlevel_onehot([b])\n",
    "        big_stuff[i].append(c)\n",
    "for row in big_stuff:\n",
    "    print(row)"
   ]
  },
  {
   "cell_type": "code",
   "execution_count": null,
   "metadata": {
    "collapsed": false,
    "deletable": true,
    "editable": true
   },
   "outputs": [],
   "source": []
  }
 ],
 "metadata": {
  "anaconda-cloud": {},
  "kernelspec": {
   "display_name": "Python 3",
   "language": "python",
   "name": "python3"
  },
  "language_info": {
   "codemirror_mode": {
    "name": "ipython",
    "version": 3
   },
   "file_extension": ".py",
   "mimetype": "text/x-python",
   "name": "python",
   "nbconvert_exporter": "python",
   "pygments_lexer": "ipython3",
   "version": "3.4.2"
  }
 },
 "nbformat": 4,
 "nbformat_minor": 2
}
