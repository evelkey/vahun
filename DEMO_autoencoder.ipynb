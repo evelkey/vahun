{
 "cells": [
  {
   "cell_type": "code",
   "execution_count": 2,
   "metadata": {
    "collapsed": false,
    "deletable": true,
    "editable": true
   },
   "outputs": [],
   "source": [
    "%matplotlib inline\n",
    "import tensorflow as tf\n",
    "from vahun.Text import Text\n",
    "import numpy as np\n",
    "from vahun.tools import Timer\n",
    "from vahun.tools import explog\n",
    "from vahun.autoencoder import Autoencoder_ffnn\n",
    "from vahun.tools import show_performance\n",
    "\n",
    "timer=Timer()\n",
    "\n",
    "corpus_path='/mnt/store/velkey/mnsz2/mnsz2.100M.freqs.hunfiltered_lowered'\n",
    "encode=180\n",
    "config = tf.ConfigProto()\n",
    "config.gpu_options.allow_growth = True\n",
    "\n",
    "corpus=Text(corpus_path=corpus_path,size=100000)\n",
    "\n",
    "logger=explog(encoder_type=\"hunfiltered_lowered_uniq_\"+str(encode),\n",
    "              encoding_dim=encode,\n",
    "              feature_len=20,\n",
    "              lang=corpus_path,\n",
    "              unique_words=len(set(corpus.wordlist)),\n",
    "              name=\"autoencoder_lowered_\"+str(encode),\n",
    "              population_size=0,\n",
    "              words=len(corpus.wordlist))\n",
    "\n",
    "config = tf.ConfigProto()\n",
    "config.gpu_options.allow_growth = True\n",
    "sess = tf.Session(config=config)\n"
   ]
  },
  {
   "cell_type": "code",
   "execution_count": null,
   "metadata": {
    "collapsed": false,
    "deletable": true,
    "editable": true
   },
   "outputs": [],
   "source": [
    "encoder=Autoencoder_ffnn(experiment=exp,\n",
    "                 logger=logger,tf_session=sess,\n",
    "                 inputdim=len(corpus.abc)*10,\n",
    "                 layerlist=exp.weights,\n",
    "                 encode_index=int(exp.len/2),corpus=corpus,\n",
    "                 optimizer =tf.train.AdamOptimizer(learning_rate = 0.001),\n",
    "                 nonlinear=tf.sigmoid,\n",
    "                 charnum=len(corpus.abc))"
   ]
  },
  {
   "cell_type": "code",
   "execution_count": null,
   "metadata": {
    "collapsed": false,
    "deletable": true,
    "editable": true
   },
   "outputs": [],
   "source": [
    "encoder.train(corpus.x_train,corpus.x_valid,corpus.x_test,512,30)"
   ]
  },
  {
   "cell_type": "code",
   "execution_count": null,
   "metadata": {
    "collapsed": false,
    "deletable": true,
    "editable": true
   },
   "outputs": [],
   "source": [
    "stds=show_performance(encoder,corpus.x_test,corpus,10,printer=True,inputfsize=len(corpus.abc))"
   ]
  },
  {
   "cell_type": "code",
   "execution_count": null,
   "metadata": {
    "collapsed": false,
    "deletable": true,
    "editable": true,
    "scrolled": true
   },
   "outputs": [],
   "source": [
    "std=show_performance(encoder,[\"eh\",\"kecske\",\"kutya\",\"aytuk\",\"macska\",\"árvíztűrő\",\"fúró\",\"kacsa\",\"a\",\"és\"],corpus,printer=True,inputfsize=len(corpus.abc))"
   ]
  },
  {
   "cell_type": "code",
   "execution_count": null,
   "metadata": {
    "collapsed": false,
    "deletable": true,
    "editable": true
   },
   "outputs": [],
   "source": [
    "def decode_critical(lista,enc=180):\n",
    "    for POS in lista:\n",
    "        encoded=np.ones(enc)*-10\n",
    "        encoded[POS]=10\n",
    "        a=encoder.decode([encoded])[0].reshape([10,len(corpus.abc)])\n",
    "        b=corp.defeaturize_data_charlevel_onehot([a])\n",
    "        print(b)"
   ]
  },
  {
   "cell_type": "code",
   "execution_count": null,
   "metadata": {
    "collapsed": false,
    "deletable": true,
    "editable": true
   },
   "outputs": [],
   "source": [
    "import heapq\n",
    "topstd=heapq.nlargest(6, range(len(stds)), stds.__getitem__)\n",
    "big_stuff=[]\n",
    "for i in range(50):\n",
    "    big_stuff.append([])\n",
    "    for topind in topstd:\n",
    "        a=encoder.encode([corpus.x_test[i]])\n",
    "        a[0][topind]=2\n",
    "        b=encoder.decode([a[0]])[0].reshape([10,len(corpus.abc)])\n",
    "        c=corpus.defeaturize_data_charlevel_onehot([b])\n",
    "        big_stuff[i].append(c)\n",
    "for row in big_stuff:\n",
    "    print(row)"
   ]
  },
  {
   "cell_type": "code",
   "execution_count": null,
   "metadata": {
    "collapsed": false,
    "deletable": true,
    "editable": true
   },
   "outputs": [],
   "source": []
  }
 ],
 "metadata": {
  "anaconda-cloud": {},
  "kernelspec": {
   "display_name": "Python 3",
   "language": "python",
   "name": "python3"
  },
  "language_info": {
   "codemirror_mode": {
    "name": "ipython",
    "version": 3
   },
   "file_extension": ".py",
   "mimetype": "text/x-python",
   "name": "python",
   "nbconvert_exporter": "python",
   "pygments_lexer": "ipython3",
   "version": "3.4.2"
  }
 },
 "nbformat": 4,
 "nbformat_minor": 2
}
