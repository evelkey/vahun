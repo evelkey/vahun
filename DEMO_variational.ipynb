{
 "cells": [
  {
   "cell_type": "code",
   "execution_count": 1,
   "metadata": {
    "collapsed": false,
    "deletable": true,
    "editable": true
   },
   "outputs": [
    {
     "name": "stdout",
     "output_type": "stream",
     "text": [
      "Corpus initalized, fields: ['hun_lower'] \n",
      "Unique words:  83241\n",
      "(254464, 360)\n"
     ]
    }
   ],
   "source": [
    "%matplotlib inline\n",
    "import numpy as np\n",
    "import tensorflow as tf\n",
    "from vahun.tools import Timer\n",
    "from vahun.corpus import Corpus\n",
    "from vahun.tools import explog\n",
    "from vahun.variational_autoencoder import Variational_autoencoder\n",
    "from vahun.tools import show_performance\n",
    "\n",
    "encode=10\n",
    "dictsize=500000\n",
    "popsize=1\n",
    "\n",
    "\n",
    "config = tf.ConfigProto()\n",
    "config.gpu_options.allow_growth = True\n",
    "#config.gpu_options.per_process_gpu_memory_fraction=1\n",
    "corp_path='/home/velkey/corp/webkorpusz.wpl'\n",
    "corp=Corpus(corpus_path=corp_path,\n",
    "            needed_corpus=[\"hun_lower\"],\n",
    "            language=\"Hun\",size=dictsize,encoding_len=10)\n",
    "database=corp.hun_lower\n",
    "all_features=corp.featurize_data_charlevel_onehot(database)\n",
    "train=all_features[0:int(len(all_features)*0.8)]\n",
    "test=all_features[int(len(all_features)*0.8):len(all_features)]\n",
    "x_train = train.reshape((len(train), np.prod(train.shape[1:])))\n",
    "x_test = test.reshape((len(test), np.prod(test.shape[1:])))\n",
    "print(x_train.shape)\n",
    "\n",
    "logger=explog(encoder_type=\"variational_\"+str(encode),\n",
    "              encoding_dim=encode,feature_len=10,\n",
    "              lang=\"Hun\",unique_words=len(set(database)),\n",
    "              name=\"demo_variational_\"+str(encode),population_size=popsize,\n",
    "              words=len(corp.hun_lower))\n",
    "\n",
    "config = tf.ConfigProto()\n",
    "config.gpu_options.allow_growth = True\n",
    "sess = tf.Session(config=config)"
   ]
  },
  {
   "cell_type": "code",
   "execution_count": 2,
   "metadata": {
    "collapsed": false,
    "deletable": true,
    "editable": true
   },
   "outputs": [],
   "source": [
    "encoder=Variational_autoencoder(logger=logger,tf_session=sess,\n",
    "                         inputdim=360,\n",
    "                         encoding_size=60,\n",
    "                         optimizer =tf.train.AdamOptimizer(learning_rate = 0.001),\n",
    "                         nonlinear=tf.sigmoid)\n",
    "encoder.train(x_train,x_test,512,50)"
   ]
  },
  {
   "cell_type": "code",
   "execution_count": 4,
   "metadata": {
    "collapsed": false,
    "deletable": true,
    "editable": true
   },
   "outputs": [
    {
     "name": "stdout",
     "output_type": "stream",
     "text": [
      " eredetibb \t  elegetbbb\n",
      "   mélyebb \t    melyebb\n",
      "      volt \t       holt\n",
      "         a \t          a\n",
      "legidősebb \t feletésebb\n",
      "       fiú \t         ik\n",
      "  cholnoky \t    zalnogy\n",
      "    viktor \t     niktor\n",
      "         a \t          a\n",
      "      nagy \t       nagy\n",
      " történetű \t  terténete\n",
      "    magyar \t     magyar\n",
      "     egyik \t      egyik\n",
      "legnagyobb \t fellagyobb\n",
      "    alakja \t     alak a\n",
      "       aki \t        ami\n",
      " mindössze \t  keltrssze\n",
      "      évet \t       éget\n",
      "       ért \t        ért\n",
      "       meg \t        meg\n",
      "     akkor \t      akkor\n",
      "   végzett \t    kkszett\n",
      "      vele \t       vele\n",
      "        az \t         az\n",
      "   ifjúkor \t     aokkor\n",
      "       óta \t         ta\n",
      "    gyötrő \t     nrktre\n",
      "   tüdőbaj \t    tzoában\n",
      "         ő \t          a\n",
      "        is \t         is\n",
      " jogásznak \t  hálásznak\n",
      "    indult \t     inyált\n",
      "      mint \t       mint\n",
      "       oly \t        oly\n",
      "     sokan \t      sokan\n",
      "         a \t          a\n",
      "    magyar \t     magyar\n",
      "         ő \t          a\n",
      "       sem \t        sem\n",
      "      lett \t       lett\n",
      "       sem \t        sem\n",
      "    ügyvéd \t     anrmés\n",
      "       sem \t        sem\n",
      "      bíró \t        ara\n",
      "       sem \t        sem\n",
      "       már \t        már\n",
      "         a \t          a\n",
      "    minden \t     minden\n",
      " érdekelte \t  eizedelte\n",
      "   felsőbb \t     elszbb\n",
      "       sok \t        sok\n",
      "   mindent \t    minyent\n",
      " megtanult \t  megtanált\n",
      "        és \t         és\n",
      "    később \t     készbb\n",
      "         a \t          a\n",
      " budapesti \t   anapesti\n",
      "  meséltek \t   leszltek\n",
      "     arról \t      arról\n",
      "      hogy \t       hogy\n",
      "        ha \t          a\n",
      "valamilyen \t felamilyen\n",
      "     éppen \t      élben\n",
      " felmerülő \t  meleerrlő\n",
      "tudományos \t telaminyos\n",
      " kérdésről \t  kartésról\n",
      "    cikket \t     mikket\n",
      "   kellett \t    mellett\n",
      "      írni \t        rni\n",
      "     akkor \t      akkor\n",
      "   szóltak \t    száltak\n",
      "  cholnoky \t    zolnogy\n",
      " viktornak \t  kaztornak\n",
      "       aki \t        ami\n",
      "     mélán \t      mélán\n",
      " bólintott \t  helintott\n",
      "     leült \t      leált\n",
      "        az \t         az\n",
      "       még \t        még\n",
      "      csak \t       csak\n",
      "         a \t          a\n",
      "  lexikont \t   lerikont\n",
      "       sem \t        sem\n",
      "     vette \t      vette\n",
      "       elő \t        elő\n",
      "        és \t         és\n",
      "         a \t          a\n",
      "     lárma \t      lár a\n",
      " közepette \t  tszerette\n",
      "  pontosan \t   eontosan\n",
      "     annyi \t      annyi\n",
      "     hasáb \t      taság\n",
      "terjedelmű \t felzedelii\n",
      "       írt \t         rt\n",
      "  amennyit \t   ívennyit\n",
      "    kértek \t     kértek\n",
      "         a \t          a\n",
      "történelmi \t fe tonelsi\n",
      " dátumokat \t  sazarokat\n",
      "      vagy \t       vagy\n",
      "\n",
      "Accuracy on data:  87.98226861167002 %\n"
     ]
    },
    {
     "data": {
      "image/png": "[encoded data removed]",
      "text/plain": [
       "<matplotlib.figure.Figure at 0x7fbf08fd2a90>"
      ]
     },
     "metadata": {},
     "output_type": "display_data"
    }
   ],
   "source": [
    "show_performance(encoder,x_test,corp,100)"
   ]
  },
  {
   "cell_type": "code",
   "execution_count": 5,
   "metadata": {
    "collapsed": false,
    "deletable": true,
    "editable": true
   },
   "outputs": [
    {
     "name": "stdout",
     "output_type": "stream",
     "text": [
      "        eh \t         em\n",
      "    kecske \t     kersze\n",
      "     kutya \t      két a\n",
      "     aytuk \t      aétok\n",
      "    macska \t     mans a\n",
      " árvíztűrő \t   ölsztera\n",
      "      fúró \t       moró\n",
      "     kacsa \t       aésa\n",
      "         a \t          a\n",
      "        és \t         és\n",
      "\n",
      "Accuracy on data:  82.0 %\n"
     ]
    },
    {
     "data": {
      "image/png": "[encoded data removed]",
      "text/plain": [
       "<matplotlib.figure.Figure at 0x7fbf08f18518>"
      ]
     },
     "metadata": {},
     "output_type": "display_data"
    }
   ],
   "source": [
    "show_performance(encoder,[\"eh\",\"kecske\",\"kutya\",\"aytuk\",\"macska\",\"árvíztűrő\",\"fúró\",\"kacsa\",\"a\",\"és\"],corp)"
   ]
  }
 ],
 "metadata": {
  "kernelspec": {
   "display_name": "Python 3",
   "language": "python",
   "name": "python3"
  },
  "language_info": {
   "codemirror_mode": {
    "name": "ipython",
    "version": 3
   },
   "file_extension": ".py",
   "mimetype": "text/x-python",
   "name": "python",
   "nbconvert_exporter": "python",
   "pygments_lexer": "ipython3",
   "version": "3.4.2"
  }
 },
 "nbformat": 4,
 "nbformat_minor": 2
}
