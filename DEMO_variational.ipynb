{
 "cells": [
  {
   "cell_type": "code",
   "execution_count": 1,
   "metadata": {
    "collapsed": false,
    "deletable": true,
    "editable": true
   },
   "outputs": [],
   "source": [
    "%matplotlib inline\n",
    "import tensorflow as tf\n",
    "from vahun.Text import Text\n",
    "import numpy as np\n",
    "from vahun.tools import Timer\n",
    "from vahun.tools import explog\n",
    "from vahun.variational_autoencoder import Variational_autoencoder\n",
    "\n",
    "from vahun.tools import show_performance\n",
    "\n",
    "encode=180\n",
    "\n",
    "popsize=1\n",
    "\n",
    "\n",
    "config = tf.ConfigProto()\n",
    "config.gpu_options.allow_growth = True\n",
    "\n",
    "corpus=Text(corpus_path='/mnt/store/velkey/mnsz2/filt.200k.maxlen20',size=100000)\n",
    "\n",
    "logger=explog(encoder_type=\"hunfiltered_lowered_uniq_\"+str(encode),\n",
    "              encoding_dim=encode,feature_len=10,\n",
    "              lang=\"Hun\",unique_words=len(set(corpus.wordlist)),\n",
    "              name=\"autoencoder_lowered_\"+str(encode),population_size=popsize,\n",
    "              words=len(corpus.wordlist))\n",
    "\n",
    "config = tf.ConfigProto()\n",
    "config.gpu_options.allow_growth = True\n",
    "sess = tf.Session(config=config)\n"
   ]
  },
  {
   "cell_type": "code",
   "execution_count": 2,
   "metadata": {
    "collapsed": false,
    "deletable": true,
    "editable": true
   },
   "outputs": [],
   "source": [
    "encoder=Variational_autoencoder(logger=logger,tf_session=sess,\n",
    "                         inputdim=960,\n",
    "                         encoding_size=400,corpus=corpus,\n",
    "                         optimizer =tf.train.AdamOptimizer(learning_rate = 0.001),\n",
    "                         nonlinear=tf.sigmoid,\n",
    "                         charnum=len(corpus.abc))\n",
    "encoder.train(corpus.x_train,corpus.x_valid,corpus.x_test,512,80)"
   ]
  },
  {
   "cell_type": "code",
   "execution_count": 3,
   "metadata": {
    "collapsed": false,
    "deletable": true,
    "editable": true
   },
   "outputs": [
    {
     "name": "stdout",
     "output_type": "stream",
     "text": [
      "          kórházakat \t           kórházakat \t 0\n",
      "              dollár \t               dollár \t 0\n",
      "       sajátosságait \t        sajátosságait \t 0\n",
      "           verseiben \t            verseiben \t 0\n",
      "       felzárkóztató \t        felzárkóztató \t 0\n",
      "           lemérhető \t            lemérhető \t 0\n",
      "           bemutatja \t            bemutatja \t 0\n",
      "            műveleti \t             műveleti \t 0\n",
      "          megszegése \t           megszegése \t 0\n",
      "                mell \t                 mell \t 0\n",
      "\n",
      "Accuracy on data:  98.0645 %\n",
      "average Levenshtein distance:  0.3873\n"
     ]
    }
   ],
   "source": [
    "stds=show_performance(encoder,corpus.x_test,corpus,10,printer=True,inputfsize=48,inputdepth=20)"
   ]
  },
  {
   "cell_type": "code",
   "execution_count": 4,
   "metadata": {
    "collapsed": false,
    "deletable": true,
    "editable": true
   },
   "outputs": [
    {
     "name": "stdout",
     "output_type": "stream",
     "text": [
      "                   e \t                   oe \t 1\n",
      "                  eh \t                   et \t 1\n",
      "               kutya \t                kutya \t 0\n",
      "               aytuk \t                aytuk \t 0\n",
      "              macska \t               macska \t 0\n",
      "           árvíztűrő \t            árvízthrő \t 1\n",
      "                fúró \t                 fíró \t 1\n",
      "               kacsa \t                kacsa \t 0\n",
      "                   a \t                   ea \t 1\n",
      "                  és \t                   és \t 0\n",
      "\n",
      "Accuracy on data:  98.0 %\n",
      "average Levenshtein distance:  0.5\n"
     ]
    }
   ],
   "source": [
    "stds=show_performance(encoder,[\"e\",\"eh\",\"kutya\",\"aytuk\",\"macska\",\"árvíztűrő\",\"fúró\",\"kacsa\",\"a\",\"és\"],corpus,printer=True,inputfsize=48,inputdepth=20)"
   ]
  },
  {
   "cell_type": "code",
   "execution_count": 5,
   "metadata": {
    "collapsed": false,
    "deletable": true,
    "editable": true
   },
   "outputs": [],
   "source": [
    "def decode_critical(enc=180):\n",
    "    for POS in range(enc):\n",
    "        encoded=np.ones(enc)\n",
    "        encoded[POS]=0\n",
    "        a=encoder.decode([encoded])[0].reshape([10,36])\n",
    "\n",
    "        b=corp.defeaturize_data_charlevel_onehot([a])\n",
    "        print(b)"
   ]
  },
  {
   "cell_type": "code",
   "execution_count": null,
   "metadata": {
    "collapsed": false,
    "deletable": true,
    "editable": true
   },
   "outputs": [],
   "source": []
  }
 ],
 "metadata": {
  "kernelspec": {
   "display_name": "Python 3",
   "language": "python",
   "name": "python3"
  },
  "language_info": {
   "codemirror_mode": {
    "name": "ipython",
    "version": 3
   },
   "file_extension": ".py",
   "mimetype": "text/x-python",
   "name": "python",
   "nbconvert_exporter": "python",
   "pygments_lexer": "ipython3",
   "version": "3.4.2"
  }
 },
 "nbformat": 4,
 "nbformat_minor": 2
}
