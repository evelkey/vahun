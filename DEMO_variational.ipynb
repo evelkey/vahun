{
 "cells": [
  {
   "cell_type": "code",
   "execution_count": 1,
   "metadata": {
    "collapsed": false,
    "deletable": true,
    "editable": true
   },
   "outputs": [],
   "source": [
    "%matplotlib inline\n",
    "import tensorflow as tf\n",
    "from vahun.Text import Text\n",
    "import numpy as np\n",
    "from vahun.tools import Timer\n",
    "from vahun.tools import explog\n",
    "from vahun.variational_autoencoder import Variational_autoencoder\n",
    "from vahun.genetic import evolution\n",
    "from vahun.genetic import experiment\n",
    "from vahun.tools import show_performance\n",
    "\n",
    "encode=180\n",
    "\n",
    "popsize=1\n",
    "\n",
    "\n",
    "config = tf.ConfigProto()\n",
    "config.gpu_options.allow_growth = True\n",
    "\n",
    "corpus=Text(corpus_path='/mnt/store/velkey/mnsz2/mnsz2.100M.freqs.hunfiltered_lowered',size=100000)\n",
    "\n",
    "logger=explog(encoder_type=\"hunfiltered_lowered_uniq_\"+str(encode),\n",
    "              encoding_dim=encode,feature_len=10,\n",
    "              lang=\"Hun\",unique_words=len(set(corpus.wordlist)),\n",
    "              name=\"autoencoder_lowered_\"+str(encode),population_size=popsize,\n",
    "              words=len(corpus.wordlist))\n",
    "\n",
    "config = tf.ConfigProto()\n",
    "config.gpu_options.allow_growth = True\n",
    "sess = tf.Session(config=config)\n",
    "\n",
    "exp=experiment(encoded_width=10,layermax=10,layermin=2,maxw=10,minw=3,out_dim=corpus.abc*10)\n",
    "\n",
    "exp.weights=[encode, len(corpus.abc)*10]\n",
    "exp.len=len(exp.weights)"
   ]
  },
  {
   "cell_type": "code",
   "execution_count": 2,
   "metadata": {
    "collapsed": false,
    "deletable": true,
    "editable": true
   },
   "outputs": [],
   "source": [
    "encoder=Variational_autoencoder(logger=logger,tf_session=sess,\n",
    "                         inputdim=480,\n",
    "                         encoding_size=180,corpus=corpus,\n",
    "                         optimizer =tf.train.AdamOptimizer(learning_rate = 0.001),\n",
    "                         nonlinear=tf.sigmoid)\n",
    "encoder.train(corpus.x_train,corpus.x_valid,corpus.x_test,512,80)"
   ]
  },
  {
   "cell_type": "code",
   "execution_count": 6,
   "metadata": {
    "collapsed": false,
    "deletable": true,
    "editable": true
   },
   "outputs": [
    {
     "name": "stdout",
     "output_type": "stream",
     "text": [
      "szálanként \t szálanként \t 0\n",
      " aratáskor \t  aratáskor \t 0\n",
      "      domb \t       dobt \t 2\n",
      " találjunk \t  találjunk \t 0\n",
      "többségére \t tábbségére \t 1\n",
      "  láthatta \t   láthatta \t 0\n",
      "     birom \t      birom \t 0\n",
      "   kihívja \t    kihívja \t 0\n",
      "  kamatozó \t   kamatozó \t 0\n",
      "üzenetemet \t szenetemet \t 1\n",
      "\n",
      "Accuracy on data:  94.37092391304348 %\n",
      "average Levenshtein distance:  0.566168478261\n"
     ]
    }
   ],
   "source": [
    "stds=show_performance(encoder,corpus.x_test,corpus,10,printer=True,inputfsize=48)"
   ]
  },
  {
   "cell_type": "code",
   "execution_count": 8,
   "metadata": {
    "collapsed": false,
    "deletable": true,
    "editable": true
   },
   "outputs": [
    {
     "name": "stdout",
     "output_type": "stream",
     "text": [
      "         e \t         ve \t 1\n",
      "        eh \t         et \t 1\n",
      "     kutya \t      kutya \t 0\n",
      "     aytuk \t      aytuk \t 0\n",
      "    macska \t     macska \t 0\n",
      " árvíztűrő \t  árviztörő \t 2\n",
      "      fúró \t       híró \t 2\n",
      "     kacsa \t      kapsa \t 1\n",
      "         a \t         ta \t 1\n",
      "        és \t         és \t 0\n",
      "\n",
      "Accuracy on data:  92.0 %\n",
      "average Levenshtein distance:  0.8\n"
     ]
    }
   ],
   "source": [
    "stds=show_performance(encoder,[\"e\",\"eh\",\"kutya\",\"aytuk\",\"macska\",\"árvíztűrő\",\"fúró\",\"kacsa\",\"a\",\"és\"],corpus,printer=True,inputfsize=48)"
   ]
  },
  {
   "cell_type": "code",
   "execution_count": 9,
   "metadata": {
    "collapsed": false,
    "deletable": true,
    "editable": true
   },
   "outputs": [],
   "source": [
    "def decode_critical(enc=180):\n",
    "    for POS in range(enc):\n",
    "        encoded=np.ones(enc)\n",
    "        encoded[POS]=0\n",
    "        a=encoder.decode([encoded])[0].reshape([10,36])\n",
    "\n",
    "        b=corp.defeaturize_data_charlevel_onehot([a])\n",
    "        print(b)"
   ]
  },
  {
   "cell_type": "code",
   "execution_count": null,
   "metadata": {
    "collapsed": false,
    "deletable": true,
    "editable": true
   },
   "outputs": [],
   "source": []
  }
 ],
 "metadata": {
  "kernelspec": {
   "display_name": "Python 3",
   "language": "python",
   "name": "python3"
  },
  "language_info": {
   "codemirror_mode": {
    "name": "ipython",
    "version": 3
   },
   "file_extension": ".py",
   "mimetype": "text/x-python",
   "name": "python",
   "nbconvert_exporter": "python",
   "pygments_lexer": "ipython3",
   "version": "3.4.2"
  }
 },
 "nbformat": 4,
 "nbformat_minor": 2
}
