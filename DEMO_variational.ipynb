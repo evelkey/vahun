{
 "cells": [
  {
   "cell_type": "code",
   "execution_count": 1,
   "metadata": {
    "collapsed": false,
    "deletable": true,
    "editable": true
   },
   "outputs": [
    {
     "name": "stdout",
     "output_type": "stream",
     "text": [
      "Reading file, speed:  2254264.060853194  words/s\n",
      "Reading file, speed:  2175554.638045898  words/s\n",
      "Corpus initalized, fields: ['hun_lower_unique'] \n",
      "Unique words:  214708\n",
      "(46627, 380)\n"
     ]
    }
   ],
   "source": [
    "%matplotlib inline\n",
    "import numpy as np\n",
    "import tensorflow as tf\n",
    "from vahun.tools import Timer\n",
    "from vahun.corpus import Corpus\n",
    "from vahun.tools import explog\n",
    "from vahun.variational_autoencoder import Variational_autoencoder\n",
    "from vahun.tools import show_performance\n",
    "\n",
    "encode=180\n",
    "dictsize=2000000\n",
    "popsize=1\n",
    "\n",
    "\n",
    "config = tf.ConfigProto()\n",
    "config.gpu_options.allow_growth = True\n",
    "#config.gpu_options.per_process_gpu_memory_fraction=1\n",
    "corp_path='/mnt/permanent/Language/Hungarian/Corp/Webkorpusz/webkorpusz.wpl'\n",
    "corp=Corpus(corpus_path=corp_path,\n",
    "            needed_corpus=[\"hun_lower_unique\"],\n",
    "            language=\"Hun\",size=dictsize,encoding_len=10)\n",
    "database=corp.mark_list(corp.hun_lower_unique)\n",
    "all_features=corp.featurize_data_charlevel_onehot(database)\n",
    "train=all_features[0:int(len(all_features)*0.8)]\n",
    "test=all_features[int(len(all_features)*0.8):len(all_features)]\n",
    "x_train = train.reshape((len(train), np.prod(train.shape[1:])))\n",
    "x_test = test.reshape((len(test), np.prod(test.shape[1:])))\n",
    "print(x_train.shape)\n",
    "\n",
    "logger=explog(encoder_type=\"variational_unique_\"+str(encode),\n",
    "              encoding_dim=encode,feature_len=10,\n",
    "              lang=\"Hun\",unique_words=len(set(database)),\n",
    "              name=\"variational_unique_\"+str(encode),population_size=popsize,\n",
    "              words=len(corp.hun_lower_unique))\n",
    "\n",
    "config = tf.ConfigProto()\n",
    "config.gpu_options.allow_growth = True\n",
    "sess = tf.Session(config=config)"
   ]
  },
  {
   "cell_type": "code",
   "execution_count": 2,
   "metadata": {
    "collapsed": false,
    "deletable": true,
    "editable": true
   },
   "outputs": [],
   "source": [
    "encoder=Variational_autoencoder(logger=logger,tf_session=sess,\n",
    "                         inputdim=380,\n",
    "                         encoding_size=180,\n",
    "                         optimizer =tf.train.AdamOptimizer(learning_rate = 0.001),\n",
    "                         nonlinear=tf.sigmoid)\n",
    "encoder.train(x_train,x_test,512,80)"
   ]
  },
  {
   "cell_type": "code",
   "execution_count": 3,
   "metadata": {
    "collapsed": false,
    "deletable": true,
    "editable": true
   },
   "outputs": [
    {
     "name": "stdout",
     "output_type": "stream",
     "text": [
      "   ^kupák$ \t    ^kupák$\n",
      "   ^harag$ \t    ^harag$\n",
      " ^kupában$ \t  ^kupában$\n",
      " ^komárom$ \t  ^komárom$\n",
      "^mezőknek$ \t ^mezőknek$\n",
      "   ^ivarú$ \t    ^ivara$\n",
      "    ^állt$ \t     ^állt$\n",
      " ^szétdől$ \t  ^szétdől$\n",
      "     ^önt$ \t      ^ünt$\n",
      " ^véghseő$ \t  ^véghseő$\n",
      "  ^hibáin$ \t   ^hibáin$\n",
      " ^mozgású$ \t  ^mozgásr$\n",
      "^emigrált$ \t ^emigrált$\n",
      "  ^pénzük$ \t   ^pénzük$\n",
      " ^ábránál$ \t  ^ábránál$\n",
      "     ^éld$ \t      ^éld$\n",
      "  ^rátára$ \t   ^rátára$\n",
      "^atlantai$ \t ^atlantai$\n",
      "^ajtókkal$ \t ^adtókkal$\n",
      "  ^aceton$ \t   ^aceton$\n",
      "^iparosok$ \t ^iparosok$\n",
      "    ^váró$ \t     ^váró$\n",
      "  ^mérget$ \t   ^mérget$\n",
      "    ^nált$ \t     ^nált$\n",
      "    ^sand$ \t     ^sand$\n",
      "^csúsztat$ \t ^csgsztat$\n",
      " ^hántára$ \t  ^hántára$\n",
      " ^kötetei$ \t  ^kötetei$\n",
      "^fölhívni$ \t ^fölhívni$\n",
      " ^párolja$ \t  ^párolja$\n",
      " ^hideget$ \t  ^hideget$\n",
      "^koszigin$ \t ^koszigin$\n",
      "^fiúsarja$ \t ^fifsarja$\n",
      "^kárunkra$ \t ^kárunkra$\n",
      "   ^gazsó$ \t    ^gazsó$\n",
      " ^szaknak$ \t  ^szaknak$\n",
      " ^magamra$ \t  ^magamra$\n",
      "   ^órára$ \t    ^órára$\n",
      "^díszítem$ \t ^ivszítem$\n",
      "  ^auchan$ \t   ^auchan$\n",
      "  ^nőttek$ \t   ^nőttek$\n",
      "^rossinál$ \t ^rossinál$\n",
      "  ^érdeke$ \t   ^érdeke$\n",
      "     ^éca$ \t      ^éra$\n",
      " ^vásáron$ \t  ^vásáron$\n",
      " ^kerítik$ \t  ^kerítik$\n",
      " ^öltözve$ \t  ^öltözve$\n",
      "    ^muhi$ \t     ^mumi$\n",
      "   ^egyet$ \t    ^egyet$\n",
      "^papucsok$ \t ^papucsok$\n",
      "^fogalmaz$ \t ^fogalmaz$\n",
      "^formában$ \t ^formában$\n",
      " ^örömeit$ \t  ^örömeit$\n",
      "  ^huszti$ \t   ^huszti$\n",
      "    ^kört$ \t     ^kört$\n",
      "   ^érzet$ \t    ^érzet$\n",
      "   ^nekik$ \t    ^nekik$\n",
      " ^nézetem$ \t  ^nézetem$\n",
      "^megfázni$ \t ^megfázni$\n",
      "^áruhitel$ \t ^áruhitel$\n",
      "  ^keltve$ \t   ^keltve$\n",
      "^sziklára$ \t ^sziklára$\n",
      "  ^gyovai$ \t   ^gyovai$\n",
      "^nagyarcú$ \t ^nagyarms$\n",
      " ^bedugni$ \t  ^bedugni$\n",
      "^krokodil$ \t ^krokodil$\n",
      "   ^maría$ \t    ^marna$\n",
      " ^karasev$ \t  ^karases$\n",
      " ^babákat$ \t  ^babákat$\n",
      " ^érzetem$ \t  ^érzetem$\n",
      "  ^essays$ \t   ^essays$\n",
      "^megválik$ \t ^megválik$\n",
      "   ^ivott$ \t    ^ivott$\n",
      "  ^béklyó$ \t   ^béklyó$\n",
      "^keverést$ \t ^keverést$\n",
      "   ^házzá$ \t    ^házzi$\n",
      " ^képzett$ \t  ^képzett$\n",
      "  ^györke$ \t   ^györke$\n",
      "  ^férfit$ \t   ^férlit$\n",
      "^hajnalok$ \t ^hajnalok$\n",
      "^elvettük$ \t ^elvettük$\n",
      "  ^diákot$ \t   ^diákot$\n",
      "^fotósnak$ \t ^fotósnak$\n",
      "^előzőkre$ \t ^előzőkre$\n",
      "^körútról$ \t ^körótról$\n",
      "  ^coward$ \t   ^cojard$\n",
      "^juttassa$ \t ^ruttassa$\n",
      "   ^lemez$ \t    ^lemez$\n",
      "^metróban$ \t ^metróban$\n",
      "^forróról$ \t ^forróról$\n",
      "  ^mértem$ \t   ^mértem$\n",
      "^kivitelű$ \t ^kivitelő$\n",
      "      ^vt$ \t       ^vt$\n",
      "^megírtam$ \t ^megírtam$\n",
      " ^hajthat$ \t  ^hajthat$\n",
      "   ^sárdy$ \t    ^sárdy$\n",
      "    ^dőlt$ \t     ^dült$\n",
      "    ^inas$ \t     ^inas$\n",
      "^adhatott$ \t ^adhatott$\n",
      "  ^útjaik$ \t   ^^tjaik$\n",
      "\n",
      "Accuracy on data:  97.62374538903663 %\n"
     ]
    },
    {
     "data": {
      "image/png": "[encoded data removed]",
      "text/plain": [
       "<matplotlib.figure.Figure at 0x7f6e644fa7f0>"
      ]
     },
     "metadata": {},
     "output_type": "display_data"
    }
   ],
   "source": [
    "stds=show_performance(encoder,x_test,corp,100,printer=True)"
   ]
  },
  {
   "cell_type": "code",
   "execution_count": 7,
   "metadata": {
    "collapsed": false,
    "deletable": true,
    "editable": true
   },
   "outputs": [
    {
     "name": "stdout",
     "output_type": "stream",
     "text": [
      "         e \t       ^ak$\n",
      "        eh \t       ^be$\n",
      "     kutya \t      kuty$\n",
      "     aytuk \t      aytk$\n",
      "    macska \t     macsk$\n",
      " árvíztűrő \t  ^rvíztlr$\n",
      "      fúró \t       ^er$\n",
      "   ^kacsa$ \t    ^kacsa$\n",
      "         a \t       ^ns$\n",
      "        és \t       ^té$\n",
      "\n",
      "Accuracy on data:  76.0 %\n"
     ]
    },
    {
     "data": {
      "image/png": "[encoded data removed]",
      "text/plain": [
       "<matplotlib.figure.Figure at 0x7f6e04e08470>"
      ]
     },
     "metadata": {},
     "output_type": "display_data"
    }
   ],
   "source": [
    "stds=show_performance(encoder,[\"e\",\"eh\",\"kutya\",\"aytuk\",\"macska\",\"árvíztűrő\",\"fúró\",\"^kacsa$\",\"a\",\"és\"],corp,printer=True)"
   ]
  },
  {
   "cell_type": "code",
   "execution_count": 5,
   "metadata": {
    "collapsed": false,
    "deletable": true,
    "editable": true
   },
   "outputs": [],
   "source": [
    "def decode_critical(enc=180):\n",
    "    for POS in range(enc):\n",
    "        encoded=np.ones(enc)\n",
    "        encoded[POS]=0\n",
    "        a=encoder.decode([encoded])[0].reshape([10,36])\n",
    "\n",
    "        b=corp.defeaturize_data_charlevel_onehot([a])\n",
    "        print(b)"
   ]
  },
  {
   "cell_type": "code",
   "execution_count": 6,
   "metadata": {
    "collapsed": false,
    "deletable": true,
    "editable": true
   },
   "outputs": [
    {
     "name": "stdout",
     "output_type": "stream",
     "text": [
      "valami kaxxxa pizs dzsip\n",
      "valami kacsa pixxx dxxxip\n",
      "valami kacsa pizs dzsip\n"
     ]
    }
   ],
   "source": [
    "a=\"valami kacsa pizs dzsip\"\n",
    "for items in [\"cs\",\"zs\"]:\n",
    "    print(a.replace(items,\"xxx\"))\n",
    "print(a)"
   ]
  }
 ],
 "metadata": {
  "kernelspec": {
   "display_name": "Python 3",
   "language": "python",
   "name": "python3"
  },
  "language_info": {
   "codemirror_mode": {
    "name": "ipython",
    "version": 3
   },
   "file_extension": ".py",
   "mimetype": "text/x-python",
   "name": "python",
   "nbconvert_exporter": "python",
   "pygments_lexer": "ipython3",
   "version": "3.4.2"
  }
 },
 "nbformat": 4,
 "nbformat_minor": 2
}
