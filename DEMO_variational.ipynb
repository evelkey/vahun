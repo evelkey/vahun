{
 "cells": [
  {
   "cell_type": "code",
   "execution_count": 1,
   "metadata": {
    "collapsed": false,
    "deletable": true,
    "editable": true
   },
   "outputs": [
    {
     "name": "stdout",
     "output_type": "stream",
     "text": [
      "Reading file, speed:  1871210.7828178732  words/s\n",
      "Reading file, speed:  2191347.053076493  words/s\n",
      "Corpus initalized, fields: ['hun_lower_unique'] \n",
      "Unique words:  214708\n",
      "(81526, 380)\n"
     ]
    }
   ],
   "source": [
    "%matplotlib inline\n",
    "import numpy as np\n",
    "import tensorflow as tf\n",
    "from vahun.tools import Timer\n",
    "from vahun.corpus import Corpus\n",
    "from vahun.tools import explog\n",
    "from vahun.variational_autoencoder import Variational_autoencoder\n",
    "from vahun.tools import show_performance\n",
    "\n",
    "encode=180\n",
    "dictsize=2000000\n",
    "popsize=1\n",
    "\n",
    "\n",
    "config = tf.ConfigProto()\n",
    "config.gpu_options.allow_growth = True\n",
    "#config.gpu_options.per_process_gpu_memory_fraction=1\n",
    "corp_path='/mnt/permanent/Language/Hungarian/Corp/Webkorpusz/webkorpusz.wpl'\n",
    "corp=Corpus(corpus_path=corp_path,\n",
    "            needed_corpus=[\"hun_lower_unique\"],\n",
    "            language=\"Hun\",size=dictsize,encoding_len=10)\n",
    "database=corp.hun_lower_unique\n",
    "all_features=corp.featurize_data_charlevel_onehot(database)\n",
    "train=all_features[0:int(len(all_features)*0.8)]\n",
    "test=all_features[int(len(all_features)*0.8):len(all_features)]\n",
    "x_train = train.reshape((len(train), np.prod(train.shape[1:])))\n",
    "x_test = test.reshape((len(test), np.prod(test.shape[1:])))\n",
    "print(x_train.shape)\n",
    "\n",
    "logger=explog(encoder_type=\"variational_unique_\"+str(encode),\n",
    "              encoding_dim=encode,feature_len=10,\n",
    "              lang=\"Hun\",unique_words=len(set(database)),\n",
    "              name=\"variational_unique_\"+str(encode),population_size=popsize,\n",
    "              words=len(corp.hun_lower_unique))\n",
    "\n",
    "config = tf.ConfigProto()\n",
    "config.gpu_options.allow_growth = True\n",
    "sess = tf.Session(config=config)"
   ]
  },
  {
   "cell_type": "code",
   "execution_count": 2,
   "metadata": {
    "collapsed": false,
    "deletable": true,
    "editable": true
   },
   "outputs": [],
   "source": [
    "encoder=Variational_autoencoder(logger=logger,tf_session=sess,\n",
    "                         inputdim=380,\n",
    "                         encoding_size=180,\n",
    "                         optimizer =tf.train.AdamOptimizer(learning_rate = 0.001),\n",
    "                         nonlinear=tf.sigmoid)\n",
    "encoder.train(x_train,x_test,512,80)"
   ]
  },
  {
   "cell_type": "code",
   "execution_count": 3,
   "metadata": {
    "collapsed": false,
    "deletable": true,
    "editable": true
   },
   "outputs": [
    {
     "name": "stdout",
     "output_type": "stream",
     "text": [
      " feleséget \t  feleséget \t 0\n",
      "kosarakban \t kosarakban \t 0\n",
      " budavidék \t  budavidék \t 0\n",
      "  alapozót \t   alapozót \t 0\n",
      "  húzásnál \t   hízásnál \t 1\n",
      "    méhben \t     méhben \t 0\n",
      " megtudhat \t  megtudhat \t 0\n",
      "    műsört \t     mcsurt \t 2\n",
      "   zealand \t    zealand \t 0\n",
      "   ételsor \t    ételsor \t 0\n",
      "  megfűzöm \t   megöözöm \t 2\n",
      "  tagadója \t   tagadója \t 0\n",
      "megaláznak \t megaláznak \t 0\n",
      "  gépeivel \t   gépeivel \t 0\n",
      "elnököknek \t elnököknek \t 0\n",
      " éjfeketén \t  épfeketén \t 1\n",
      " meghajtva \t  meghajtva \t 0\n",
      " ébresszék \t  ébresszék \t 0\n",
      "  megadást \t   megadást \t 0\n",
      "  mobilban \t   mobilban \t 0\n",
      "társulatot \t társulatot \t 0\n",
      "presztízsű \t éresztízsz \t 2\n",
      "fekvésének \t fekvésének \t 0\n",
      "   nevéből \t    nevéből \t 0\n",
      "  zuhanunk \t   zuhanunk \t 0\n",
      "  vonjátok \t   vonjátok \t 0\n",
      " csináltuk \t  csináltuk \t 0\n",
      "     idegi \t      idegi \t 0\n",
      " behajtjuk \t  behajtjuk \t 0\n",
      " játékaiba \t  vátékaiba \t 1\n",
      "    bitkom \t     bitkom \t 0\n",
      "  newsweek \t   necsreek \t 2\n",
      "megfejelve \t megfejelve \t 0\n",
      "elnökökkel \t elnökökkel \t 0\n",
      "    ujjaik \t     ujjaik \t 0\n",
      "      élne \t       élne \t 0\n",
      " elérkezik \t  elérkezik \t 0\n",
      "     fúrás \t       jrás \t 2\n",
      "köznyelvre \t köznyelvre \t 0\n",
      "katartikus \t katartikus \t 0\n",
      "  meghívás \t   meghívás \t 0\n",
      "  támlával \t   támlával \t 0\n",
      "  formához \t   formához \t 0\n",
      "megfelelőo \t megfelelől \t 1\n",
      "  kitértek \t   kitértek \t 0\n",
      " tecusinak \t  tehusinak \t 1\n",
      "   gázokon \t    gázokon \t 0\n",
      "    adózót \t     adózót \t 0\n",
      " odavezető \t  odavezető \t 0\n",
      "mindenáron \t mindenáron \t 0\n",
      " kiépítése \t  kiépítése \t 0\n",
      "  börzéken \t   börzéken \t 0\n",
      "      ruha \t       rula \t 1\n",
      "légmozgást \t mégmozgást \t 1\n",
      "  céljáról \t   héljáról \t 1\n",
      " masszőrök \t  masszörök \t 1\n",
      "     nőkön \t      nökön \t 1\n",
      "  betöltse \t   betöltse \t 0\n",
      "     hetet \t      hetet \t 0\n",
      " feliratát \t  feliratát \t 0\n",
      " étrendjét \t  étrendjét \t 0\n",
      "iskolázási \t cskolázási \t 1\n",
      "     észak \t      észak \t 0\n",
      "    vetnem \t     vetnem \t 0\n",
      "szenvedése \t szenvedése \t 0\n",
      "előnyöknek \t elönyöknek \t 1\n",
      "  illékony \t   illékony \t 0\n",
      "     house \t      house \t 0\n",
      "   blöffön \t    blöönön \t 2\n",
      "  terjedni \t   terjedni \t 0\n",
      "     mezei \t      mezei \t 0\n",
      " köpködnek \t  köpködnek \t 0\n",
      "   hajózva \t    hajózva \t 0\n",
      "   fotexet \t    fotejet \t 1\n",
      "zsiradékon \t csiradékon \t 1\n",
      "       dpa \t        dja \t 1\n",
      " írásaiban \t   rásaiban \t 1\n",
      " lelhetünk \t  lelhetünk \t 0\n",
      "válaszokon \t válaszokon \t 0\n",
      "válogattak \t válogattak \t 0\n",
      "    idézni \t     idézni \t 0\n",
      "   kasszám \t    kasszám \t 0\n",
      "    intrót \t     intrót \t 0\n",
      "      ború \t       borg \t 1\n",
      "kikapcsoló \t kikapcsoló \t 0\n",
      "felvethető \t felvethető \t 0\n",
      " fizikához \t  fizikához \t 0\n",
      " textíliát \t  tektíliát \t 1\n",
      "       aba \t        aba \t 0\n",
      "  eljussak \t   eljussak \t 0\n",
      "   hörögte \t    hörögte \t 0\n",
      "ilyesminek \t elyesminek \t 1\n",
      "  magamért \t   magamért \t 0\n",
      "  mutassuk \t   mutassuk \t 0\n",
      "megküzdjön \t megközdjün \t 2\n",
      "      bios \t       bios \t 0\n",
      "  anyagból \t   anyagból \t 0\n",
      " szerepeim \t  szerepeim \t 0\n",
      " parketten \t  harketten \t 1\n",
      "   gépipar \t    gépipar \t 0\n",
      "\n",
      "Accuracy on data:  95.7540967520361 %\n",
      "average Levenshtein distance:  0.424639387695\n"
     ]
    }
   ],
   "source": [
    "stds=show_performance(encoder,x_test,corp,100,printer=True)"
   ]
  },
  {
   "cell_type": "code",
   "execution_count": 4,
   "metadata": {
    "collapsed": false,
    "deletable": true,
    "editable": true
   },
   "outputs": [
    {
     "name": "stdout",
     "output_type": "stream",
     "text": [
      "         e \t         ke \t 1\n",
      "        eh \t         ee \t 1\n",
      "     kutya \t      kutea \t 1\n",
      "     aytuk \t      aytuk \t 0\n",
      "    macska \t     macska \t 0\n",
      " árvíztűrő \t  árvöztörő \t 2\n",
      "      fúró \t        eró \t 2\n",
      "   ^kacsa$ \t     kacsan \t 2\n",
      "         a \t         ba \t 1\n",
      "        és \t         és \t 0\n",
      "\n",
      "Accuracy on data:  90.0 %\n",
      "average Levenshtein distance:  1.0\n"
     ]
    }
   ],
   "source": [
    "stds=show_performance(encoder,[\"e\",\"eh\",\"kutya\",\"aytuk\",\"macska\",\"árvíztűrő\",\"fúró\",\"kacsa\",\"a\",\"és\"],corp,printer=True)"
   ]
  },
  {
   "cell_type": "code",
   "execution_count": 5,
   "metadata": {
    "collapsed": false,
    "deletable": true,
    "editable": true
   },
   "outputs": [],
   "source": [
    "def decode_critical(enc=180):\n",
    "    for POS in range(enc):\n",
    "        encoded=np.ones(enc)\n",
    "        encoded[POS]=0\n",
    "        a=encoder.decode([encoded])[0].reshape([10,36])\n",
    "\n",
    "        b=corp.defeaturize_data_charlevel_onehot([a])\n",
    "        print(b)"
   ]
  },
  {
   "cell_type": "code",
   "execution_count": null,
   "metadata": {
    "collapsed": false,
    "deletable": true,
    "editable": true
   },
   "outputs": [],
   "source": []
  }
 ],
 "metadata": {
  "kernelspec": {
   "display_name": "Python 3",
   "language": "python",
   "name": "python3"
  },
  "language_info": {
   "codemirror_mode": {
    "name": "ipython",
    "version": 3
   },
   "file_extension": ".py",
   "mimetype": "text/x-python",
   "name": "python",
   "nbconvert_exporter": "python",
   "pygments_lexer": "ipython3",
   "version": "3.4.2"
  }
 },
 "nbformat": 4,
 "nbformat_minor": 2
}
