{
 "cells": [
  {
   "cell_type": "code",
   "execution_count": 9,
   "metadata": {
    "collapsed": false,
    "deletable": true,
    "editable": true
   },
   "outputs": [
    {
     "name": "stdout",
     "output_type": "stream",
     "text": [
      "Reading file, speed:  2293142.284797033  words/s\n",
      "Corpus initalized, fields: ['unique', 'lower', 'hun_lower', 'lower_unique', 'hun_lower_unique'] \n",
      "Unique words:  135416\n",
      "(511252, 360)\n"
     ]
    }
   ],
   "source": [
    "import tensorflow as tf\n",
    "\n",
    "from corpus import Corpus\n",
    "import numpy as np\n",
    "\n",
    "from tools import Timer\n",
    "from tools import explog\n",
    "from autoencoders import Autoencoder_ffnn\n",
    "from genetic import evolution\n",
    "from genetic import experiment\n",
    "\n",
    "encode=10\n",
    "dictsize=1000000\n",
    "popsize=40\n",
    "\n",
    "\n",
    "config = tf.ConfigProto()\n",
    "config.gpu_options.allow_growth = True\n",
    "#config.gpu_options.per_process_gpu_memory_fraction=1\n",
    "corp_path=\"/mnt/permanent/Language/Hungarian/Corp/Webkorpusz/webkorpusz.wpl\"#'/home/velkey/corp/webkorpusz.wpl'\n",
    "corp=Corpus(corpus_path=corp_path,language=\"Hun\",size=dictsize,encoding_len=10)\n",
    "all_features=corp.featurize_data_charlevel_onehot(corp.hun_lower)\n",
    "train=all_features[0:int(len(all_features)*0.8)]\n",
    "test=all_features[int(len(all_features)*0.8):len(all_features)]\n",
    "x_train = train.reshape((len(train), np.prod(train.shape[1:])))\n",
    "x_test = test.reshape((len(test), np.prod(test.shape[1:])))\n",
    "print(x_train.shape)\n",
    "\n",
    "logger=explog(encoder_type=\"Accuracy_tracker_\"+str(encode),\n",
    "              encoding_dim=encode,feature_len=10,\n",
    "              lang=\"Hun\",unique_words=len(set(corp.full)),\n",
    "              name=\"demo\"+str(encode),population_size=popsize,\n",
    "              words=len(corp.hun_lower))\n",
    "\n",
    "config = tf.ConfigProto()\n",
    "config.gpu_options.allow_growth = True\n",
    "sess = tf.Session(config=config)\n",
    "\n",
    "exp=experiment(encoded_width=10,layermax=10,layermin=2,maxw=10,minw=3,out_dim=360)\n",
    "exp.weights=[348, 254, 10, 254, 348, 360]\n",
    "exp.len=len(exp.weights)"
   ]
  },
  {
   "cell_type": "code",
   "execution_count": 10,
   "metadata": {
    "collapsed": false,
    "deletable": true,
    "editable": true
   },
   "outputs": [],
   "source": [
    "encoder=Autoencoder_ffnn(experiment=exp,\n",
    "                 logger=logger,tf_session=sess,\n",
    "                 inputdim=360,\n",
    "                 layerlist=exp.weights,\n",
    "                 encode_index=int(exp.len/2-1),\n",
    "                 optimizer =tf.train.AdamOptimizer(learning_rate = 0.001),\n",
    "                 nonlinear=tf.sigmoid)"
   ]
  },
  {
   "cell_type": "code",
   "execution_count": 11,
   "metadata": {
    "collapsed": true,
    "deletable": true,
    "editable": true
   },
   "outputs": [],
   "source": [
    "encoder.train(x_train,x_test,512,50)"
   ]
  },
  {
   "cell_type": "code",
   "execution_count": 4,
   "metadata": {
    "collapsed": false,
    "deletable": true,
    "editable": true
   },
   "outputs": [],
   "source": []
  },
  {
   "cell_type": "code",
   "execution_count": 41,
   "metadata": {
    "collapsed": false,
    "deletable": true,
    "editable": true
   },
   "outputs": [],
   "source": [
    "import matplotlib.pyplot as plt\n",
    "import matplotlib\n",
    "import pandas as pd\n",
    "import os\n",
    "%matplotlib inline\n",
    "\n",
    "def show_performance(data,length=0,inputdepth=10,inputfsize=36):\n",
    "    if isinstance(data,list):\n",
    "        handmade=corp.featurize_data_charlevel_onehot(data)\n",
    "        data=handmade.reshape((len(handmade), np.prod(handmade.shape[1:])))\n",
    "        if length=0:\n",
    "            length=len(data)\n",
    "    a=data\n",
    "    b=(encoder.reconstruct(a))\n",
    "    \n",
    "    characc=np.ones(inputdepth)*length\n",
    "    for i in range(length):\n",
    "        xa=corp.defeaturize_data_charlevel_onehot([a[i].reshape(inputdepth,inputfsize)])[0]\n",
    "        xb=corp.defeaturize_data_charlevel_onehot([b[i].reshape(inputdepth,inputfsize)])[0]\n",
    "        if i<length:\n",
    "            print(xa,\"\\t\",xb)\n",
    "        for j in range(inputdepth):\n",
    "            if (xa[j]!=xb[j]):\n",
    "                characc[j]-=1\n",
    "                \n",
    "    print(\"\\nAccuracy on data: \",encoder.char_accuracy(data)*100,\"%\")\n",
    "    plt.plot([i for i in range(inputdepth)],characc/length)\n",
    "    plt.show()\n"
   ]
  },
  {
   "cell_type": "code",
   "execution_count": 40,
   "metadata": {
    "collapsed": false,
    "deletable": true,
    "editable": true
   },
   "outputs": [
    {
     "name": "stdout",
     "output_type": "stream",
     "text": [
      "       sic \t        cil\n",
      "   transit \t    asassit\n",
      "         a \t          a\n",
      "   színpad \t    sziniad\n",
      " hullámzik \t  fellándik\n",
      "      akár \t       akár\n",
      "         a \t          a\n",
      "    tenger \t     tenyer\n",
      "   mereven \t    merepen\n",
      "  hullámos \t   vállámos\n",
      "  egyetlen \t   egyetlen\n",
      "  pillanat \t   vállanat\n",
      "        az \t         az\n",
      "    örökös \t     örösés\n",
      " mozgásban \t  kolgásban\n",
      "fölösleges \t merésleges\n",
      "        mi \t         mi\n",
      "   mindent \t    mindent\n",
      "        és \t         és\n",
      "        mi \t         mi\n",
      "  mindenre \t   mintenve\n",
      "        jó \t         jó\n",
      "       egy \t        egy\n",
      "     ilyen \t      ilyen\n",
      "       tér \t        bér\n",
      "   amelyen \t    amelyen\n",
      "     nehéz \t      nehéz\n",
      "ugyanakkor \t ugyanakkor\n",
      " önmagában \t  irmarában\n",
      "        is \t         is\n",
      "jelentéses \t jelentétes\n",
      "         a \t          a\n",
      "    mozgás \t     moniás\n",
      "     amely \t      amely\n",
      "    eléggé \t     elégmű\n",
      "szembetűnő \t szelvetinő\n",
      "     ahhoz \t      ahhoz\n",
      "      hogy \t       hogy\n",
      "        az \t         az\n",
      "   előadás \t    álnarás\n",
      "    egésze \t     esétse\n",
      "     alatt \t      alatt\n",
      "         a \t          a\n",
      "     dráma \t      iráma\n",
      "       alá \t        ald\n",
      "   terítse \t    terétse\n",
      "         a \t          a\n",
      "  rendezői \t   menderői\n",
      " miszerint \t  készekint\n",
      "        az \t         az\n",
      "      élet \t       élet\n",
      "        és \t         és\n",
      "         a \t          a\n",
      "   helyzet \t    melyzet\n",
      " bonyolult \t  fályolult\n",
      "         a \t          a\n",
      "      nagy \t       nagy\n",
      "     múltú \t      máltó\n",
      "     royal \t      romal\n",
      "   company \t    kozmany\n",
      "         a \t          a\n",
      "budapesten \t filamesten\n",
      " vadonatúj \t  haronatóv\n",
      "  érkezett \t   érkezett\n",
      "         a \t          a\n",
      " szervezők \t  szervezők\n",
      "     amúgy \t      amúgy\n",
      "      igen \t       igen\n",
      " érthetően \t  közsetlen\n",
      "         a \t          a\n",
      "     nevet \t      nevet\n",
      "válogatták \t telogatták\n",
      "        be \t         be\n",
      "       nem \t        nem\n",
      "        az \t         az\n",
      "  előadást \t   elladást\n",
      "         a \t          a\n",
      "       név \t        név\n",
      "   ugyanis \t    ugyanis\n",
      "áruvédjegy \t klszéskegy\n",
      "     peter \t      seter\n",
      "     brook \t      urgok\n",
      "     tette \t      tette\n",
      "      azzá \t       azzó\n",
      "       aki \t        aki\n",
      "       már \t        már\n",
      "     nincs \t      nincs\n",
      "         a \t          a\n",
      "        és \t         és\n",
      "       hát \t        hát\n",
      "     éppen \t      éppen\n",
      "        ez \t         ez\n",
      "         a \t          a\n",
      "legnagyobb \t legnagyobb\n",
      "  probléma \t   mionléja\n",
      "      hogy \t       hogy\n",
      "         a \t          a\n",
      "  szelleme \t   szelleme\n",
      "        is \t         is\n",
      "    kimúlt \t     kimzlt\n",
      "\n",
      "Accuracy on data:  91.48392573525385 %\n"
     ]
    },
    {
     "data": {
      "image/png": "[encoded data removed]",
      "text/plain": [
       "<matplotlib.figure.Figure at 0x7faaf02f5cc0>"
      ]
     },
     "metadata": {},
     "output_type": "display_data"
    }
   ],
   "source": [
    "show_performance(x_train,100)"
   ]
  },
  {
   "cell_type": "code",
   "execution_count": 42,
   "metadata": {
    "collapsed": false,
    "deletable": true,
    "editable": true
   },
   "outputs": [
    {
     "ename": "TypeError",
     "evalue": "show_performance() missing 1 required positional argument: 'length'",
     "output_type": "error",
     "traceback": [
      "\u001b[0;31m---------------------------------------------------------------------------\u001b[0m",
      "\u001b[0;31mTypeError\u001b[0m                                 Traceback (most recent call last)",
      "\u001b[0;32m<ipython-input-42-3317c48f8560>\u001b[0m in \u001b[0;36m<module>\u001b[0;34m()\u001b[0m\n\u001b[0;32m----> 1\u001b[0;31m \u001b[0mshow_performance\u001b[0m\u001b[0;34m(\u001b[0m\u001b[0;34m[\u001b[0m\u001b[0;34m\"eh\"\u001b[0m\u001b[0;34m,\u001b[0m\u001b[0;34m\"kecske\"\u001b[0m\u001b[0;34m,\u001b[0m\u001b[0;34m\"kutya\"\u001b[0m\u001b[0;34m,\u001b[0m\u001b[0;34m\"aytuk\"\u001b[0m\u001b[0;34m,\u001b[0m\u001b[0;34m\"macska\"\u001b[0m\u001b[0;34m,\u001b[0m\u001b[0;34m\"árvíztűrő\"\u001b[0m\u001b[0;34m,\u001b[0m\u001b[0;34m\"fúró\"\u001b[0m\u001b[0;34m]\u001b[0m\u001b[0;34m)\u001b[0m\u001b[0;34m\u001b[0m\u001b[0m\n\u001b[0m",
      "\u001b[0;31mTypeError\u001b[0m: show_performance() missing 1 required positional argument: 'length'"
     ]
    }
   ],
   "source": [
    "show_performance([\"eh\",\"kecske\",\"kutya\",\"aytuk\",\"macska\",\"árvíztűrő\",\"fúró\"])"
   ]
  },
  {
   "cell_type": "code",
   "execution_count": 23,
   "metadata": {
    "collapsed": false,
    "deletable": true,
    "editable": true
   },
   "outputs": [
    {
     "name": "stdout",
     "output_type": "stream",
     "text": [
      "sic           \n"
     ]
    },
    {
     "ename": "IndexError",
     "evalue": "list index out of range",
     "output_type": "error",
     "traceback": [
      "\u001b[0;31m---------------------------------------------------------------------------\u001b[0m",
      "\u001b[0;31mIndexError\u001b[0m                                Traceback (most recent call last)",
      "\u001b[0;32m<ipython-input-23-c50e7b3345be>\u001b[0m in \u001b[0;36m<module>\u001b[0;34m()\u001b[0m\n\u001b[1;32m      1\u001b[0m \u001b[0;32mfor\u001b[0m \u001b[0mi\u001b[0m \u001b[0;32min\u001b[0m \u001b[0mrange\u001b[0m\u001b[0;34m(\u001b[0m\u001b[0;36m100\u001b[0m\u001b[0;34m)\u001b[0m\u001b[0;34m:\u001b[0m\u001b[0;34m\u001b[0m\u001b[0m\n\u001b[0;32m----> 2\u001b[0;31m     \u001b[0mprint\u001b[0m\u001b[0;34m(\u001b[0m\u001b[0mcorp\u001b[0m\u001b[0;34m.\u001b[0m\u001b[0mhun_lower\u001b[0m\u001b[0;34m[\u001b[0m\u001b[0mi\u001b[0m\u001b[0;34m]\u001b[0m\u001b[0;34m,\u001b[0m\u001b[0mxb\u001b[0m\u001b[0;34m[\u001b[0m\u001b[0mi\u001b[0m\u001b[0;34m]\u001b[0m\u001b[0;34m)\u001b[0m\u001b[0;34m\u001b[0m\u001b[0m\n\u001b[0m",
      "\u001b[0;31mIndexError\u001b[0m: list index out of range"
     ]
    }
   ],
   "source": [
    "for i in range(100):\n",
    "    print(corp.hun_lower[i],xb[i])"
   ]
  }
 ],
 "metadata": {
  "kernelspec": {
   "display_name": "Python 3",
   "language": "python",
   "name": "python3"
  },
  "language_info": {
   "codemirror_mode": {
    "name": "ipython",
    "version": 3
   },
   "file_extension": ".py",
   "mimetype": "text/x-python",
   "name": "python",
   "nbconvert_exporter": "python",
   "pygments_lexer": "ipython3",
   "version": "3.4.2"
  }
 },
 "nbformat": 4,
 "nbformat_minor": 2
}
