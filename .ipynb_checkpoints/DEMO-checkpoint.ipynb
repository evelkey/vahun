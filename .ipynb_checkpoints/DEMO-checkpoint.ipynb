{
 "cells": [
  {
   "cell_type": "code",
   "execution_count": 1,
   "metadata": {
    "collapsed": false,
    "deletable": true,
    "editable": true
   },
   "outputs": [
    {
     "name": "stdout",
     "output_type": "stream",
     "text": [
      "Reading file, speed:  2249498.136548692  words/s\n",
      "Reading file, speed:  1689436.150265944  words/s\n",
      "Reading file, speed:  2091489.2927399068  words/s\n",
      "Corpus initalized, fields: ['hun_lower'] \n",
      "Unique words:  280172\n",
      "(1497916, 360)\n"
     ]
    }
   ],
   "source": [
    "import tensorflow as tf\n",
    "\n",
    "from corpus import Corpus\n",
    "import numpy as np\n",
    "\n",
    "from tools import Timer\n",
    "from tools import explog\n",
    "from autoencoders import Autoencoder_ffnn\n",
    "from genetic import evolution\n",
    "from genetic import experiment\n",
    "\n",
    "encode=10\n",
    "dictsize=2000000\n",
    "popsize=40\n",
    "\n",
    "\n",
    "config = tf.ConfigProto()\n",
    "config.gpu_options.allow_growth = True\n",
    "#config.gpu_options.per_process_gpu_memory_fraction=1\n",
    "corp_path=\"/mnt/permanent/Language/Hungarian/Corp/Webkorpusz/webkorpusz.wpl\"#'/home/velkey/corp/webkorpusz.wpl'\n",
    "corp=Corpus(corpus_path=corp_path,\n",
    "            needed_corpus=[\"hun_lower\"],\n",
    "            language=\"Hun\",size=dictsize,encoding_len=10)\n",
    "database=corp.hun_lower\n",
    "all_features=corp.featurize_data_charlevel_onehot(database)\n",
    "train=all_features[0:int(len(all_features)*0.8)]\n",
    "test=all_features[int(len(all_features)*0.8):len(all_features)]\n",
    "x_train = train.reshape((len(train), np.prod(train.shape[1:])))\n",
    "x_test = test.reshape((len(test), np.prod(test.shape[1:])))\n",
    "print(x_train.shape)\n",
    "\n",
    "logger=explog(encoder_type=\"Accuracy_tracker_\"+str(encode),\n",
    "              encoding_dim=encode,feature_len=10,\n",
    "              lang=\"Hun\",unique_words=len(set(database)),\n",
    "              name=\"demo\"+str(encode),population_size=popsize,\n",
    "              words=len(corp.hun_lower))\n",
    "\n",
    "config = tf.ConfigProto()\n",
    "config.gpu_options.allow_growth = True\n",
    "sess = tf.Session(config=config)\n",
    "\n",
    "exp=experiment(encoded_width=10,layermax=10,layermin=2,maxw=10,minw=3,out_dim=360)\n",
    "exp.weights=[348, 254, 10, 254, 348, 360]\n",
    "exp.len=len(exp.weights)"
   ]
  },
  {
   "cell_type": "code",
   "execution_count": null,
   "metadata": {
    "collapsed": false
   },
   "outputs": [],
   "source": []
  },
  {
   "cell_type": "code",
   "execution_count": 2,
   "metadata": {
    "collapsed": false,
    "deletable": true,
    "editable": true
   },
   "outputs": [],
   "source": [
    "encoder=Autoencoder_ffnn(experiment=exp,\n",
    "                 logger=logger,tf_session=sess,\n",
    "                 inputdim=360,\n",
    "                 layerlist=exp.weights,\n",
    "                 encode_index=int(exp.len/2-1),\n",
    "                 optimizer =tf.train.AdamOptimizer(learning_rate = 0.001),\n",
    "                 nonlinear=tf.sigmoid)"
   ]
  },
  {
   "cell_type": "code",
   "execution_count": null,
   "metadata": {
    "collapsed": true,
    "deletable": true,
    "editable": true
   },
   "outputs": [],
   "source": [
    "encoder.train(x_train,x_test,512,50)"
   ]
  },
  {
   "cell_type": "code",
   "execution_count": 46,
   "metadata": {
    "collapsed": false,
    "deletable": true,
    "editable": true
   },
   "outputs": [],
   "source": [
    "import matplotlib.pyplot as plt\n",
    "import matplotlib\n",
    "import pandas as pd\n",
    "import os\n",
    "%matplotlib inline\n",
    "\n",
    "def show_performance(data,length=0,inputdepth=10,inputfsize=36):\n",
    "    if isinstance(data,list):\n",
    "        handmade=corp.featurize_data_charlevel_onehot(data)\n",
    "        data=handmade.reshape((len(handmade), np.prod(handmade.shape[1:])))\n",
    "        if length==0:\n",
    "            length=len(data)\n",
    "    a=data\n",
    "    b=(encoder.reconstruct(a))\n",
    "    \n",
    "    characc=np.ones(inputdepth)*length\n",
    "    for i in range(length):\n",
    "        xa=corp.defeaturize_data_charlevel_onehot([a[i].reshape(inputdepth,inputfsize)])[0]\n",
    "        xb=corp.defeaturize_data_charlevel_onehot([b[i].reshape(inputdepth,inputfsize)])[0]\n",
    "        if i<length:\n",
    "            print(xa,\"\\t\",xb)\n",
    "        for j in range(inputdepth):\n",
    "            if (xa[j]!=xb[j]):\n",
    "                characc[j]-=1\n",
    "                \n",
    "    print(\"\\nAccuracy on data: \",encoder.char_accuracy(data)*100,\"%\")\n",
    "    plt.plot([i for i in range(inputdepth)],characc/length)\n",
    "    plt.show()\n"
   ]
  },
  {
   "cell_type": "code",
   "execution_count": 48,
   "metadata": {
    "collapsed": false,
    "deletable": true,
    "editable": true
   },
   "outputs": [
    {
     "name": "stdout",
     "output_type": "stream",
     "text": [
      "    hozták \t     hozták\n",
      "         a \t          a\n",
      "  tartalmi \t   tartalmi\n",
      "    részét \t     részét\n",
      "  illetően \t   elyetlen\n",
      "         a \t          a\n",
      "  kollégám \t   köllétem\n",
      "    reagál \t     litiál\n",
      "         a \t          a\n",
      "      amit \t       amit\n",
      "említettem \t ellamettem\n",
      "      hogy \t       hogy\n",
      "        ez \t         ez\n",
      "       bír \t        bór\n",
      "   valóban \t    valóban\n",
      "        az \t         az\n",
      "     pedig \t      pedig\n",
      "  maradtak \t   taradtak\n",
      "     olyan \t      olyan\n",
      "  formában \t   tormában\n",
      "   ahogyan \t    ahogyan\n",
      "        ez \t         ez\n",
      "  jelenleg \t   jelenleg\n",
      "  hatályos \t   hatályos\n",
      "         a \t          a\n",
      "      amit \t       amit\n",
      "gondoltunk \t monvoltunk\n",
      "      hogy \t       hogy\n",
      "  jelentős \t   jelentős\n",
      "        de \t         de\n",
      "     lehet \t      lehet\n",
      "      hogy \t       hogy\n",
      "       nem \t        nem\n",
      "       így \t        így\n",
      "       van \t        van\n",
      "   átadnám \t    itarnám\n",
      "         a \t          a\n",
      "         a \t          a\n",
      "      szót \t       szót\n",
      "      nagy \t       nagy\n",
      "      imre \t       igre\n",
      "      nagy \t       nagy\n",
      "      imre \t       igre\n",
      "    vagyok \t     vagyok\n",
      "         a \t          a\n",
      "   illeték \t    illetvk\n",
      "         a \t          a\n",
      " területen \t  területen\n",
      "    fontos \t     fontos\n",
      "      hogy \t       hogy\n",
      " megszűnik \t  megysnnik\n",
      "         a \t          a\n",
      "intézménye \t intélménye\n",
      "     tehát \t      tehát\n",
      "       aki \t        aki\n",
      "    január \t     hanyár\n",
      "    bemegy \t     nemegy\n",
      "        az \t         az\n",
      "        és \t         és\n",
      "         a \t          a\n",
      "  forgalmi \t   tortalmi\n",
      "  engedély \t   elyekély\n",
      "   kapcsán \t    kapirán\n",
      " bejelenti \t  bemelenti\n",
      "         a \t          a\n",
      " változást \t  változást\n",
      "        ez \t         ez\n",
      "   bekerül \t    yekerül\n",
      "         a \t          a\n",
      "    közúti \t     kizüti\n",
      "     amely \t      amely\n",
      "  változás \t   táltozás\n",
      "      úton \t       fton\n",
      "       fog \t        fog\n",
      "   eljutni \t    elvítni\n",
      "        az \t         az\n",
      " illetékes \t  elletékes\n",
      "        és \t         és\n",
      "        ez \t         ez\n",
      "   alapján \t    alapján\n",
      "     fogja \t      kogja\n",
      "   előírni \t    elvtzni\n",
      "        az \t         az\n",
      "         a \t          a\n",
      "  mértékét \t   mértékét\n",
      "     tehát \t      tehát\n",
      "       így \t        így\n",
      "        az \t         az\n",
      "     újabb \t      újabb\n",
      "    lépést \t     képést\n",
      "      tett \t       tett\n",
      "     előre \t      előre\n",
      "     tehát \t      tehát\n",
      "  könnyebb \t   kövísebb\n",
      "      lesz \t       lesz\n",
      "         a \t          a\n",
      "  ügymenet \t   elyzenet\n",
      "         a \t          a\n",
      "  központi \t   központi\n",
      "    fakadó \t     hakadó\n",
      "\n",
      "Accuracy on data:  90.94051465813337 %\n"
     ]
    },
    {
     "data": {
      "image/png": "[encoded data removed]",
      "text/plain": [
       "<matplotlib.figure.Figure at 0x7faaeffd1518>"
      ]
     },
     "metadata": {},
     "output_type": "display_data"
    }
   ],
   "source": [
    "show_performance(x_test,100)"
   ]
  },
  {
   "cell_type": "code",
   "execution_count": 49,
   "metadata": {
    "collapsed": false,
    "deletable": true,
    "editable": true
   },
   "outputs": [
    {
     "name": "stdout",
     "output_type": "stream",
     "text": [
      "        eh \t         er\n",
      "    kecske \t     kepile\n",
      "     kutya \t      butra\n",
      "     aytuk \t      adtuk\n",
      "    macska \t     magtda\n",
      " árvíztűrő \t  irténöimő\n",
      "      fúró \t       fárl\n",
      "     kacsa \t      kapsa\n",
      "         a \t          a\n",
      "        és \t         és\n",
      "\n",
      "Accuracy on data:  80.0 %\n"
     ]
    },
    {
     "data": {
      "image/png": "[encoded data removed]",
      "text/plain": [
       "<matplotlib.figure.Figure at 0x7faaf0049ef0>"
      ]
     },
     "metadata": {},
     "output_type": "display_data"
    }
   ],
   "source": [
    "show_performance([\"eh\",\"kecske\",\"kutya\",\"aytuk\",\"macska\",\"árvíztűrő\",\"fúró\",\"kacsa\",\"a\",\"és\"])"
   ]
  },
  {
   "cell_type": "code",
   "execution_count": null,
   "metadata": {
    "collapsed": false,
    "deletable": true,
    "editable": true
   },
   "outputs": [],
   "source": []
  }
 ],
 "metadata": {
  "kernelspec": {
   "display_name": "Python 3",
   "language": "python",
   "name": "python3"
  },
  "language_info": {
   "codemirror_mode": {
    "name": "ipython",
    "version": 3
   },
   "file_extension": ".py",
   "mimetype": "text/x-python",
   "name": "python",
   "nbconvert_exporter": "python",
   "pygments_lexer": "ipython3",
   "version": "3.4.2"
  }
 },
 "nbformat": 4,
 "nbformat_minor": 2
}
