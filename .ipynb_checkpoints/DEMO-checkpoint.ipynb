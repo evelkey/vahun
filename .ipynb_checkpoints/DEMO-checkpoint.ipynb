{
 "cells": [
  {
   "cell_type": "code",
   "execution_count": 8,
   "metadata": {
    "collapsed": false
   },
   "outputs": [
    {
     "name": "stdout",
     "output_type": "stream",
     "text": [
      "Reading file, speed:  2317857.204040096  words/s\n",
      "Corpus initalized, fields: ['unique', 'lower', 'hun_lower', 'lower_unique', 'hun_lower_unique'] \n",
      "Unique words:  135416\n",
      "(598457, 360)\n"
     ]
    }
   ],
   "source": [
    "import tensorflow as tf\n",
    "\n",
    "from corpus import Corpus\n",
    "import numpy as np\n",
    "\n",
    "from tools import Timer\n",
    "from tools import explog\n",
    "from autoencoders import Autoencoder_ffnn\n",
    "from genetic import evolution\n",
    "from genetic import experiment\n",
    "\n",
    "encode=10\n",
    "dictsize=1000000\n",
    "popsize=40\n",
    "\n",
    "\n",
    "config = tf.ConfigProto()\n",
    "config.gpu_options.allow_growth = True\n",
    "#config.gpu_options.per_process_gpu_memory_fraction=1\n",
    "corp_path=\"/mnt/permanent/Language/Hungarian/Corp/Webkorpusz/webkorpusz.wpl\"#'/home/velkey/corp/webkorpusz.wpl'\n",
    "corp=Corpus(corpus_path=corp_path,language=\"Hun\",size=dictsize,encoding_len=10)\n",
    "all_features=corp.featurize_data_charlevel_onehot(corp.hun_lower)\n",
    "train=all_features[0:int(len(all_features)*0.8)]\n",
    "test=all_features[int(len(all_features)*0.8):len(all_features)]\n",
    "x_train = train.reshape((len(train), np.prod(train.shape[1:])))\n",
    "x_test = test.reshape((len(test), np.prod(test.shape[1:])))\n",
    "print(x_train.shape)\n",
    "\n",
    "logger=explog(encoder_type=\"Accuracy_tracker_\"+str(encode),\n",
    "              encoding_dim=encode,feature_len=10,\n",
    "              lang=\"Hun\",unique_words=len(set(corp.full)),\n",
    "              name=\"demo\"+str(encode),population_size=popsize,\n",
    "              words=len(corp.hun_lower))\n",
    "\n",
    "config = tf.ConfigProto()\n",
    "config.gpu_options.allow_growth = True\n",
    "sess = tf.Session(config=config)\n",
    "\n",
    "exp=experiment(encoded_width=10,layermax=10,layermin=2,maxw=10,minw=3,out_dim=360)\n",
    "exp.weights=[348, 254, 10, 254, 348, 360]\n",
    "exp.len=len(exp.weights)"
   ]
  },
  {
   "cell_type": "code",
   "execution_count": 10,
   "metadata": {
    "collapsed": false
   },
   "outputs": [],
   "source": [
    "encoder=Autoencoder_ffnn(experiment=exp,\n",
    "                 logger=logger,tf_session=sess,\n",
    "                 inputdim=360,\n",
    "                 layerlist=exp.weights,\n",
    "                 encode_index=int(exp.len/2-1),\n",
    "                 optimizer =tf.train.AdamOptimizer(learning_rate = 0.001),\n",
    "                 nonlinear=tf.sigmoid)"
   ]
  },
  {
   "cell_type": "code",
   "execution_count": 11,
   "metadata": {
    "collapsed": true
   },
   "outputs": [],
   "source": [
    "encoder.train(x_train,x_test,512,50)"
   ]
  },
  {
   "cell_type": "code",
   "execution_count": 18,
   "metadata": {
    "collapsed": false
   },
   "outputs": [],
   "source": [
    "a=x_test[100:120,:]\n",
    "b=(encoder.reconstruct(a))"
   ]
  },
  {
   "cell_type": "code",
   "execution_count": 32,
   "metadata": {
    "collapsed": false
   },
   "outputs": [
    {
     "data": {
      "text/plain": [
       "['   ezeknek']"
      ]
     },
     "execution_count": 32,
     "metadata": {},
     "output_type": "execute_result"
    }
   ],
   "source": [
    "t=[b[0].reshape(10,36)]\n",
    "len=40\n",
    "for i in range(len):\n",
    "    print(defeaturize_data_charlevel_onehot([a[i].reshape(10,36)]),\"\\t\",\n",
    "          defeaturize_data_charlevel_onehot([b[i].reshape(10,36)]))\n",
    "corp.featurize_data_charlevel_onehot([\"eh\"])\n",
    "corp.defeaturize_data_charlevel_onehot(t)"
   ]
  }
 ],
 "metadata": {
  "kernelspec": {
   "display_name": "Python 3",
   "language": "python",
   "name": "python3"
  },
  "language_info": {
   "codemirror_mode": {
    "name": "ipython",
    "version": 3
   },
   "file_extension": ".py",
   "mimetype": "text/x-python",
   "name": "python",
   "nbconvert_exporter": "python",
   "pygments_lexer": "ipython3",
   "version": "3.4.2"
  }
 },
 "nbformat": 4,
 "nbformat_minor": 2
}
