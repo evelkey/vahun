{
 "cells": [
  {
   "cell_type": "code",
   "execution_count": 138,
   "metadata": {
    "collapsed": true,
    "deletable": true,
    "editable": true
   },
   "outputs": [],
   "source": [
    "import numpy as np\n",
    "import matplotlib.pyplot as plt\n",
    "import matplotlib\n",
    "import pandas as pd\n",
    "import os\n",
    "%matplotlib inline"
   ]
  },
  {
   "cell_type": "code",
   "execution_count": 148,
   "metadata": {
    "collapsed": false,
    "deletable": true,
    "editable": true
   },
   "outputs": [],
   "source": [
    "class logread:\n",
    "    def __init__(self):\n",
    "        self.logdir=\"logs\"\n",
    "        self.delimiter=\"\\t\"\n",
    "        self.lognames=self.read_all_log_folders()\n",
    "        self.detaildata=[]\n",
    "        self.traindata=[]\n",
    "        self.fulltraineddata=[]\n",
    "        for folder in self.lognames:\n",
    "            self.detaildata.append(self.read_linebyline(folder,\"details.log\"))\n",
    "            self.traindata.append(self.read_train(folder))\n",
    "            self.fulltraineddata.append(self.read_linebyline(folder,\"full_trained.log\"))\n",
    "    def read_all_log_folders(self):\n",
    "        lista=[]\n",
    "        for filename in os.listdir(os.getcwd()+\"/\"+self.logdir):\n",
    "            lista.append(filename)\n",
    "        return lista\n",
    "    def read_train(self,folder):\n",
    "        train_logs=[]\n",
    "        with open(self.logdir+\"/\"+folder+\"/\"+\"train.log\") as f:\n",
    "            for line in f:\n",
    "                if \"START\" in line:\n",
    "                    temptrain=[]\n",
    "                elif \"STOP\" in line:\n",
    "                    train_logs.append(temptrain)\n",
    "                else: \n",
    "                    temptrain.append(line.rstrip('\\n').split(self.delimiter))\n",
    "        return train_logs\n",
    "    def read_linebyline(self,folder,logname):\n",
    "        logs=[]\n",
    "        if os.path.exists(self.logdir+\"/\"+folder+\"/\"+logname):\n",
    "            with open(self.logdir+\"/\"+folder+\"/\"+logname) as f:\n",
    "                for line in f:\n",
    "                    logs.append(line.rstrip('\\n').split(self.delimiter))\n",
    "        else:\n",
    "            print(\"No logfile found\")\n",
    "        return logs\n",
    "    \n",
    "    def plot_fulltrains(self):\n",
    "        for i in range(len(self.detaildata)):\n",
    "            print(self.detaildata[i])\n",
    "            lenlist=[]\n",
    "            trainlist=[]\n",
    "            testlist=[]\n",
    "            sumlist=[]\n",
    "            for j in range(len(self.fulltraineddata[i])):\n",
    "                lenlist.append(len(self.fulltraineddata[i][j])-5)\n",
    "                trainlist.append(float(self.fulltraineddata[i][j][1]))\n",
    "                testlist.append(float(self.fulltraineddata[i][j][3]))\n",
    "                sumlist.append(sum(list(map(int, self.fulltraineddata[i][j][5:]))))\n",
    "            plt.plot(sumlist,trainlist,'ro',sumlist,testlist,'g^')\n",
    "\n",
    "            plt.show()\n",
    "            "
   ]
  },
  {
   "cell_type": "code",
   "execution_count": 149,
   "metadata": {
    "collapsed": false,
    "deletable": true,
    "editable": true,
    "scrolled": false
   },
   "outputs": [
    {
     "name": "stdout",
     "output_type": "stream",
     "text": [
      "No logfile found\n",
      "[['Language', 'Hun'], ['Wordcount', '75191'], ['Unique words', '25545'], ['Population size', '40'], ['Encoding dim', '40'], ['Encoder type', 'Autoencoder'], ['nonlinear', '<function relu at 0x7fa10f9251e0>'], ['population_size', '40']]\n"
     ]
    },
    {
     "ename": "TypeError",
     "evalue": "scatter() missing 1 required positional argument: 'self'",
     "output_type": "error",
     "traceback": [
      "\u001b[0;31m---------------------------------------------------------------------------\u001b[0m",
      "\u001b[0;31mTypeError\u001b[0m                                 Traceback (most recent call last)",
      "\u001b[0;32m<ipython-input-149-dfecb4ea6d70>\u001b[0m in \u001b[0;36m<module>\u001b[0;34m()\u001b[0m\n\u001b[1;32m      1\u001b[0m \u001b[0mlog\u001b[0m\u001b[0;34m=\u001b[0m\u001b[0mlogread\u001b[0m\u001b[0;34m(\u001b[0m\u001b[0;34m)\u001b[0m\u001b[0;34m\u001b[0m\u001b[0m\n\u001b[1;32m      2\u001b[0m \u001b[0;32mfrom\u001b[0m \u001b[0mmpl_toolkits\u001b[0m\u001b[0;34m.\u001b[0m\u001b[0mmplot3d\u001b[0m \u001b[0;32mimport\u001b[0m \u001b[0mAxes3D\u001b[0m\u001b[0;34m\u001b[0m\u001b[0m\n\u001b[0;32m----> 3\u001b[0;31m \u001b[0mlog\u001b[0m\u001b[0;34m.\u001b[0m\u001b[0mplot_fulltrains\u001b[0m\u001b[0;34m(\u001b[0m\u001b[0;34m)\u001b[0m\u001b[0;34m\u001b[0m\u001b[0m\n\u001b[0m",
      "\u001b[0;32m<ipython-input-148-f096278d5e82>\u001b[0m in \u001b[0;36mplot_fulltrains\u001b[0;34m(self)\u001b[0m\n\u001b[1;32m     51\u001b[0m             \u001b[0;31m#plt.plot(sumlist,trainlist,'ro',sumlist,testlist,'g^')\u001b[0m\u001b[0;34m\u001b[0m\u001b[0;34m\u001b[0m\u001b[0m\n\u001b[1;32m     52\u001b[0m             \u001b[0;31m#plt.plot_wireframe(sumlist,lenlist,trainlist)\u001b[0m\u001b[0;34m\u001b[0m\u001b[0;34m\u001b[0m\u001b[0m\n\u001b[0;32m---> 53\u001b[0;31m             \u001b[0mAxes3D\u001b[0m\u001b[0;34m.\u001b[0m\u001b[0mscatter\u001b[0m\u001b[0;34m(\u001b[0m\u001b[0mxs\u001b[0m\u001b[0;34m=\u001b[0m\u001b[0msumlist\u001b[0m\u001b[0;34m,\u001b[0m\u001b[0mys\u001b[0m\u001b[0;34m=\u001b[0m\u001b[0mlenlist\u001b[0m\u001b[0;34m,\u001b[0m\u001b[0mz\u001b[0m\u001b[0;34m=\u001b[0m\u001b[0mtrainlist\u001b[0m\u001b[0;34m)\u001b[0m\u001b[0;34m\u001b[0m\u001b[0m\n\u001b[0m\u001b[1;32m     54\u001b[0m             \u001b[0;31m#plt.show()\u001b[0m\u001b[0;34m\u001b[0m\u001b[0;34m\u001b[0m\u001b[0m\n\u001b[1;32m     55\u001b[0m \u001b[0;34m\u001b[0m\u001b[0m\n",
      "\u001b[0;31mTypeError\u001b[0m: scatter() missing 1 required positional argument: 'self'"
     ]
    }
   ],
   "source": [
    "log=logread()\n",
    "\n",
    "log.plot_fulltrains()"
   ]
  },
  {
   "cell_type": "code",
   "execution_count": null,
   "metadata": {
    "collapsed": false,
    "deletable": true,
    "editable": true
   },
   "outputs": [],
   "source": []
  },
  {
   "cell_type": "code",
   "execution_count": null,
   "metadata": {
    "collapsed": true,
    "deletable": true,
    "editable": true
   },
   "outputs": [],
   "source": []
  }
 ],
 "metadata": {
  "kernelspec": {
   "display_name": "Python 3",
   "language": "python",
   "name": "python3"
  },
  "language_info": {
   "codemirror_mode": {
    "name": "ipython",
    "version": 3
   },
   "file_extension": ".py",
   "mimetype": "text/x-python",
   "name": "python",
   "nbconvert_exporter": "python",
   "pygments_lexer": "ipython3",
   "version": "3.4.2"
  }
 },
 "nbformat": 4,
 "nbformat_minor": 2
}
