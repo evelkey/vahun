{
 "cells": [
  {
   "cell_type": "code",
   "execution_count": 3,
   "metadata": {
    "collapsed": false,
    "deletable": true,
    "editable": true
   },
   "outputs": [],
   "source": [
    "from vahun.LogReader import LogReader\n",
    "import matplotlib\n",
    "import pandas as pd\n",
    "%matplotlib inline\n",
    "matplotlib.style.use('ggplot')\n",
    "matplotlib.pyplot.rcParams['figure.figsize'] = (15, 3)\n",
    "matplotlib.pyplot.rcParams['font.family'] = 'sans-serif'\n",
    "log=LogReader()"
   ]
  },
  {
   "cell_type": "code",
   "execution_count": 4,
   "metadata": {
    "collapsed": false,
    "deletable": true,
    "editable": true
   },
   "outputs": [
    {
     "name": "stdout",
     "output_type": "stream",
     "text": [
      "                                     Experiment  Encoded_len Uniq_words  \\\n",
      "0   uniq_autoencoder_random_uni__20170426150047          0.0     200000   \n",
      "1   uniq_autoencoder_random_uni__20170426150228          0.0     200000   \n",
      "2   uniq_autoencoder_random_uni__20170426150422          0.0     200000   \n",
      "3   uniq_autoencoder_random_uni__20170426150621          0.0     200000   \n",
      "4   uniq_autoencoder_random_uni__20170426150814          0.0     200000   \n",
      "5   uniq_autoencoder_random_uni__20170426151010          0.0     200000   \n",
      "6   uniq_autoencoder_random_uni__20170426151207          0.0     200000   \n",
      "7   uniq_autoencoder_random_uni__20170426151401          0.0     200000   \n",
      "8   uniq_autoencoder_random_uni__20170426151600          0.0     200000   \n",
      "9   uniq_autoencoder_random_uni__20170426151801          0.0     200000   \n",
      "10  uniq_autoencoder_random_uni__20170426152427          0.0     200000   \n",
      "\n",
      "   Variational  Uniq  Layernum  Train_char_acc  Valid_char_acc  Test_char_acc  \\\n",
      "0        False  True         2        0.961891        0.961555       0.961928   \n",
      "1        False  True         2        0.968081        0.967845       0.968017   \n",
      "2        False  True         2        0.972937        0.972725       0.972962   \n",
      "3        False  True         2        0.977372        0.977208       0.977322   \n",
      "4        False  True         2        0.980332        0.980060       0.980335   \n",
      "5        False  True         2        0.984146        0.983897       0.984123   \n",
      "6        False  True         2        0.986094        0.985710       0.986185   \n",
      "7        False  True         2        0.989254        0.988870       0.989205   \n",
      "8        False  True         2        0.991189        0.990932       0.991077   \n",
      "9        False  True         2        0.992941        0.992605       0.992958   \n",
      "10       False  True         2        0.962080        0.961750       0.962070   \n",
      "\n",
      "    Test_word_acc  Test_Leven_avg  Train_Leven_avg  Valid_Leven_avg  \\\n",
      "0         0.57280         0.76105         0.761831          0.76840   \n",
      "1         0.63550         0.63955         0.638238          0.64285   \n",
      "2         0.68460         0.54030         0.541050          0.54525   \n",
      "3         0.73480         0.45330         0.452356          0.45565   \n",
      "4         0.76645         0.39320         0.393169          0.39865   \n",
      "5         0.81405         0.31745         0.316969          0.32190   \n",
      "6         0.83665         0.27625         0.277956          0.28565   \n",
      "7         0.87405         0.21570         0.214756          0.22235   \n",
      "8         0.89835         0.17830         0.176138          0.18125   \n",
      "9         0.92190         0.14085         0.141019          0.14775   \n",
      "10        0.57500         0.75800         0.757906          0.76445   \n",
      "\n",
      "        Layers  \n",
      "0   [220, 960]  \n",
      "1   [240, 960]  \n",
      "2   [260, 960]  \n",
      "3   [280, 960]  \n",
      "4   [300, 960]  \n",
      "5   [320, 960]  \n",
      "6   [340, 960]  \n",
      "7   [360, 960]  \n",
      "8   [380, 960]  \n",
      "9   [400, 960]  \n",
      "10  [220, 960]  \n"
     ]
    }
   ],
   "source": [
    "table=log.get_full_table()\n",
    "table.to_csv('/mnt/store/velkey/result_full.tsv',sep='\\t')\n",
    "print(table)"
   ]
  }
 ],
 "metadata": {
  "kernelspec": {
   "display_name": "Python 3",
   "language": "python",
   "name": "python3"
  },
  "language_info": {
   "codemirror_mode": {
    "name": "ipython",
    "version": 3
   },
   "file_extension": ".py",
   "mimetype": "text/x-python",
   "name": "python",
   "nbconvert_exporter": "python",
   "pygments_lexer": "ipython3",
   "version": "3.4.2"
  }
 },
 "nbformat": 4,
 "nbformat_minor": 2
}
