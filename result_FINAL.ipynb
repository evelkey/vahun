{
 "cells": [
  {
   "cell_type": "code",
   "execution_count": 1,
   "metadata": {
    "collapsed": false,
    "deletable": true,
    "editable": true
   },
   "outputs": [],
   "source": [
    "from vahun.LogReader import LogReader\n",
    "import matplotlib\n",
    "import pandas as pd\n",
    "%matplotlib inline\n",
    "matplotlib.style.use('ggplot')\n",
    "matplotlib.pyplot.rcParams['figure.figsize'] = (15, 3)\n",
    "matplotlib.pyplot.rcParams['font.family'] = 'sans-serif'\n",
    "log=LogReader()"
   ]
  },
  {
   "cell_type": "code",
   "execution_count": 2,
   "metadata": {
    "collapsed": false,
    "deletable": true,
    "editable": true
   },
   "outputs": [
    {
     "name": "stdout",
     "output_type": "stream",
     "text": [
      "                               Experiment  Encoded_len Uniq_words Variational  \\\n",
      "0  autoencoder_lowered_180_20170425191019        180.0    1000000       False   \n",
      "1  autoencoder_lowered_180_20170425190845        180.0     200000       False   \n",
      "2  autoencoder_lowered_180_20170425190359        180.0     100000       False   \n",
      "3  autoencoder_lowered_180_20170425190717        180.0     100000       False   \n",
      "\n",
      "   Uniq  Layernum  Train_char_acc  Valid_char_acc  Test_char_acc  \\\n",
      "0  True         2        0.950267        0.950370       0.950463   \n",
      "1  True         2        0.966962        0.953296       0.953340   \n",
      "2  True         2        0.978991        0.964973       0.965014   \n",
      "3  True         2        0.978615        0.965190       0.963872   \n",
      "\n",
      "   Test_word_acc  Test_Leven_avg  Train_Leven_avg  Valid_Leven_avg      Layers  \n",
      "0       0.633262        0.495373         0.497329         0.496300  [180, 480]  \n",
      "1       0.734989        0.466598         0.330375         0.467039  [180, 480]  \n",
      "2       0.210092        0.840489         0.350272         0.349864  [180, 480]  \n",
      "3       0.829620        0.361277         0.213845         0.348098  [180, 480]  \n"
     ]
    }
   ],
   "source": [
    "table=log.get_full_table()\n",
    "table.to_csv('logs_FINAL/result_full.tsv',sep='\\t')\n",
    "print(table)"
   ]
  }
 ],
 "metadata": {
  "kernelspec": {
   "display_name": "Python 3",
   "language": "python",
   "name": "python3"
  },
  "language_info": {
   "codemirror_mode": {
    "name": "ipython",
    "version": 3
   },
   "file_extension": ".py",
   "mimetype": "text/x-python",
   "name": "python",
   "nbconvert_exporter": "python",
   "pygments_lexer": "ipython3",
   "version": "3.4.2"
  }
 },
 "nbformat": 4,
 "nbformat_minor": 2
}
