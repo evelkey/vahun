{
 "cells": [
  {
   "cell_type": "code",
   "execution_count": 4,
   "metadata": {
    "collapsed": false,
    "deletable": true,
    "editable": true
   },
   "outputs": [
    {
     "name": "stdout",
     "output_type": "stream",
     "text": [
      "Corpus initalized, fields: ['hun_lower'] \n",
      "Unique words:  531\n",
      "(586, 360)\n"
     ]
    }
   ],
   "source": [
    "import tensorflow as tf\n",
    "\n",
    "from vahun.corpus import Corpus\n",
    "import numpy as np\n",
    "\n",
    "from vahun.tools import Timer\n",
    "from vahun.tools import explog\n",
    "from vahun.autoencoders import Autoencoder_ffnn\n",
    "from vahun.genetic import evolution\n",
    "from vahun.genetic import experiment\n",
    "\n",
    "encode=10\n",
    "dictsize=1000000\n",
    "popsize=40\n",
    "\n",
    "\n",
    "config = tf.ConfigProto()\n",
    "config.gpu_options.allow_growth = True\n",
    "#config.gpu_options.per_process_gpu_memory_fraction=1\n",
    "corp_path=\"/mnt/permanent/Language/Hungarian/Corp/Webkorpusz/webkorpusz.wpl\"#'/home/velkey/corp/webkorpusz.wpl'\n",
    "corp=Corpus(corpus_path=corp_path,\n",
    "            needed_corpus=[\"hun_lower\"],\n",
    "            language=\"Hun\",size=dictsize,encoding_len=10)\n",
    "database=corp.hun_lower\n",
    "all_features=corp.featurize_data_charlevel_onehot(database)\n",
    "train=all_features[0:int(len(all_features)*0.8)]\n",
    "test=all_features[int(len(all_features)*0.8):len(all_features)]\n",
    "x_train = train.reshape((len(train), np.prod(train.shape[1:])))\n",
    "x_test = test.reshape((len(test), np.prod(test.shape[1:])))\n",
    "print(x_train.shape)\n",
    "\n",
    "logger=explog(encoder_type=\"Demo_\"+str(encode),\n",
    "              encoding_dim=encode,feature_len=10,\n",
    "              lang=\"Hun\",unique_words=len(set(database)),\n",
    "              name=\"demo\"+str(encode),population_size=popsize,\n",
    "              words=len(corp.hun_lower))\n",
    "\n",
    "config = tf.ConfigProto()\n",
    "config.gpu_options.allow_growth = True\n",
    "sess = tf.Session(config=config)\n",
    "\n",
    "exp=experiment(encoded_width=10,layermax=10,layermin=2,maxw=10,minw=3,out_dim=360)\n",
    "exp.weights=[348, 254, 10, 254, 348, 360]\n",
    "exp.len=len(exp.weights)"
   ]
  },
  {
   "cell_type": "code",
   "execution_count": 5,
   "metadata": {
    "collapsed": false,
    "deletable": true,
    "editable": true
   },
   "outputs": [],
   "source": [
    "encoder=Autoencoder_ffnn(experiment=exp,\n",
    "                 logger=logger,tf_session=sess,\n",
    "                 inputdim=360,\n",
    "                 layerlist=exp.weights,\n",
    "                 encode_index=int(exp.len/2-1),\n",
    "                 optimizer =tf.train.AdamOptimizer(learning_rate = 0.001),\n",
    "                 nonlinear=tf.sigmoid)"
   ]
  },
  {
   "cell_type": "code",
   "execution_count": 6,
   "metadata": {
    "collapsed": true,
    "deletable": true,
    "editable": true
   },
   "outputs": [],
   "source": [
    "encoder.train(x_train,x_test,512,50)"
   ]
  },
  {
   "cell_type": "code",
   "execution_count": 7,
   "metadata": {
    "collapsed": false,
    "deletable": true,
    "editable": true
   },
   "outputs": [],
   "source": [
    "import matplotlib.pyplot as plt\n",
    "import matplotlib\n",
    "import pandas as pd\n",
    "import os\n",
    "%matplotlib inline\n",
    "\n",
    "def show_performance(encoder,data,length=0,inputdepth=10,inputfsize=36):\n",
    "    if isinstance(data,list):\n",
    "        handmade=corp.featurize_data_charlevel_onehot(data)\n",
    "        data=handmade.reshape((len(handmade), np.prod(handmade.shape[1:])))\n",
    "        if length==0:\n",
    "            length=len(data)\n",
    "    a=data\n",
    "    b=(encoder.reconstruct(a))\n",
    "    \n",
    "    characc=np.ones(inputdepth)*length\n",
    "    for i in range(length):\n",
    "        xa=corp.defeaturize_data_charlevel_onehot([a[i].reshape(inputdepth,inputfsize)])[0]\n",
    "        xb=corp.defeaturize_data_charlevel_onehot([b[i].reshape(inputdepth,inputfsize)])[0]\n",
    "        if i<length:\n",
    "            print(xa,\"\\t\",xb)\n",
    "        for j in range(inputdepth):\n",
    "            if (xa[j]!=xb[j]):\n",
    "                characc[j]-=1\n",
    "                \n",
    "    print(\"\\nAccuracy on data: \",encoder.char_accuracy(data)*100,\"%\")\n",
    "    plt.plot([i for i in range(inputdepth)],characc/length)\n",
    "    plt.show()\n"
   ]
  },
  {
   "cell_type": "code",
   "execution_count": 8,
   "metadata": {
    "collapsed": false,
    "deletable": true,
    "editable": true
   },
   "outputs": [
    {
     "name": "stdout",
     "output_type": "stream",
     "text": [
      "         a \t         et\n",
      "  fájdalom \t         et\n",
      "         a \t         et\n",
      "szomorúság \t         et\n",
      "        az \t         et\n",
      "    olykor \t         et\n",
      "   gyengéd \t         et\n",
      "  szeretet \t         et\n",
      "   caliban \t         et\n",
      "     pedig \t         et\n",
      "        az \t         et\n",
      " ellenkező \t         et\n",
      " végletből \t         et\n",
      "   közelít \t         et\n",
      "külsejének \t         et\n",
      "   taszító \t         et\n",
      "        és \t         et\n",
      "       még \t         et\n",
      "beszédének \t         et\n",
      "        és \t         et\n",
      "        is \t         et\n",
      "         a \t         et\n",
      "      árad \t         et\n",
      "     ezzel \t         et\n",
      "    fordul \t         et\n",
      "    szembe \t         et\n",
      "        az \t         et\n",
      "emberekkel \t         et\n",
      "létesített \t         et\n",
      "     heves \t         et\n",
      "        és \t         et\n",
      "  kíváncsi \t         et\n",
      " kapcsolat \t         et\n",
      "     során \t         et\n",
      "  mutatott \t         et\n",
      "     gyors \t         et\n",
      "       egy \t         et\n",
      "    színes \t         et\n",
      "        és \t         et\n",
      "    nagyon \t         et\n",
      " emberinek \t         et\n",
      "      tűnő \t         et\n",
      "   érzelmi \t         et\n",
      "     skála \t         et\n",
      "  prospero \t         et\n",
      "  ellenben \t         et\n",
      "    velünk \t         et\n",
      "       kis \t         et\n",
      " terpeszbe \t         et\n",
      "       áll \t         et\n",
      "        és \t         et\n",
      "  belekezd \t         et\n",
      " szövegébe \t         et\n",
      "   philipp \t         et\n",
      "      voss \t         et\n",
      " játékának \t         et\n",
      "legnagyobb \t         et\n",
      "    erénye \t         et\n",
      "      hogy \t         et\n",
      "    szépen \t         et\n",
      "        és \t         et\n",
      " érthetően \t         et\n",
      "    beszél \t         et\n",
      "  valamint \t         et\n",
      "      hogy \t         et\n",
      "     semmi \t         et\n",
      "    zavaró \t         et\n",
      "    elemet \t         et\n",
      "       nem \t         et\n",
      "  csempész \t         et\n",
      "        be \t         et\n",
      "  prospero \t         et\n",
      "  alakjába \t         et\n",
      "       nem \t         et\n",
      "      kell \t         et\n",
      "     annak \t         et\n",
      "      hogy \t         et\n",
      "     vajon \t         et\n",
      "        mi \t         et\n",
      "      köze \t         et\n",
      "        az \t         et\n",
      "    egykor \t         et\n",
      " száműzött \t         et\n",
      "         a \t         et\n",
      "       mai \t         et\n",
      "        de \t         et\n",
      "     azzal \t         et\n",
      "       sem \t         et\n",
      "      hogy \t         et\n",
      "        ez \t         et\n",
      "        az \t         et\n",
      "    minden \t         et\n",
      " bizonnyal \t         et\n",
      "  teljesen \t         et\n",
      " könyvmoly \t         et\n",
      "    miként \t         et\n",
      "        és \t         et\n",
      "     miért \t         et\n",
      " vetemedik \t         et\n",
      "     mégis \t         et\n",
      "\n",
      "Accuracy on data:  48.29931972789115 %\n"
     ]
    },
    {
     "data": {
      "image/png": "[encoded data removed]",
      "text/plain": [
       "<matplotlib.figure.Figure at 0x7f08e4295748>"
      ]
     },
     "metadata": {},
     "output_type": "display_data"
    }
   ],
   "source": [
    "show_performance(encoder,x_test,100)"
   ]
  },
  {
   "cell_type": "code",
   "execution_count": 10,
   "metadata": {
    "collapsed": false,
    "deletable": true,
    "editable": true
   },
   "outputs": [
    {
     "name": "stdout",
     "output_type": "stream",
     "text": [
      "        eh \t         et\n",
      "    kecske \t         et\n",
      "     kutya \t         et\n",
      "     aytuk \t         et\n",
      "    macska \t         et\n",
      " árvíztűrő \t         et\n",
      "      fúró \t         et\n",
      "     kacsa \t         et\n",
      "         a \t         et\n",
      "        és \t         et\n",
      "\n",
      "Accuracy on data:  55.00000000000001 %\n"
     ]
    },
    {
     "data": {
      "image/png": "[encoded data removed]",
      "text/plain": [
       "<matplotlib.figure.Figure at 0x7f08e4123240>"
      ]
     },
     "metadata": {},
     "output_type": "display_data"
    }
   ],
   "source": [
    "show_performance(encoder,[\"eh\",\"kecske\",\"kutya\",\"aytuk\",\"macska\",\"árvíztűrő\",\"fúró\",\"kacsa\",\"a\",\"és\"])"
   ]
  },
  {
   "cell_type": "code",
   "execution_count": null,
   "metadata": {
    "collapsed": false,
    "deletable": true,
    "editable": true
   },
   "outputs": [],
   "source": []
  }
 ],
 "metadata": {
  "kernelspec": {
   "display_name": "Python 3",
   "language": "python",
   "name": "python3"
  },
  "language_info": {
   "codemirror_mode": {
    "name": "ipython",
    "version": 3
   },
   "file_extension": ".py",
   "mimetype": "text/x-python",
   "name": "python",
   "nbconvert_exporter": "python",
   "pygments_lexer": "ipython3",
   "version": "3.4.2"
  }
 },
 "nbformat": 4,
 "nbformat_minor": 2
}
