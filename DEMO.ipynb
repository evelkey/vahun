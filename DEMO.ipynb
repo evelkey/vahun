{
 "cells": [
  {
   "cell_type": "code",
   "execution_count": 1,
   "metadata": {
    "collapsed": false,
    "deletable": true,
    "editable": true
   },
   "outputs": [
    {
     "name": "stdout",
     "output_type": "stream",
     "text": [
      "Reading file, speed:  1432023.0964418477  words/s\n",
      "Reading file, speed:  2149201.358500157  words/s\n",
      "Corpus initalized, fields: ['hun_lower'] \n",
      "Unique words:  214708\n",
      "(996739, 360)\n"
     ]
    }
   ],
   "source": [
    "import tensorflow as tf\n",
    "\n",
    "from corpus import Corpus\n",
    "import numpy as np\n",
    "\n",
    "from tools import Timer\n",
    "from tools import explog\n",
    "from autoencoders import Autoencoder_ffnn\n",
    "from genetic import evolution\n",
    "from genetic import experiment\n",
    "\n",
    "encode=10\n",
    "dictsize=2000000\n",
    "popsize=40\n",
    "\n",
    "\n",
    "config = tf.ConfigProto()\n",
    "config.gpu_options.allow_growth = True\n",
    "#config.gpu_options.per_process_gpu_memory_fraction=1\n",
    "corp_path=\"/mnt/permanent/Language/Hungarian/Corp/Webkorpusz/webkorpusz.wpl\"#'/home/velkey/corp/webkorpusz.wpl'\n",
    "corp=Corpus(corpus_path=corp_path,\n",
    "            needed_corpus=[\"hun_lower\"],\n",
    "            language=\"Hun\",size=dictsize,encoding_len=10)\n",
    "database=corp.hun_lower\n",
    "all_features=corp.featurize_data_charlevel_onehot(database)\n",
    "train=all_features[0:int(len(all_features)*0.8)]\n",
    "test=all_features[int(len(all_features)*0.8):len(all_features)]\n",
    "x_train = train.reshape((len(train), np.prod(train.shape[1:])))\n",
    "x_test = test.reshape((len(test), np.prod(test.shape[1:])))\n",
    "print(x_train.shape)\n",
    "\n",
    "logger=explog(encoder_type=\"Accuracy_tracker_\"+str(encode),\n",
    "              encoding_dim=encode,feature_len=10,\n",
    "              lang=\"Hun\",unique_words=len(set(database)),\n",
    "              name=\"demo\"+str(encode),population_size=popsize,\n",
    "              words=len(corp.hun_lower))\n",
    "\n",
    "config = tf.ConfigProto()\n",
    "config.gpu_options.allow_growth = True\n",
    "sess = tf.Session(config=config)\n",
    "\n",
    "exp=experiment(encoded_width=10,layermax=10,layermin=2,maxw=10,minw=3,out_dim=360)\n",
    "exp.weights=[348, 254, 10, 254, 348, 360]\n",
    "exp.len=len(exp.weights)"
   ]
  },
  {
   "cell_type": "code",
   "execution_count": null,
   "metadata": {
    "collapsed": false
   },
   "outputs": [],
   "source": []
  },
  {
   "cell_type": "code",
   "execution_count": 2,
   "metadata": {
    "collapsed": false,
    "deletable": true,
    "editable": true
   },
   "outputs": [],
   "source": [
    "encoder=Autoencoder_ffnn(experiment=exp,\n",
    "                 logger=logger,tf_session=sess,\n",
    "                 inputdim=360,\n",
    "                 layerlist=exp.weights,\n",
    "                 encode_index=int(exp.len/2-1),\n",
    "                 optimizer =tf.train.AdamOptimizer(learning_rate = 0.001),\n",
    "                 nonlinear=tf.sigmoid)"
   ]
  },
  {
   "cell_type": "code",
   "execution_count": 3,
   "metadata": {
    "collapsed": true,
    "deletable": true,
    "editable": true
   },
   "outputs": [],
   "source": [
    "encoder.train(x_train,x_test,512,50)"
   ]
  },
  {
   "cell_type": "code",
   "execution_count": 4,
   "metadata": {
    "collapsed": false,
    "deletable": true,
    "editable": true
   },
   "outputs": [],
   "source": [
    "import matplotlib.pyplot as plt\n",
    "import matplotlib\n",
    "import pandas as pd\n",
    "import os\n",
    "%matplotlib inline\n",
    "\n",
    "def show_performance(encoder,data,length=0,inputdepth=10,inputfsize=36):\n",
    "    if isinstance(data,list):\n",
    "        handmade=corp.featurize_data_charlevel_onehot(data)\n",
    "        data=handmade.reshape((len(handmade), np.prod(handmade.shape[1:])))\n",
    "        if length==0:\n",
    "            length=len(data)\n",
    "    a=data\n",
    "    b=(encoder.reconstruct(a))\n",
    "    \n",
    "    characc=np.ones(inputdepth)*length\n",
    "    for i in range(length):\n",
    "        xa=corp.defeaturize_data_charlevel_onehot([a[i].reshape(inputdepth,inputfsize)])[0]\n",
    "        xb=corp.defeaturize_data_charlevel_onehot([b[i].reshape(inputdepth,inputfsize)])[0]\n",
    "        if i<length:\n",
    "            print(xa,\"\\t\",xb)\n",
    "        for j in range(inputdepth):\n",
    "            if (xa[j]!=xb[j]):\n",
    "                characc[j]-=1\n",
    "                \n",
    "    print(\"\\nAccuracy on data: \",encoder.char_accuracy(data)*100,\"%\")\n",
    "    plt.plot([i for i in range(inputdepth)],characc/length)\n",
    "    plt.show()\n"
   ]
  },
  {
   "cell_type": "code",
   "execution_count": 5,
   "metadata": {
    "collapsed": false,
    "deletable": true,
    "editable": true
   },
   "outputs": [
    {
     "name": "stdout",
     "output_type": "stream",
     "text": [
      " motorhiba \t  katoráiba\n",
      "     miatt \t      miatt\n",
      "   feladni \t    feladni\n",
      "         a \t          a\n",
      "  versenyt \t   tersesőt\n",
      "         a \t          a\n",
      "   bajnoki \t    larkoki\n",
      "sorrendben \t sérrenyben\n",
      "        az \t         az\n",
      "    ötödik \t     ötödik\n",
      "   helyett \t    helyett\n",
      "  sikerült \t   sikerült\n",
      "         a \t          a\n",
      "    anyagi \t     anyagi\n",
      "nehézségek \t kelésségek\n",
      "     miatt \t      miatt\n",
      " megszűnni \t  felszínni\n",
      "         a \t          a\n",
      "     forma \t      vomma\n",
      "       így \t        így\n",
      "     saját \t      saját\n",
      "    került \t     került\n",
      "        az \t         az\n",
      "      évet \t       évet\n",
      "         a \t          a\n",
      "   szegedi \t    szededi\n",
      "  egységes \t   egységes\n",
      "      való \t       való\n",
      "inditottam \t hasztottam\n",
      "         a \t          a\n",
      "      első \t       első\n",
      "  versenye \t   mensegye\n",
      "     ismét \t      ismét\n",
      "         a \t          a\n",
      "  pozsonyi \t   tarhonyi\n",
      "     grand \t      irand\n",
      "      prix \t       iríd\n",
      "      volt \t       volt\n",
      "       itt \t        itt\n",
      "    anyagi \t     anyagi\n",
      "nehézségek \t kelésségek\n",
      "     miatt \t      miatt\n",
      "      régi \t       régi\n",
      "         a \t          a\n",
      "        és \t         és\n",
      "       így \t        így\n",
      "      csak \t       csak\n",
      "         a \t          a\n",
      "  negyedik \t    egyedik\n",
      "    helyet \t     helyet\n",
      "    tudtam \t     tudtam\n",
      "  szegeden \t   szegeden\n",
      "         a \t          a\n",
      "  pozsonyi \t   tarhonyi\n",
      "versenyhez \t ferdenzhez\n",
      " hasonlóan \t  taronljan\n",
      "    sajnos \t     satnos\n",
      "     ismét \t      ismét\n",
      "       nem \t        nem\n",
      "   voltunk \t    voltunk\n",
      "    anyagi \t     anyagi\n",
      "      okok \t       okok\n",
      "     miatt \t      miatt\n",
      "        és \t         és\n",
      "        az \t         az\n",
      "      erős \t       erős\n",
      "nemzetközi \t nemzetközi\n",
      " mezőnyben \t  kerinkben\n",
      "      csak \t       csak\n",
      "         a \t          a\n",
      "  negyedik \t    egyedik\n",
      "    helyet \t     helyet\n",
      "  sikerült \t   sikerült\n",
      "budapesten \t  elatesten\n",
      "        az \t         az\n",
      " augusztus \t  augisztus\n",
      "  szokásos \t   szovásos\n",
      "    európa \t     ekriva\n",
      "   bajnoki \t    larkoki\n",
      "   futamon \t    kotajon\n",
      "       már \t        már\n",
      " kedvezőbb \t  kervezőbb\n",
      "    tudtam \t     tudtam\n",
      "   rajthoz \t    magthoz\n",
      "     állni \t      állni\n",
      "        az \t         az\n",
      "   időmérő \t    mrözérz\n",
      " edzéseken \t  elléseken\n",
      "     elért \t      elért\n",
      "         a \t          a\n",
      " huszonegy \t   észotegy\n",
      "  rajthely \t   masszely\n",
      "     közül \t      közül\n",
      "         a \t          a\n",
      "    helyet \t     helyet\n",
      "  sikerült \t   sikerült\n",
      "        ez \t         ez\n",
      "   kedvező \t    kervező\n",
      "        de \t         de\n",
      "         a \t          a\n",
      "\n",
      "Accuracy on data:  91.32820996448422 %\n"
     ]
    },
    {
     "data": {
      "image/png": "[encoded data removed]",
      "text/plain": [
       "<matplotlib.figure.Figure at 0x7faf4f18b080>"
      ]
     },
     "metadata": {},
     "output_type": "display_data"
    }
   ],
   "source": [
    "show_performance(encoder,x_test,100)"
   ]
  },
  {
   "cell_type": "code",
   "execution_count": 6,
   "metadata": {
    "collapsed": false,
    "deletable": true,
    "editable": true
   },
   "outputs": [
    {
     "name": "stdout",
     "output_type": "stream",
     "text": [
      "        eh \t         ed\n",
      "    kecske \t     kerske\n",
      "     kutya \t      kutva\n",
      "     aytuk \t      attuk\n",
      "    macska \t     manska\n",
      " árvíztűrő \t  kézöszörz\n",
      "      fúró \t       tíró\n",
      "     kacsa \t      kapsa\n",
      "         a \t          a\n",
      "        és \t         és\n",
      "\n",
      "Accuracy on data:  84.0 %\n"
     ]
    },
    {
     "data": {
      "image/png": "[encoded data removed]",
      "text/plain": [
       "<matplotlib.figure.Figure at 0x7faf4f284dd8>"
      ]
     },
     "metadata": {},
     "output_type": "display_data"
    }
   ],
   "source": [
    "show_performance([\"eh\",\"kecske\",\"kutya\",\"aytuk\",\"macska\",\"árvíztűrő\",\"fúró\",\"kacsa\",\"a\",\"és\"])"
   ]
  },
  {
   "cell_type": "code",
   "execution_count": null,
   "metadata": {
    "collapsed": false,
    "deletable": true,
    "editable": true
   },
   "outputs": [],
   "source": []
  }
 ],
 "metadata": {
  "kernelspec": {
   "display_name": "Python 3",
   "language": "python",
   "name": "python3"
  },
  "language_info": {
   "codemirror_mode": {
    "name": "ipython",
    "version": 3
   },
   "file_extension": ".py",
   "mimetype": "text/x-python",
   "name": "python",
   "nbconvert_exporter": "python",
   "pygments_lexer": "ipython3",
   "version": "3.4.2"
  }
 },
 "nbformat": 4,
 "nbformat_minor": 2
}
