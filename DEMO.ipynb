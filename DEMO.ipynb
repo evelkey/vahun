{
 "cells": [
  {
   "cell_type": "code",
   "execution_count": 8,
   "metadata": {
    "collapsed": false
   },
   "outputs": [
    {
     "name": "stdout",
     "output_type": "stream",
     "text": [
      "Reading file, speed:  2317857.204040096  words/s\n",
      "Corpus initalized, fields: ['unique', 'lower', 'hun_lower', 'lower_unique', 'hun_lower_unique'] \n",
      "Unique words:  135416\n",
      "(598457, 360)\n"
     ]
    }
   ],
   "source": [
    "import tensorflow as tf\n",
    "\n",
    "from corpus import Corpus\n",
    "import numpy as np\n",
    "\n",
    "from tools import Timer\n",
    "from tools import explog\n",
    "from autoencoders import Autoencoder_ffnn\n",
    "from genetic import evolution\n",
    "from genetic import experiment\n",
    "\n",
    "encode=10\n",
    "dictsize=1000000\n",
    "popsize=40\n",
    "\n",
    "\n",
    "config = tf.ConfigProto()\n",
    "config.gpu_options.allow_growth = True\n",
    "#config.gpu_options.per_process_gpu_memory_fraction=1\n",
    "corp_path=\"/mnt/permanent/Language/Hungarian/Corp/Webkorpusz/webkorpusz.wpl\"#'/home/velkey/corp/webkorpusz.wpl'\n",
    "corp=Corpus(corpus_path=corp_path,language=\"Hun\",size=dictsize,encoding_len=10)\n",
    "all_features=corp.featurize_data_charlevel_onehot(corp.hun_lower)\n",
    "train=all_features[0:int(len(all_features)*0.8)]\n",
    "test=all_features[int(len(all_features)*0.8):len(all_features)]\n",
    "x_train = train.reshape((len(train), np.prod(train.shape[1:])))\n",
    "x_test = test.reshape((len(test), np.prod(test.shape[1:])))\n",
    "print(x_train.shape)\n",
    "\n",
    "logger=explog(encoder_type=\"Accuracy_tracker_\"+str(encode),\n",
    "              encoding_dim=encode,feature_len=10,\n",
    "              lang=\"Hun\",unique_words=len(set(corp.full)),\n",
    "              name=\"demo\"+str(encode),population_size=popsize,\n",
    "              words=len(corp.hun_lower))\n",
    "\n",
    "config = tf.ConfigProto()\n",
    "config.gpu_options.allow_growth = True\n",
    "sess = tf.Session(config=config)\n",
    "\n",
    "exp=experiment(encoded_width=10,layermax=10,layermin=2,maxw=10,minw=3,out_dim=360)\n",
    "exp.weights=[348, 254, 10, 254, 348, 360]\n",
    "exp.len=len(exp.weights)"
   ]
  },
  {
   "cell_type": "code",
   "execution_count": 10,
   "metadata": {
    "collapsed": false
   },
   "outputs": [],
   "source": [
    "encoder=Autoencoder_ffnn(experiment=exp,\n",
    "                 logger=logger,tf_session=sess,\n",
    "                 inputdim=360,\n",
    "                 layerlist=exp.weights,\n",
    "                 encode_index=int(exp.len/2-1),\n",
    "                 optimizer =tf.train.AdamOptimizer(learning_rate = 0.001),\n",
    "                 nonlinear=tf.sigmoid)"
   ]
  },
  {
   "cell_type": "code",
   "execution_count": 11,
   "metadata": {
    "collapsed": true
   },
   "outputs": [],
   "source": [
    "encoder.train(x_train,x_test,512,50)"
   ]
  },
  {
   "cell_type": "code",
   "execution_count": 38,
   "metadata": {
    "collapsed": false
   },
   "outputs": [],
   "source": [
    "a=x_test[1000:1200,:]\n",
    "b=(encoder.reconstruct(a))"
   ]
  },
  {
   "cell_type": "code",
   "execution_count": 40,
   "metadata": {
    "collapsed": false
   },
   "outputs": [
    {
     "name": "stdout",
     "output_type": "stream",
     "text": [
      "   részben \t    részben\n",
      " munkaadói \t  haltaanói\n",
      "        és \t         és\n",
      "           \t kjslktsülc\n",
      "           \t kjslktsülc\n",
      "        is \t         is\n",
      "      volt \t       volt\n",
      "         a \t          a\n",
      "        és \t         és\n",
      "    jelölt \t     jelélt\n",
      "  országok \t   országok\n",
      "           \t kjslktsülc\n",
      "           \t kjslktsülc\n",
      "     ebben \t      ebben\n",
      "         a \t          a\n",
      "  műfajban \t   korakban\n",
      "        ez \t         ez\n",
      "      volt \t       volt\n",
      "        az \t         az\n",
      "      első \t       első\n",
      "rendezvény \t rendenvény\n",
      "         a \t          a\n",
      " találkozó \t  találhozó\n",
      "       nem \t        nem\n",
      " hivatalos \t  hivatalos\n",
      " programja \t   logramja\n",
      "         a \t          a\n",
      "       bce \t         de\n",
      "     által \t      által\n",
      " rendezett \t  tervezett\n",
      "  bőripari \t   kitáhari\n",
      "           \t kjslktsülc\n",
      "        és \t         és\n",
      "   vásáron \t    hiságon\n",
      " kezdődött \t  kegködött\n",
      "szeptember \t szeptember\n",
      "  vasárnap \t   kasárnap\n",
      "      ahol \t       ahol\n",
      "  várszegi \t   kérszegi\n",
      "        úr \t         úr\n",
      "         a \t          a\n",
      "       bce \t         de\n",
      "   nevében \t    nevében\n",
      "     rövid \t      rövid\n",
      "           \t kjslktsülc\n",
      "     adott \t      adott\n",
      "         a \t          a\n",
      "    magyar \t     magyar\n",
      "        és \t         és\n",
      "           \t kjslktsülc\n",
      "      ipar \t       ijar\n",
      "    elmúlt \t     elmált\n",
      "       tíz \t        tíz\n",
      "    évéről \t     évéről\n",
      "        és \t         és\n",
      " jelenlegi \t  jelenlegi\n",
      "           \t kjslktsülc\n",
      "           \t kjslktsülc\n",
      "         a \t          a\n",
      "kiállítást \t  pállátást\n",
      "      ahol \t       ahol\n",
      "         a \t          a\n",
      "     jelen \t      melen\n",
      "       nem \t        nem\n",
      "    igazán \t     igazán\n",
      "   bíztató \t    tlztató\n",
      "    képről \t     kézről\n",
      "        és \t         és\n",
      "         a \t          a\n",
      "   szintén \t    szintén\n",
      "       nem \t        nem\n",
      "    rózsás \t     ktisás\n",
      "  jövőbeli \t   kövtheli\n",
      "           \t kjslktsülc\n",
      "     szólt \t      szólt\n",
      "         a \t          a\n",
      "           \t kjslktsülc\n",
      "      akik \t       akik\n",
      "       ott \t        ott\n",
      "   voltunk \t    voltunk\n",
      "érzékeltük \t kszéleltük\n",
      "      hogy \t       hogy\n",
      "         a \t          a\n",
      " kiállítók \t  ksoolítuk\n",
      "       nem \t        nem\n",
      "         a \t          a\n",
      "  termelői \t   termelői\n",
      "     hanem \t      hanem\n",
      "         a \t          a\n",
      "kereskedői \t kelesterni\n",
      "  oldalról \t   olyalról\n",
      "    került \t     került\n",
      "        ki \t         ki\n",
      "         a \t          a\n",
      "bemutatott \t selatatott\n",
      "  termékek \t   termékek\n",
      "      nagy \t       nagy\n",
      "     része \t      része\n",
      "       nem \t        nem\n",
      "    magyar \t     magyar\n"
     ]
    },
    {
     "data": {
      "text/plain": [
       "0.772544865153895"
      ]
     },
     "execution_count": 40,
     "metadata": {},
     "output_type": "execute_result"
    }
   ],
   "source": [
    "t=[b[0].reshape(10,36)]\n",
    "len=100\n",
    "for i in range(len):\n",
    "    print(corp.defeaturize_data_charlevel_onehot([a[i].reshape(10,36)])[0],\"\\t\",\n",
    "          corp.defeaturize_data_charlevel_onehot([b[i].reshape(10,36)])[0])\n",
    "encoder.char_accuracy(x_test)"
   ]
  }
 ],
 "metadata": {
  "kernelspec": {
   "display_name": "Python 3",
   "language": "python",
   "name": "python3"
  },
  "language_info": {
   "codemirror_mode": {
    "name": "ipython",
    "version": 3
   },
   "file_extension": ".py",
   "mimetype": "text/x-python",
   "name": "python",
   "nbconvert_exporter": "python",
   "pygments_lexer": "ipython3",
   "version": "3.4.2"
  }
 },
 "nbformat": 4,
 "nbformat_minor": 2
}
