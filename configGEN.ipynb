{
 "cells": [
  {
   "cell_type": "code",
   "execution_count": 1,
   "metadata": {
    "collapsed": true,
    "deletable": true,
    "editable": true
   },
   "outputs": [],
   "source": []
  },
  {
   "cell_type": "code",
   "execution_count": 14,
   "metadata": {
    "collapsed": true,
    "deletable": true,
    "editable": true
   },
   "outputs": [],
   "source": [
    "def logline(lista,dir='/mnt/store/velkey/'):\n",
    "    string=\"\"\n",
    "    for item in lista:\n",
    "        string+=str(item)\n",
    "        string+='\\t'\n",
    "    string=string[0:len(string)-1]+\"\\n\"\n",
    "    with open(dir+'/experiments', \"a\") as myfile:\n",
    "        myfile.write(string)\n",
    "def logleven(lista,dir='/mnt/store/velkey/'):\n",
    "    string=\"\"\n",
    "    for item in lista:\n",
    "        string+=str(item)\n",
    "        string+='\\t'\n",
    "    string=string[0:len(string)-1]+\"\\n\"\n",
    "    with open(dir+'/levenshteins', \"a\") as myfile:\n",
    "        myfile.write(string)"
   ]
  },
  {
   "cell_type": "code",
   "execution_count": 13,
   "metadata": {
    "collapsed": false,
    "deletable": true,
    "editable": true
   },
   "outputs": [],
   "source": [
    "#oszlopok: 1.auto=0 variational=1 2. gyakori=0 random=1 3. digraphreplace=1, egyébként 0 4. layers\n",
    "#variational kísérletek:\n",
    "for i in range(1,26):\n",
    "    logline([1,0,0,i*20,960])\n",
    "for i in range(1,26):\n",
    "    logline([1,1,0,i*20,960])\n",
    "#sima auto kísérletek:\n",
    "for i in range(1,26):\n",
    "    logline([0,0,0,i*20,960])\n",
    "for i in range(1,26):\n",
    "    logline([0,1,0,i*20,960])"
   ]
  },
  {
   "cell_type": "code",
   "execution_count": 3,
   "metadata": {
    "collapsed": false,
    "deletable": true,
    "editable": true
   },
   "outputs": [],
   "source": [
    "for i in range(1,26):\n",
    "    for j in range(i,26,2):\n",
    "        logline([0,0,0,200+j*20,i*20,200+j*20,960])\n",
    "    "
   ]
  },
  {
   "cell_type": "code",
   "execution_count": 3,
   "metadata": {
    "collapsed": true,
    "deletable": true,
    "editable": true
   },
   "outputs": [],
   "source": [
    "for i in range(1,26):\n",
    "    for j in range(i,26,2):\n",
    "        logline([0,1,0,200+j*20,i*20,200+j*20,960])"
   ]
  },
  {
   "cell_type": "code",
   "execution_count": 12,
   "metadata": {
    "collapsed": false,
    "deletable": true,
    "editable": true
   },
   "outputs": [],
   "source": [
    "l=0\n",
    "for i in range(1,26,2):\n",
    "    for j in range(i,26,4):\n",
    "        for k in range(j,26,5):\n",
    "            logline([0,1,0,400+k*20,200+j*20,i*20,200+j*20,400+k*20,960])\n",
    "            logline([0,0,0,400+k*20,200+j*20,i*20,200+j*20,400+k*20,960])"
   ]
  },
  {
   "cell_type": "code",
   "execution_count": 15,
   "metadata": {
    "collapsed": true,
    "deletable": true,
    "editable": true
   },
   "outputs": [],
   "source": [
    "#variational kísérletek:\n",
    "for i in range(1,30):\n",
    "    logline([1,0,1,i*20,1140])\n",
    "for i in range(1,30):\n",
    "    logline([1,1,1,i*20,1140])\n",
    "#sima auto kísérletek:\n",
    "for i in range(1,30):\n",
    "    logline([0,0,1,i*20,1140])\n",
    "for i in range(1,30):\n",
    "    logline([0,1,1,i*20,1140])"
   ]
  },
  {
   "cell_type": "code",
   "execution_count": 17,
   "metadata": {
    "collapsed": true
   },
   "outputs": [],
   "source": [
    "for i in range(1,26):\n",
    "    for j in range(i,26,4):\n",
    "        logline([0,0,1,200+j*20,i*20,200+j*20,1140])"
   ]
  }
 ],
 "metadata": {
  "kernelspec": {
   "display_name": "Python 3",
   "language": "python",
   "name": "python3"
  },
  "language_info": {
   "codemirror_mode": {
    "name": "ipython",
    "version": 3
   },
   "file_extension": ".py",
   "mimetype": "text/x-python",
   "name": "python",
   "nbconvert_exporter": "python",
   "pygments_lexer": "ipython3",
   "version": "3.4.2"
  }
 },
 "nbformat": 4,
 "nbformat_minor": 2
}
