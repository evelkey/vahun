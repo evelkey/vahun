{
 "cells": [
  {
   "cell_type": "code",
   "execution_count": 3,
   "metadata": {
    "collapsed": false,
    "deletable": true,
    "editable": true
   },
   "outputs": [],
   "source": [
    "import tensorflow as tf\n",
    "config = tf.ConfigProto()\n",
    "config.gpu_options.allow_growth = True\n",
    "\n",
    "import scipy\n",
    "from corpus import Corpus\n",
    "import numpy as np"
   ]
  },
  {
   "cell_type": "code",
   "execution_count": 4,
   "metadata": {
    "collapsed": false,
    "deletable": true,
    "editable": true
   },
   "outputs": [
    {
     "name": "stdout",
     "output_type": "stream",
     "text": [
      "Corpus initalized, fields: ['unique', 'lower', 'hun_lower', 'lower_unique', 'hun_lower_unique'] \n",
      "Unique words:  531\n"
     ]
    }
   ],
   "source": [
    "corp_path='/home/velkey/corp/webkorpusz.wpl'\n",
    "corp=Corpus(corpus_path=corp_path,language=\"Hun\",size=1000,encoding_len=10)"
   ]
  },
  {
   "cell_type": "code",
   "execution_count": 5,
   "metadata": {
    "collapsed": false,
    "deletable": true,
    "editable": true
   },
   "outputs": [],
   "source": [
    "all_features=corp.featurize_data_charlevel_onehot(corp.hun_lower)\n",
    "train=all_features[0:int(len(all_features)*0.8)]\n",
    "test=all_features[int(len(all_features)*0.8):len(all_features)]\n"
   ]
  },
  {
   "cell_type": "code",
   "execution_count": 6,
   "metadata": {
    "collapsed": false,
    "deletable": true,
    "editable": true
   },
   "outputs": [
    {
     "name": "stdout",
     "output_type": "stream",
     "text": [
      "(635, 360)\n"
     ]
    }
   ],
   "source": [
    "x_train = train.reshape((len(train), np.prod(train.shape[1:])))\n",
    "x_test = test.reshape((len(test), np.prod(test.shape[1:])))\n",
    "print(x_train.shape)"
   ]
  },
  {
   "cell_type": "code",
   "execution_count": 7,
   "metadata": {
    "collapsed": false,
    "deletable": true,
    "editable": true
   },
   "outputs": [],
   "source": [
    "import random\n",
    "import matplotlib.pyplot as plt\n",
    "\n",
    "class Experiment:\n",
    "    def __init__(self,x_train,x_test,y_train,y_test,layer_intervals,encoder_index,optimizer,lossmethod,step_size=0):\n",
    "        self.layernum=len(layer_intervals)\n",
    "        self.layer_intervals=layer_intervals\n",
    "        self.encoder_index=encoder_index\n",
    "        self.optimizer=optimizer\n",
    "        self.lossmethod=loss\n",
    "        self.tried_list=[]\n",
    "        self.train_losses=[]\n",
    "        self.test_losses=[]\n",
    "        self.x_train=x_train\n",
    "        self.y_train=y_train\n",
    "        self.train_len=len(x_train)\n",
    "        self.test_len=len(x_test)\n",
    "        self.x_test=x_test\n",
    "        self.y_test=y_test\n",
    "        \n",
    "        self.data_dim=x_train[0].shape[0]*x_train[0].shape[1]\n",
    "        \n",
    "        \n",
    "    def gen_model(self,layer_data,type):\n",
    "        \"\"\"\n",
    "        @layer_data: [[size,activation],[size,activation]] with the last layer\n",
    "        \"\"\"\n",
    "\n",
    "        \n",
    "    def run(self):\n",
    "        \"\"\"\n",
    "        \"\"\"\n",
    "        \n",
    "        \n",
    "    def show_words(predict_base,num=30):\n",
    "        encoded_text=encoder.predict(predict_base)\n",
    "        decoded_text = decoder.predict(encoded_text)\n",
    "        for i in range(num):\n",
    "            x=random.randint(0,len(predict_base)-1)\n",
    "            print(\"original:\\t\",corp.defeaturize_data_charlevel_onehot([predict_base[x].reshape(10,36)]),\\\n",
    "                  \"\\tdecoded:\\t\",corp.defeaturize_data_charlevel_onehot([decoded_text[x].reshape(10,36)]))\n",
    "            \n",
    "    def plot_words_as_img():\n",
    "        \n",
    "        encoded_imgs=encoder.predict(x_train)\n",
    "        decoded_imgs = decoder.predict(encoded_imgs)\n",
    "        n = 6  # how many digits we will display\n",
    "        plt.figure(figsize=(21, 4))\n",
    "        \n",
    "        for i in range(n):\n",
    "            # display original\n",
    "            ax = plt.subplot(2, n, i + 1)\n",
    "            plt.imshow(x_test[i].reshape(10, 36))\n",
    "            plt.gray()\n",
    "            ax.get_xaxis().set_visible(False)\n",
    "            ax.get_yaxis().set_visible(False)\n",
    "\n",
    "            # display reconstruction\n",
    "            ax = plt.subplot(2, n, i + 1 + n)\n",
    "            plt.imshow(decoded_imgs[i].reshape(10,36))\n",
    "\n",
    "            ax.get_xaxis().set_visible(False)\n",
    "            ax.get_yaxis().set_visible(False)\n",
    "        plt.show()"
   ]
  },
  {
   "cell_type": "code",
   "execution_count": 8,
   "metadata": {
    "collapsed": false,
    "deletable": true,
    "editable": true
   },
   "outputs": [],
   "source": [
    "def xavier_init(fan_in, fan_out, constant = 1):\n",
    "    low = -constant * np.sqrt(6.0 / (fan_in + fan_out))\n",
    "    high = constant * np.sqrt(6.0 / (fan_in + fan_out))\n",
    "    return tf.random_uniform((fan_in, fan_out),\n",
    "                             minval = low, maxval = high,\n",
    "                             dtype = tf.float32)"
   ]
  },
  {
   "cell_type": "code",
   "execution_count": 11,
   "metadata": {
    "collapsed": false,
    "deletable": true,
    "editable": true
   },
   "outputs": [],
   "source": [
    "class Autoencoder_ffnn():\n",
    "\n",
    "    def __init__(self, featurelen,length,layerlist,encode_index,optimizer = tf.train.AdamOptimizer()):\n",
    "        \"\"\"\n",
    "        \"\"\"\n",
    "        self.layerlist=layerlist\n",
    "        self.layernum=len(layerlist)\n",
    "        self.n_input = featurelen*length\n",
    "        self.encode_index=encode_index\n",
    "\n",
    "        network_weights = self._initialize_weights()\n",
    "        self.weights = network_weights  \n",
    "\n",
    "        self._create_layers()\n",
    "\n",
    "        # cost\n",
    "        self.cost =  0.5*tf.reduce_sum(tf.pow(tf.subtract(self.reconstruction, self.x), 2.0))\n",
    "        self.optimizer = optimizer.minimize(self.cost)\n",
    "\n",
    "        init = tf.global_variables_initializer()\n",
    "        self.sess = tf.Session(config=config)\n",
    "        self.sess.run(init)\n",
    "\n",
    "\n",
    "    def _initialize_weights(self):\n",
    "        all_weights = dict()\n",
    "        \n",
    "        all_weights['w'+str(1)]=tf.Variable(xavier_init(self.n_input, self.layerlist[0][0]))\n",
    "        all_weights['b'+str(1)] = tf.Variable(tf.random_normal([self.layerlist[0][0]], dtype=tf.float32))\n",
    "        \n",
    "        for i in range(1,self.layernum):\n",
    "            all_weights['w'+str(i+1)]=tf.Variable(xavier_init(self.layerlist[i-1][0], self.layerlist[i][0]))\n",
    "            all_weights['b'+str(i+1)] = tf.Variable(tf.random_normal([self.layerlist[i][0]], dtype=tf.float32))\n",
    "\n",
    "        return all_weights\n",
    "    \n",
    "    def _create_layers(self):\n",
    "        \"\"\"\n",
    "        \"\"\"\n",
    "        self.x = tf.placeholder(tf.float32, [None, self.n_input])\n",
    "        layer=(self.layerlist[0][1])(tf.add(tf.matmul(self.x, self.weights['w1']), self.weights['b1']))\n",
    "\n",
    "        for i in range(1,self.layernum):\n",
    "            layer=(self.layerlist[i][1])(tf.add(tf.matmul(layer, self.weights['w'+str(i+1)]), self.weights['b'+str(i+1)]))\n",
    "            if i==self.encode_index:\n",
    "                print(\"enc\")\n",
    "                self.encoded=layer\n",
    "            \n",
    "        self.reconstruction=layer\n",
    "\n",
    "    def partial_fit(self, X):\n",
    "        cost, opt = self.sess.run((self.cost, self.optimizer), feed_dict={self.x: X})\n",
    "        return cost\n",
    "\n",
    "    def calc_total_cost(self, X):\n",
    "        return self.sess.run(self.cost, feed_dict = {self.x: X})\n",
    "\n",
    "    def encode(self, X):\n",
    "        return self.sess.run(self.encoded, feed_dict={self.x: X})\n",
    "\n",
    "    def decode(self, encoded = None):\n",
    "        if encoded is None:\n",
    "            encoded = np.random.normal(size=self.weights[\"b1\"])\n",
    "        return self.sess.run(self.reconstruction, feed_dict={self.encoded: encoded})\n",
    "\n",
    "    def reconstruct(self, X):\n",
    "        return self.sess.run(self.reconstruction, feed_dict={self.x: X})\n",
    "    \n",
    "    def train(self,X_train,X_test,batch_size,max_epochs):\n",
    "        for epoch in range(training_epochs):\n",
    "            avg_cost = 0.\n",
    "            total_batch = int(len(X_train) / batch_size)\n",
    "            # Loop over all batches\n",
    "            for i in range(total_batch):\n",
    "                batch_xs = self.get_random_block_from_data(X_train, batch_size)\n",
    "               \n",
    "                cost = autoencoder.partial_fit(batch_xs)\n",
    "                \n",
    "                avg_cost += cost / batch_size\n",
    "\n",
    "            # Display logs per epoch step\n",
    "            if epoch % display_step == 0:\n",
    "                print (\"Epoch:\", '%04d' % (epoch + 1), \\\n",
    "                    \"cost=\", \"{:.9f}\".format(avg_cost))\n",
    "        \n",
    "    def get_random_block_from_data(self,data, batch_size):\n",
    "        start_index = np.random.randint(0, len(data) - batch_size)\n",
    "        return data[start_index:(start_index + batch_size)]\n",
    "\n",
    "\n",
    "\n"
   ]
  },
  {
   "cell_type": "code",
   "execution_count": 12,
   "metadata": {
    "collapsed": false,
    "deletable": true,
    "editable": true
   },
   "outputs": [
    {
     "name": "stdout",
     "output_type": "stream",
     "text": [
      "enc\n",
      "Epoch: 0001 cost= 377.750579834\n",
      "Epoch: 0002 cost= 264.108947754\n",
      "Epoch: 0003 cost= 180.662933350\n",
      "Epoch: 0004 cost= 122.661010742\n",
      "Epoch: 0005 cost= 84.033103943\n",
      "Epoch: 0006 cost= 59.023227692\n",
      "Epoch: 0007 cost= 43.621856689\n",
      "Epoch: 0008 cost= 34.989223480\n",
      "Epoch: 0009 cost= 30.748939514\n",
      "Epoch: 0010 cost= 28.989616394\n",
      "Epoch: 0011 cost= 28.383623123\n",
      "Epoch: 0012 cost= 28.152194977\n",
      "Epoch: 0013 cost= 28.092395782\n",
      "Epoch: 0014 cost= 27.736381531\n",
      "Epoch: 0015 cost= 26.938390732\n",
      "Epoch: 0016 cost= 25.763677597\n",
      "Epoch: 0017 cost= 24.220701218\n",
      "Epoch: 0018 cost= 22.624408722\n",
      "Epoch: 0019 cost= 21.074457169\n",
      "Epoch: 0020 cost= 19.583486557\n",
      "Epoch: 0021 cost= 18.053680420\n",
      "Epoch: 0022 cost= 16.471735001\n",
      "Epoch: 0023 cost= 14.935171127\n",
      "Epoch: 0024 cost= 13.407072067\n",
      "Epoch: 0025 cost= 11.978285789\n",
      "Epoch: 0026 cost= 10.814364433\n",
      "Epoch: 0027 cost= 9.720423698\n",
      "Epoch: 0028 cost= 8.896183968\n",
      "Epoch: 0029 cost= 8.225956917\n",
      "Epoch: 0030 cost= 7.810714245\n",
      "Epoch: 0031 cost= 7.456594944\n",
      "Epoch: 0032 cost= 7.149408340\n",
      "Epoch: 0033 cost= 6.929116726\n",
      "Epoch: 0034 cost= 6.674571037\n",
      "Epoch: 0035 cost= 6.399944782\n",
      "Epoch: 0036 cost= 6.086521149\n",
      "Epoch: 0037 cost= 5.833723545\n",
      "Epoch: 0038 cost= 5.560851097\n",
      "Epoch: 0039 cost= 5.382024765\n",
      "Epoch: 0040 cost= 5.113858700\n",
      "Total cost: 862.175\n"
     ]
    }
   ],
   "source": [
    "\n",
    "\n",
    "training_epochs = 40\n",
    "batch_size = 1280\n",
    "\n",
    "def ekv(e):\n",
    "    return e\n",
    "display_step = 1\n",
    "a=[[360,tf.nn.softplus],[360,ekv]]\n",
    "\n",
    "autoencoder = Autoencoder_ffnn(10,36,\n",
    "                          layerlist=a,\n",
    "                          encode_index=1,\n",
    "                          optimizer = tf.train.AdamOptimizer(learning_rate = 0.001))\n",
    "autoencoder.train(x_train,x_test,512,10)\n",
    "\n",
    "\n",
    "print (\"Total cost: \" + str(autoencoder.calc_total_cost(x_test)))\n"
   ]
  },
  {
   "cell_type": "code",
   "execution_count": null,
   "metadata": {
    "collapsed": false,
    "deletable": true,
    "editable": true
   },
   "outputs": [],
   "source": []
  },
  {
   "cell_type": "code",
   "execution_count": null,
   "metadata": {
    "collapsed": true,
    "deletable": true,
    "editable": true
   },
   "outputs": [],
   "source": []
  },
  {
   "cell_type": "code",
   "execution_count": null,
   "metadata": {
    "collapsed": true,
    "deletable": true,
    "editable": true
   },
   "outputs": [],
   "source": []
  }
 ],
 "metadata": {
  "kernelspec": {
   "display_name": "Python 3",
   "language": "python",
   "name": "python3"
  },
  "language_info": {
   "codemirror_mode": {
    "name": "ipython",
    "version": 3
   },
   "file_extension": ".py",
   "mimetype": "text/x-python",
   "name": "python",
   "nbconvert_exporter": "python",
   "pygments_lexer": "ipython3",
   "version": "3.4.2"
  }
 },
 "nbformat": 4,
 "nbformat_minor": 2
}
